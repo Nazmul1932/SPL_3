{
  "cells": [
    {
      "cell_type": "markdown",
      "metadata": {
        "id": "view-in-github",
        "colab_type": "text"
      },
      "source": [
        "<a href=\"https://colab.research.google.com/github/Nazmul1932/SPL_3/blob/main/spl3.ipynb\" target=\"_parent\"><img src=\"https://colab.research.google.com/assets/colab-badge.svg\" alt=\"Open In Colab\"/></a>"
      ]
    },
    {
      "cell_type": "code",
      "source": [
        "\n",
        "from google.colab import drive\n",
        "drive.mount('/content/drive')\n",
        "\n"
      ],
      "metadata": {
        "id": "XYTh6R8J-XkE"
      },
      "execution_count": null,
      "outputs": []
    },
    {
      "cell_type": "code",
      "source": [],
      "metadata": {
        "id": "WBfUn4ydsQJo"
      },
      "execution_count": null,
      "outputs": []
    },
    {
      "cell_type": "code",
      "execution_count": null,
      "metadata": {
        "id": "aboFd-yUs61z"
      },
      "outputs": [],
      "source": [
        "!python -m pip install --upgrade pip\n",
        "!pip install pyLDAvis\n",
        "# import pyLDAvis\n",
        "import pyLDAvis.gensim_models # don't skip this\n",
        "\n",
        "from pprint import pprint\n",
        "import time\n",
        "import pandas as pd\n",
        "import re\n",
        "import string\n",
        "import nltk\n",
        "from gensim.models import CoherenceModel\n",
        "import gensim\n",
        "from gensim.utils import simple_preprocess as SIMPLE_PREPROCESS  \n",
        "from nltk.stem import WordNetLemmatizer\n",
        "from gensim.parsing.preprocessing import STOPWORDS as STOP_WORDS\n",
        "from nltk.corpus import stopwords\n",
        "from nltk import word_tokenize\n",
        "from nltk.stem.porter import *\n",
        "import numpy as np\n",
        "from gensim import corpora,models\n",
        "import time\n",
        "import pickle\n",
        "import warnings\n",
        "warnings.filterwarnings(\"ignore\")\n",
        "\n",
        "import matplotlib.pyplot as plt\n",
        "%matplotlib inline\n",
        "nltk.download('stopwords')\n",
        "nltk.download('wordnet')\n",
        "nltk.download('omw-1.4')\n",
        "\n",
        "import collections\n",
        "\n",
        "try:\n",
        "    collectionsAbc = collections.abc\n",
        "except AttributeError:\n",
        "    collectionsAbc = collections \n",
        "try:\n",
        "    from collections.abc import Callable  # noqa\n",
        "except ImportError:\n",
        "    from collections import Callable  # noqa\n",
        "\n",
        "\n",
        "from sklearn.metrics.pairwise import linear_kernel\n",
        "from sklearn.cluster import MiniBatchKMeans"
      ]
    },
    {
      "cell_type": "code",
      "source": [],
      "metadata": {
        "id": "sfocC2hEAxWQ"
      },
      "execution_count": null,
      "outputs": []
    },
    {
      "cell_type": "code",
      "execution_count": null,
      "metadata": {
        "id": "Y8tx6cheKjQx"
      },
      "outputs": [],
      "source": [
        "pd.options.display.max_colwidth = 1000\n",
        "pd.options.display.max_rows = 1000"
      ]
    },
    {
      "cell_type": "code",
      "execution_count": null,
      "metadata": {
        "id": "90QWAv8MjYZB",
        "colab": {
          "base_uri": "https://localhost:8080/",
          "height": 1000
        },
        "outputId": "8c5692a7-a459-4632-91b6-ce64ffc598d8"
      },
      "outputs": [
        {
          "output_type": "execute_result",
          "data": {
            "text/plain": [
              "   Issue_id Priority Component  Duplicated_issue  \\\n",
              "0         1       P3      Team               NaN   \n",
              "1         2       P5      Team               NaN   \n",
              "2         3       P5      Team               NaN   \n",
              "3         4       P5      Team               NaN   \n",
              "4         5       P3      Team               NaN   \n",
              "\n",
              "                                                                        Title  \\\n",
              "0                             Usability issue with external editors (1GE6IRL)   \n",
              "1                    Opening repository resources doesnt honor type (1GE6I1Q)   \n",
              "2                                   Sync does not indicate deletion (1GIEN83)   \n",
              "3  need better error message if catching up over read-only resource (1GF69TF)   \n",
              "4                          ISharingManager sharing API inconsistent (1GAUL8H)   \n",
              "\n",
              "                                                                                                                                                                                                                                                                                                                                                                                                                                                                                                                                                                                                                                                                                                                                                                                                                                                                                                                                                                                                                               Description  \\\n",
              "0  - Setup a project that contains a *.gif resource; \\t- release project to CVS; \\t- edit the *.gif resource with an external editor; e.g. PaintShop; \\t- save and close external editor; \\t- in Navigator open the icon resource and verify that your changes are there; \\t- release project; \\t\\t-> nothing to release!; \\t- in Navigator open the icon resource and verify that your changes are still there; ; \\tProblem: because I never Refreshed from local; the workspace hasnt changed so Release didnt find anything.; \\tHowever opening the resource with an external editor found the modified file on disk and showed the changes.; ; \\tThe real problem occurs if Release actually finds something to release but you dont spot that some resources are missing.; \\tThis is extremely error prone: one of my changes didnt made it into build 110 because of this!; ; NOTES:; EG (5/23/01 3:00:33 PM); \\tRelease should do a refresh from local before doing the release.; \\tMoving to VCM; ; ; KM (05/27/01 5:10:19 PM);...   \n",
              "1  Opening repository resource always open the default text editor and doesnt; \\thonor any mapping between resource types and editors.; \\tAs a result it is not possible to view the contents of an image (*.gif file) in a sensible way.; ; NOTES:; EG (5/24/2001 5:13:45 AM); \\tAgreed that this is needed eventually but not critical for June. \\t; \\tThere should also be a Java outliner when editing a java resource from the repository.; \\tMoving to VCM.; ; KM (5/24/01 2:09:21 PM); \\tIn general you cannot open a specialized editor on a remote resource because they can sometimes; \\tbe dependent on other resources and expect these to be local.  For example; an HTML page which; \\treferences a graphic; the HTML editor is going to try to look for the graphic to display it.; ; \\tYou cant be sure that the editor was written to accomodate remote or missing resources.; \\tWe discussed this some time ago with Dave T. and felt it was safer to just use vanilla editors for now.; ; KM (5/24/01 4:42:09 PM); \\...   \n",
              "2  KM (10/2/2001 5:55:18 PM); \\tThis PR about the deletion indicator in the sync viewer being too subtle.; \\tThis would be even more true for someone with vision problems.; \\tNE has good suggestion of using the label of the compare text viewer.; \\tWe may also consider a better icon.; \\tOn to the PR....; ; - delete file from project; - synchronize; - there is no indication that the file has been deleted from the workspace; - it looks the same as if the file is in the workspace but is empty; ; NOTES:; ; KM (8/15/2001 3:37:53 PM); \\tIt should appear as a rightfacing - arrow in the sync view.; \\tSent screen cap to NE requesting clarification.; ; NE (8/20/01 9:13:38 AM); \\tThe - in the arrow is clearer when there are other arrows present too (the + and change ones).; \\tOtherwise; its easy to miss the distinction; especially when the users attention is focussed; \\ton the text compare panes.; \\tId expect the Workspace file: label to indicate that it has been deleted.; \\tThe Repository file: ...   \n",
              "3                                                                                                                                                                                                                                                                                                                                                                    - become synchronized with some project in a repository; - use a different Eclipse to make a change to a file resource within this project and release it to the repository; - in the original Eclipse mark this file resource as being read-only (select it; right-click -> Properties; change; OK); - select the file resource; right-click -> Team -> Synchronize with Stream; - in the subsequent comparison view select the file resource; right-click -> Catchup; - since it has been marked as read-only there are inevitable problems.  However the error dialog that is shown; \\tdoes not offer much assistance (An IO error occurred: IO Error); ; ; NOTES:   \n",
              "4                                                                                                                                                                                                                                                                                                                                                                                                                                                                                                                                                            For getting/setting the managed state of a resource; the methods are:; ; isManaged(resource) and; manage(resource); ; for getting/setting the ignore state; the methods are:; ; getIgnored(resource); setIgnored(resource); ; These should be made more consistent.  I suggest renaming ignore methods:; ; isIgnored(resource) and; ignore(resource).; ; I think its good practice to not use get and set in method names unless its really; just a field accessor.; ; NOTES:   \n",
              "\n",
              "     Status Resolution Version      Created_time   Resolved_time  \n",
              "0    CLOSED      FIXED       2  10/10/2001 21:34  2/9/2012 15:57  \n",
              "1  RESOLVED      FIXED       2  10/10/2001 21:34  5/7/2002 10:33  \n",
              "2  RESOLVED      FIXED       2  10/10/2001 21:34  5/7/2010 10:28  \n",
              "3  RESOLVED      FIXED       2  10/10/2001 21:34  3/1/2002 16:27  \n",
              "4  RESOLVED    WONTFIX       2  10/10/2001 21:34  8/15/2008 8:04  "
            ],
            "text/html": [
              "\n",
              "  <div id=\"df-bd35775c-205e-4e4d-975d-fa4d55c96d4f\">\n",
              "    <div class=\"colab-df-container\">\n",
              "      <div>\n",
              "<style scoped>\n",
              "    .dataframe tbody tr th:only-of-type {\n",
              "        vertical-align: middle;\n",
              "    }\n",
              "\n",
              "    .dataframe tbody tr th {\n",
              "        vertical-align: top;\n",
              "    }\n",
              "\n",
              "    .dataframe thead th {\n",
              "        text-align: right;\n",
              "    }\n",
              "</style>\n",
              "<table border=\"1\" class=\"dataframe\">\n",
              "  <thead>\n",
              "    <tr style=\"text-align: right;\">\n",
              "      <th></th>\n",
              "      <th>Issue_id</th>\n",
              "      <th>Priority</th>\n",
              "      <th>Component</th>\n",
              "      <th>Duplicated_issue</th>\n",
              "      <th>Title</th>\n",
              "      <th>Description</th>\n",
              "      <th>Status</th>\n",
              "      <th>Resolution</th>\n",
              "      <th>Version</th>\n",
              "      <th>Created_time</th>\n",
              "      <th>Resolved_time</th>\n",
              "    </tr>\n",
              "  </thead>\n",
              "  <tbody>\n",
              "    <tr>\n",
              "      <th>0</th>\n",
              "      <td>1</td>\n",
              "      <td>P3</td>\n",
              "      <td>Team</td>\n",
              "      <td>NaN</td>\n",
              "      <td>Usability issue with external editors (1GE6IRL)</td>\n",
              "      <td>- Setup a project that contains a *.gif resource; \\t- release project to CVS; \\t- edit the *.gif resource with an external editor; e.g. PaintShop; \\t- save and close external editor; \\t- in Navigator open the icon resource and verify that your changes are there; \\t- release project; \\t\\t-&gt; nothing to release!; \\t- in Navigator open the icon resource and verify that your changes are still there; ; \\tProblem: because I never Refreshed from local; the workspace hasnt changed so Release didnt find anything.; \\tHowever opening the resource with an external editor found the modified file on disk and showed the changes.; ; \\tThe real problem occurs if Release actually finds something to release but you dont spot that some resources are missing.; \\tThis is extremely error prone: one of my changes didnt made it into build 110 because of this!; ; NOTES:; EG (5/23/01 3:00:33 PM); \\tRelease should do a refresh from local before doing the release.; \\tMoving to VCM; ; ; KM (05/27/01 5:10:19 PM);...</td>\n",
              "      <td>CLOSED</td>\n",
              "      <td>FIXED</td>\n",
              "      <td>2</td>\n",
              "      <td>10/10/2001 21:34</td>\n",
              "      <td>2/9/2012 15:57</td>\n",
              "    </tr>\n",
              "    <tr>\n",
              "      <th>1</th>\n",
              "      <td>2</td>\n",
              "      <td>P5</td>\n",
              "      <td>Team</td>\n",
              "      <td>NaN</td>\n",
              "      <td>Opening repository resources doesnt honor type (1GE6I1Q)</td>\n",
              "      <td>Opening repository resource always open the default text editor and doesnt; \\thonor any mapping between resource types and editors.; \\tAs a result it is not possible to view the contents of an image (*.gif file) in a sensible way.; ; NOTES:; EG (5/24/2001 5:13:45 AM); \\tAgreed that this is needed eventually but not critical for June. \\t; \\tThere should also be a Java outliner when editing a java resource from the repository.; \\tMoving to VCM.; ; KM (5/24/01 2:09:21 PM); \\tIn general you cannot open a specialized editor on a remote resource because they can sometimes; \\tbe dependent on other resources and expect these to be local.  For example; an HTML page which; \\treferences a graphic; the HTML editor is going to try to look for the graphic to display it.; ; \\tYou cant be sure that the editor was written to accomodate remote or missing resources.; \\tWe discussed this some time ago with Dave T. and felt it was safer to just use vanilla editors for now.; ; KM (5/24/01 4:42:09 PM); \\...</td>\n",
              "      <td>RESOLVED</td>\n",
              "      <td>FIXED</td>\n",
              "      <td>2</td>\n",
              "      <td>10/10/2001 21:34</td>\n",
              "      <td>5/7/2002 10:33</td>\n",
              "    </tr>\n",
              "    <tr>\n",
              "      <th>2</th>\n",
              "      <td>3</td>\n",
              "      <td>P5</td>\n",
              "      <td>Team</td>\n",
              "      <td>NaN</td>\n",
              "      <td>Sync does not indicate deletion (1GIEN83)</td>\n",
              "      <td>KM (10/2/2001 5:55:18 PM); \\tThis PR about the deletion indicator in the sync viewer being too subtle.; \\tThis would be even more true for someone with vision problems.; \\tNE has good suggestion of using the label of the compare text viewer.; \\tWe may also consider a better icon.; \\tOn to the PR....; ; - delete file from project; - synchronize; - there is no indication that the file has been deleted from the workspace; - it looks the same as if the file is in the workspace but is empty; ; NOTES:; ; KM (8/15/2001 3:37:53 PM); \\tIt should appear as a rightfacing - arrow in the sync view.; \\tSent screen cap to NE requesting clarification.; ; NE (8/20/01 9:13:38 AM); \\tThe - in the arrow is clearer when there are other arrows present too (the + and change ones).; \\tOtherwise; its easy to miss the distinction; especially when the users attention is focussed; \\ton the text compare panes.; \\tId expect the Workspace file: label to indicate that it has been deleted.; \\tThe Repository file: ...</td>\n",
              "      <td>RESOLVED</td>\n",
              "      <td>FIXED</td>\n",
              "      <td>2</td>\n",
              "      <td>10/10/2001 21:34</td>\n",
              "      <td>5/7/2010 10:28</td>\n",
              "    </tr>\n",
              "    <tr>\n",
              "      <th>3</th>\n",
              "      <td>4</td>\n",
              "      <td>P5</td>\n",
              "      <td>Team</td>\n",
              "      <td>NaN</td>\n",
              "      <td>need better error message if catching up over read-only resource (1GF69TF)</td>\n",
              "      <td>- become synchronized with some project in a repository; - use a different Eclipse to make a change to a file resource within this project and release it to the repository; - in the original Eclipse mark this file resource as being read-only (select it; right-click -&gt; Properties; change; OK); - select the file resource; right-click -&gt; Team -&gt; Synchronize with Stream; - in the subsequent comparison view select the file resource; right-click -&gt; Catchup; - since it has been marked as read-only there are inevitable problems.  However the error dialog that is shown; \\tdoes not offer much assistance (An IO error occurred: IO Error); ; ; NOTES:</td>\n",
              "      <td>RESOLVED</td>\n",
              "      <td>FIXED</td>\n",
              "      <td>2</td>\n",
              "      <td>10/10/2001 21:34</td>\n",
              "      <td>3/1/2002 16:27</td>\n",
              "    </tr>\n",
              "    <tr>\n",
              "      <th>4</th>\n",
              "      <td>5</td>\n",
              "      <td>P3</td>\n",
              "      <td>Team</td>\n",
              "      <td>NaN</td>\n",
              "      <td>ISharingManager sharing API inconsistent (1GAUL8H)</td>\n",
              "      <td>For getting/setting the managed state of a resource; the methods are:; ; isManaged(resource) and; manage(resource); ; for getting/setting the ignore state; the methods are:; ; getIgnored(resource); setIgnored(resource); ; These should be made more consistent.  I suggest renaming ignore methods:; ; isIgnored(resource) and; ignore(resource).; ; I think its good practice to not use get and set in method names unless its really; just a field accessor.; ; NOTES:</td>\n",
              "      <td>RESOLVED</td>\n",
              "      <td>WONTFIX</td>\n",
              "      <td>2</td>\n",
              "      <td>10/10/2001 21:34</td>\n",
              "      <td>8/15/2008 8:04</td>\n",
              "    </tr>\n",
              "  </tbody>\n",
              "</table>\n",
              "</div>\n",
              "      <button class=\"colab-df-convert\" onclick=\"convertToInteractive('df-bd35775c-205e-4e4d-975d-fa4d55c96d4f')\"\n",
              "              title=\"Convert this dataframe to an interactive table.\"\n",
              "              style=\"display:none;\">\n",
              "        \n",
              "  <svg xmlns=\"http://www.w3.org/2000/svg\" height=\"24px\"viewBox=\"0 0 24 24\"\n",
              "       width=\"24px\">\n",
              "    <path d=\"M0 0h24v24H0V0z\" fill=\"none\"/>\n",
              "    <path d=\"M18.56 5.44l.94 2.06.94-2.06 2.06-.94-2.06-.94-.94-2.06-.94 2.06-2.06.94zm-11 1L8.5 8.5l.94-2.06 2.06-.94-2.06-.94L8.5 2.5l-.94 2.06-2.06.94zm10 10l.94 2.06.94-2.06 2.06-.94-2.06-.94-.94-2.06-.94 2.06-2.06.94z\"/><path d=\"M17.41 7.96l-1.37-1.37c-.4-.4-.92-.59-1.43-.59-.52 0-1.04.2-1.43.59L10.3 9.45l-7.72 7.72c-.78.78-.78 2.05 0 2.83L4 21.41c.39.39.9.59 1.41.59.51 0 1.02-.2 1.41-.59l7.78-7.78 2.81-2.81c.8-.78.8-2.07 0-2.86zM5.41 20L4 18.59l7.72-7.72 1.47 1.35L5.41 20z\"/>\n",
              "  </svg>\n",
              "      </button>\n",
              "      \n",
              "  <style>\n",
              "    .colab-df-container {\n",
              "      display:flex;\n",
              "      flex-wrap:wrap;\n",
              "      gap: 12px;\n",
              "    }\n",
              "\n",
              "    .colab-df-convert {\n",
              "      background-color: #E8F0FE;\n",
              "      border: none;\n",
              "      border-radius: 50%;\n",
              "      cursor: pointer;\n",
              "      display: none;\n",
              "      fill: #1967D2;\n",
              "      height: 32px;\n",
              "      padding: 0 0 0 0;\n",
              "      width: 32px;\n",
              "    }\n",
              "\n",
              "    .colab-df-convert:hover {\n",
              "      background-color: #E2EBFA;\n",
              "      box-shadow: 0px 1px 2px rgba(60, 64, 67, 0.3), 0px 1px 3px 1px rgba(60, 64, 67, 0.15);\n",
              "      fill: #174EA6;\n",
              "    }\n",
              "\n",
              "    [theme=dark] .colab-df-convert {\n",
              "      background-color: #3B4455;\n",
              "      fill: #D2E3FC;\n",
              "    }\n",
              "\n",
              "    [theme=dark] .colab-df-convert:hover {\n",
              "      background-color: #434B5C;\n",
              "      box-shadow: 0px 1px 3px 1px rgba(0, 0, 0, 0.15);\n",
              "      filter: drop-shadow(0px 1px 2px rgba(0, 0, 0, 0.3));\n",
              "      fill: #FFFFFF;\n",
              "    }\n",
              "  </style>\n",
              "\n",
              "      <script>\n",
              "        const buttonEl =\n",
              "          document.querySelector('#df-bd35775c-205e-4e4d-975d-fa4d55c96d4f button.colab-df-convert');\n",
              "        buttonEl.style.display =\n",
              "          google.colab.kernel.accessAllowed ? 'block' : 'none';\n",
              "\n",
              "        async function convertToInteractive(key) {\n",
              "          const element = document.querySelector('#df-bd35775c-205e-4e4d-975d-fa4d55c96d4f');\n",
              "          const dataTable =\n",
              "            await google.colab.kernel.invokeFunction('convertToInteractive',\n",
              "                                                     [key], {});\n",
              "          if (!dataTable) return;\n",
              "\n",
              "          const docLinkHtml = 'Like what you see? Visit the ' +\n",
              "            '<a target=\"_blank\" href=https://colab.research.google.com/notebooks/data_table.ipynb>data table notebook</a>'\n",
              "            + ' to learn more about interactive tables.';\n",
              "          element.innerHTML = '';\n",
              "          dataTable['output_type'] = 'display_data';\n",
              "          await google.colab.output.renderOutput(dataTable, element);\n",
              "          const docLink = document.createElement('div');\n",
              "          docLink.innerHTML = docLinkHtml;\n",
              "          element.appendChild(docLink);\n",
              "        }\n",
              "      </script>\n",
              "    </div>\n",
              "  </div>\n",
              "  "
            ]
          },
          "metadata": {},
          "execution_count": 46
        }
      ],
      "source": [
        "csv_file = \"/content/drive/MyDrive/eclipse_platform.csv\"\n",
        "\n",
        "bug_report = pd.read_csv(csv_file)\n",
        "bug_report.head(5)"
      ]
    },
    {
      "cell_type": "code",
      "source": [
        "bug_report[\"Priority\"].value_counts()"
      ],
      "metadata": {
        "id": "G1iXrRbkfOXB"
      },
      "execution_count": null,
      "outputs": []
    },
    {
      "cell_type": "code",
      "execution_count": null,
      "metadata": {
        "id": "hbIUBcdYjiqJ",
        "colab": {
          "base_uri": "https://localhost:8080/",
          "height": 350
        },
        "outputId": "de49a82f-f51d-48c8-ec6f-741024253233"
      },
      "outputs": [
        {
          "output_type": "stream",
          "name": "stdout",
          "text": [
            "CPU times: user 79.4 ms, sys: 1.03 ms, total: 80.5 ms\n",
            "Wall time: 80.9 ms\n"
          ]
        },
        {
          "output_type": "execute_result",
          "data": {
            "text/plain": [
              "   Issue_id Priority  Duplicated_issue  \\\n",
              "0         1       P3               NaN   \n",
              "\n",
              "                                             Title  \\\n",
              "0  Usability issue with external editors (1GE6IRL)   \n",
              "\n",
              "                                                                                                                                                                                                                                                                                                                                                                                                                                                                                                                                                                                                                                                                                                                                                                                                                                                                                                                                                                                                                               Description  \n",
              "0  - Setup a project that contains a *.gif resource; \\t- release project to CVS; \\t- edit the *.gif resource with an external editor; e.g. PaintShop; \\t- save and close external editor; \\t- in Navigator open the icon resource and verify that your changes are there; \\t- release project; \\t\\t-> nothing to release!; \\t- in Navigator open the icon resource and verify that your changes are still there; ; \\tProblem: because I never Refreshed from local; the workspace hasnt changed so Release didnt find anything.; \\tHowever opening the resource with an external editor found the modified file on disk and showed the changes.; ; \\tThe real problem occurs if Release actually finds something to release but you dont spot that some resources are missing.; \\tThis is extremely error prone: one of my changes didnt made it into build 110 because of this!; ; NOTES:; EG (5/23/01 3:00:33 PM); \\tRelease should do a refresh from local before doing the release.; \\tMoving to VCM; ; ; KM (05/27/01 5:10:19 PM);...  "
            ],
            "text/html": [
              "\n",
              "  <div id=\"df-672cf062-f79c-448d-b766-6cd2ff9059e5\">\n",
              "    <div class=\"colab-df-container\">\n",
              "      <div>\n",
              "<style scoped>\n",
              "    .dataframe tbody tr th:only-of-type {\n",
              "        vertical-align: middle;\n",
              "    }\n",
              "\n",
              "    .dataframe tbody tr th {\n",
              "        vertical-align: top;\n",
              "    }\n",
              "\n",
              "    .dataframe thead th {\n",
              "        text-align: right;\n",
              "    }\n",
              "</style>\n",
              "<table border=\"1\" class=\"dataframe\">\n",
              "  <thead>\n",
              "    <tr style=\"text-align: right;\">\n",
              "      <th></th>\n",
              "      <th>Issue_id</th>\n",
              "      <th>Priority</th>\n",
              "      <th>Duplicated_issue</th>\n",
              "      <th>Title</th>\n",
              "      <th>Description</th>\n",
              "    </tr>\n",
              "  </thead>\n",
              "  <tbody>\n",
              "    <tr>\n",
              "      <th>0</th>\n",
              "      <td>1</td>\n",
              "      <td>P3</td>\n",
              "      <td>NaN</td>\n",
              "      <td>Usability issue with external editors (1GE6IRL)</td>\n",
              "      <td>- Setup a project that contains a *.gif resource; \\t- release project to CVS; \\t- edit the *.gif resource with an external editor; e.g. PaintShop; \\t- save and close external editor; \\t- in Navigator open the icon resource and verify that your changes are there; \\t- release project; \\t\\t-&gt; nothing to release!; \\t- in Navigator open the icon resource and verify that your changes are still there; ; \\tProblem: because I never Refreshed from local; the workspace hasnt changed so Release didnt find anything.; \\tHowever opening the resource with an external editor found the modified file on disk and showed the changes.; ; \\tThe real problem occurs if Release actually finds something to release but you dont spot that some resources are missing.; \\tThis is extremely error prone: one of my changes didnt made it into build 110 because of this!; ; NOTES:; EG (5/23/01 3:00:33 PM); \\tRelease should do a refresh from local before doing the release.; \\tMoving to VCM; ; ; KM (05/27/01 5:10:19 PM);...</td>\n",
              "    </tr>\n",
              "  </tbody>\n",
              "</table>\n",
              "</div>\n",
              "      <button class=\"colab-df-convert\" onclick=\"convertToInteractive('df-672cf062-f79c-448d-b766-6cd2ff9059e5')\"\n",
              "              title=\"Convert this dataframe to an interactive table.\"\n",
              "              style=\"display:none;\">\n",
              "        \n",
              "  <svg xmlns=\"http://www.w3.org/2000/svg\" height=\"24px\"viewBox=\"0 0 24 24\"\n",
              "       width=\"24px\">\n",
              "    <path d=\"M0 0h24v24H0V0z\" fill=\"none\"/>\n",
              "    <path d=\"M18.56 5.44l.94 2.06.94-2.06 2.06-.94-2.06-.94-.94-2.06-.94 2.06-2.06.94zm-11 1L8.5 8.5l.94-2.06 2.06-.94-2.06-.94L8.5 2.5l-.94 2.06-2.06.94zm10 10l.94 2.06.94-2.06 2.06-.94-2.06-.94-.94-2.06-.94 2.06-2.06.94z\"/><path d=\"M17.41 7.96l-1.37-1.37c-.4-.4-.92-.59-1.43-.59-.52 0-1.04.2-1.43.59L10.3 9.45l-7.72 7.72c-.78.78-.78 2.05 0 2.83L4 21.41c.39.39.9.59 1.41.59.51 0 1.02-.2 1.41-.59l7.78-7.78 2.81-2.81c.8-.78.8-2.07 0-2.86zM5.41 20L4 18.59l7.72-7.72 1.47 1.35L5.41 20z\"/>\n",
              "  </svg>\n",
              "      </button>\n",
              "      \n",
              "  <style>\n",
              "    .colab-df-container {\n",
              "      display:flex;\n",
              "      flex-wrap:wrap;\n",
              "      gap: 12px;\n",
              "    }\n",
              "\n",
              "    .colab-df-convert {\n",
              "      background-color: #E8F0FE;\n",
              "      border: none;\n",
              "      border-radius: 50%;\n",
              "      cursor: pointer;\n",
              "      display: none;\n",
              "      fill: #1967D2;\n",
              "      height: 32px;\n",
              "      padding: 0 0 0 0;\n",
              "      width: 32px;\n",
              "    }\n",
              "\n",
              "    .colab-df-convert:hover {\n",
              "      background-color: #E2EBFA;\n",
              "      box-shadow: 0px 1px 2px rgba(60, 64, 67, 0.3), 0px 1px 3px 1px rgba(60, 64, 67, 0.15);\n",
              "      fill: #174EA6;\n",
              "    }\n",
              "\n",
              "    [theme=dark] .colab-df-convert {\n",
              "      background-color: #3B4455;\n",
              "      fill: #D2E3FC;\n",
              "    }\n",
              "\n",
              "    [theme=dark] .colab-df-convert:hover {\n",
              "      background-color: #434B5C;\n",
              "      box-shadow: 0px 1px 3px 1px rgba(0, 0, 0, 0.15);\n",
              "      filter: drop-shadow(0px 1px 2px rgba(0, 0, 0, 0.3));\n",
              "      fill: #FFFFFF;\n",
              "    }\n",
              "  </style>\n",
              "\n",
              "      <script>\n",
              "        const buttonEl =\n",
              "          document.querySelector('#df-672cf062-f79c-448d-b766-6cd2ff9059e5 button.colab-df-convert');\n",
              "        buttonEl.style.display =\n",
              "          google.colab.kernel.accessAllowed ? 'block' : 'none';\n",
              "\n",
              "        async function convertToInteractive(key) {\n",
              "          const element = document.querySelector('#df-672cf062-f79c-448d-b766-6cd2ff9059e5');\n",
              "          const dataTable =\n",
              "            await google.colab.kernel.invokeFunction('convertToInteractive',\n",
              "                                                     [key], {});\n",
              "          if (!dataTable) return;\n",
              "\n",
              "          const docLinkHtml = 'Like what you see? Visit the ' +\n",
              "            '<a target=\"_blank\" href=https://colab.research.google.com/notebooks/data_table.ipynb>data table notebook</a>'\n",
              "            + ' to learn more about interactive tables.';\n",
              "          element.innerHTML = '';\n",
              "          dataTable['output_type'] = 'display_data';\n",
              "          await google.colab.output.renderOutput(dataTable, element);\n",
              "          const docLink = document.createElement('div');\n",
              "          docLink.innerHTML = docLinkHtml;\n",
              "          element.appendChild(docLink);\n",
              "        }\n",
              "      </script>\n",
              "    </div>\n",
              "  </div>\n",
              "  "
            ]
          },
          "metadata": {},
          "execution_count": 47
        }
      ],
      "source": [
        "%%time\n",
        "\n",
        "bug_report = bug_report.drop(columns=['Component', 'Status', 'Resolution', 'Version', 'Created_time', 'Resolved_time'])\n",
        "bug_report = bug_report.dropna(axis=0, subset=['Description'])\n",
        "bug_report[bug_report['Description'].map(len) > 4]\n",
        "\n",
        "bug_report.head(1)"
      ]
    },
    {
      "cell_type": "code",
      "execution_count": null,
      "metadata": {
        "id": "haOUMetGEADH",
        "colab": {
          "base_uri": "https://localhost:8080/"
        },
        "outputId": "a3372d3b-7fd9-42ca-b3a9-46d94b3c6964"
      },
      "outputs": [
        {
          "output_type": "stream",
          "name": "stdout",
          "text": [
            "CPU times: user 481 ms, sys: 3.95 ms, total: 485 ms\n",
            "Wall time: 486 ms\n"
          ]
        }
      ],
      "source": [
        "%%time\n",
        "\n",
        "bug_report[\"Description\"] = bug_report[\"Description\"].str.replace(\"Fixed in HEAD\", \"\")\n",
        "bug_report[\"Description\"] = bug_report[\"Description\"].str.replace(\"Has been marked as read-only\", \" \")"
      ]
    },
    {
      "cell_type": "code",
      "execution_count": null,
      "metadata": {
        "id": "qLMvbsybJpve",
        "colab": {
          "base_uri": "https://localhost:8080/",
          "height": 333
        },
        "outputId": "0ce4983c-57e2-43f4-95ec-8ac2db2a8f63"
      },
      "outputs": [
        {
          "output_type": "stream",
          "name": "stdout",
          "text": [
            "CPU times: user 15.2 s, sys: 113 ms, total: 15.3 s\n",
            "Wall time: 15.3 s\n"
          ]
        },
        {
          "output_type": "execute_result",
          "data": {
            "text/plain": [
              "   Issue_id Priority  Duplicated_issue  \\\n",
              "0         1       P3               NaN   \n",
              "\n",
              "                                    Title  \\\n",
              "0  usability issue with external editors    \n",
              "\n",
              "                                                                                                                                                                                                                                                                                                                                                                                                                                                                                                                                                                                                                                                                                                                                                                                                                                                                                                                                                                                                                               Description  \n",
              "0   setup a project that contains a gif resource  release project to cvs  edit the gif resource with an external editor eg paintshop  save and close external editor  in navigator open the icon resource and verify that your changes are there  release project  nothing to release  in navigator open the icon resource and verify that your changes are still there  problem because i never refreshed from local the workspace hasnt changed so release didnt find anything however opening the resource with an external editor found the modified file on disk and showed the changes  the real problem occurs if release actually finds something to release but you dont spot that some resources are missing this is extremely error prone one of my changes didnt made it into build  because of this  notes eg   pm release should do a refresh from local before doing the release moving to vcm   km   pm comments from jm in related email  should not do this for free  could have a setting which made it optoinal but...  "
            ],
            "text/html": [
              "\n",
              "  <div id=\"df-2d339c52-58fc-49d5-a195-06c01c4abbf3\">\n",
              "    <div class=\"colab-df-container\">\n",
              "      <div>\n",
              "<style scoped>\n",
              "    .dataframe tbody tr th:only-of-type {\n",
              "        vertical-align: middle;\n",
              "    }\n",
              "\n",
              "    .dataframe tbody tr th {\n",
              "        vertical-align: top;\n",
              "    }\n",
              "\n",
              "    .dataframe thead th {\n",
              "        text-align: right;\n",
              "    }\n",
              "</style>\n",
              "<table border=\"1\" class=\"dataframe\">\n",
              "  <thead>\n",
              "    <tr style=\"text-align: right;\">\n",
              "      <th></th>\n",
              "      <th>Issue_id</th>\n",
              "      <th>Priority</th>\n",
              "      <th>Duplicated_issue</th>\n",
              "      <th>Title</th>\n",
              "      <th>Description</th>\n",
              "    </tr>\n",
              "  </thead>\n",
              "  <tbody>\n",
              "    <tr>\n",
              "      <th>0</th>\n",
              "      <td>1</td>\n",
              "      <td>P3</td>\n",
              "      <td>NaN</td>\n",
              "      <td>usability issue with external editors</td>\n",
              "      <td>setup a project that contains a gif resource  release project to cvs  edit the gif resource with an external editor eg paintshop  save and close external editor  in navigator open the icon resource and verify that your changes are there  release project  nothing to release  in navigator open the icon resource and verify that your changes are still there  problem because i never refreshed from local the workspace hasnt changed so release didnt find anything however opening the resource with an external editor found the modified file on disk and showed the changes  the real problem occurs if release actually finds something to release but you dont spot that some resources are missing this is extremely error prone one of my changes didnt made it into build  because of this  notes eg   pm release should do a refresh from local before doing the release moving to vcm   km   pm comments from jm in related email  should not do this for free  could have a setting which made it optoinal but...</td>\n",
              "    </tr>\n",
              "  </tbody>\n",
              "</table>\n",
              "</div>\n",
              "      <button class=\"colab-df-convert\" onclick=\"convertToInteractive('df-2d339c52-58fc-49d5-a195-06c01c4abbf3')\"\n",
              "              title=\"Convert this dataframe to an interactive table.\"\n",
              "              style=\"display:none;\">\n",
              "        \n",
              "  <svg xmlns=\"http://www.w3.org/2000/svg\" height=\"24px\"viewBox=\"0 0 24 24\"\n",
              "       width=\"24px\">\n",
              "    <path d=\"M0 0h24v24H0V0z\" fill=\"none\"/>\n",
              "    <path d=\"M18.56 5.44l.94 2.06.94-2.06 2.06-.94-2.06-.94-.94-2.06-.94 2.06-2.06.94zm-11 1L8.5 8.5l.94-2.06 2.06-.94-2.06-.94L8.5 2.5l-.94 2.06-2.06.94zm10 10l.94 2.06.94-2.06 2.06-.94-2.06-.94-.94-2.06-.94 2.06-2.06.94z\"/><path d=\"M17.41 7.96l-1.37-1.37c-.4-.4-.92-.59-1.43-.59-.52 0-1.04.2-1.43.59L10.3 9.45l-7.72 7.72c-.78.78-.78 2.05 0 2.83L4 21.41c.39.39.9.59 1.41.59.51 0 1.02-.2 1.41-.59l7.78-7.78 2.81-2.81c.8-.78.8-2.07 0-2.86zM5.41 20L4 18.59l7.72-7.72 1.47 1.35L5.41 20z\"/>\n",
              "  </svg>\n",
              "      </button>\n",
              "      \n",
              "  <style>\n",
              "    .colab-df-container {\n",
              "      display:flex;\n",
              "      flex-wrap:wrap;\n",
              "      gap: 12px;\n",
              "    }\n",
              "\n",
              "    .colab-df-convert {\n",
              "      background-color: #E8F0FE;\n",
              "      border: none;\n",
              "      border-radius: 50%;\n",
              "      cursor: pointer;\n",
              "      display: none;\n",
              "      fill: #1967D2;\n",
              "      height: 32px;\n",
              "      padding: 0 0 0 0;\n",
              "      width: 32px;\n",
              "    }\n",
              "\n",
              "    .colab-df-convert:hover {\n",
              "      background-color: #E2EBFA;\n",
              "      box-shadow: 0px 1px 2px rgba(60, 64, 67, 0.3), 0px 1px 3px 1px rgba(60, 64, 67, 0.15);\n",
              "      fill: #174EA6;\n",
              "    }\n",
              "\n",
              "    [theme=dark] .colab-df-convert {\n",
              "      background-color: #3B4455;\n",
              "      fill: #D2E3FC;\n",
              "    }\n",
              "\n",
              "    [theme=dark] .colab-df-convert:hover {\n",
              "      background-color: #434B5C;\n",
              "      box-shadow: 0px 1px 3px 1px rgba(0, 0, 0, 0.15);\n",
              "      filter: drop-shadow(0px 1px 2px rgba(0, 0, 0, 0.3));\n",
              "      fill: #FFFFFF;\n",
              "    }\n",
              "  </style>\n",
              "\n",
              "      <script>\n",
              "        const buttonEl =\n",
              "          document.querySelector('#df-2d339c52-58fc-49d5-a195-06c01c4abbf3 button.colab-df-convert');\n",
              "        buttonEl.style.display =\n",
              "          google.colab.kernel.accessAllowed ? 'block' : 'none';\n",
              "\n",
              "        async function convertToInteractive(key) {\n",
              "          const element = document.querySelector('#df-2d339c52-58fc-49d5-a195-06c01c4abbf3');\n",
              "          const dataTable =\n",
              "            await google.colab.kernel.invokeFunction('convertToInteractive',\n",
              "                                                     [key], {});\n",
              "          if (!dataTable) return;\n",
              "\n",
              "          const docLinkHtml = 'Like what you see? Visit the ' +\n",
              "            '<a target=\"_blank\" href=https://colab.research.google.com/notebooks/data_table.ipynb>data table notebook</a>'\n",
              "            + ' to learn more about interactive tables.';\n",
              "          element.innerHTML = '';\n",
              "          dataTable['output_type'] = 'display_data';\n",
              "          await google.colab.output.renderOutput(dataTable, element);\n",
              "          const docLink = document.createElement('div');\n",
              "          docLink.innerHTML = docLinkHtml;\n",
              "          element.appendChild(docLink);\n",
              "        }\n",
              "      </script>\n",
              "    </div>\n",
              "  </div>\n",
              "  "
            ]
          },
          "metadata": {},
          "execution_count": 49
        }
      ],
      "source": [
        "%%time\n",
        "\n",
        "def cleanTextFromDescriptionAndTitle(report):\n",
        "\n",
        "  report = report.replace('\\t', '')\n",
        "  report = re.sub('\\w*\\d\\w*', '', report)\n",
        "  report = report.lower()\n",
        "  report = report.translate(str.maketrans('', '', string.punctuation))\n",
        "    \n",
        "  return report\n",
        "\n",
        "bug_report['Description'] = bug_report['Description'].apply(lambda x: cleanTextFromDescriptionAndTitle(x))\n",
        "bug_report['Title'] = bug_report['Title'].apply(lambda x: cleanTextFromDescriptionAndTitle(x))\n",
        "\n",
        "bug_report.loc[[0]]"
      ]
    },
    {
      "cell_type": "code",
      "execution_count": null,
      "metadata": {
        "id": "8GG56OFYO1Wx",
        "colab": {
          "base_uri": "https://localhost:8080/",
          "height": 246
        },
        "outputId": "6008241d-99f6-4e91-fc58-48d7ab44c44a"
      },
      "outputs": [
        {
          "output_type": "stream",
          "name": "stdout",
          "text": [
            "CPU times: user 9.26 ms, sys: 1.98 ms, total: 11.2 ms\n",
            "Wall time: 11.7 ms\n"
          ]
        },
        {
          "output_type": "execute_result",
          "data": {
            "text/plain": [
              "   Issue_id Priority  Duplicated_issue  \\\n",
              "0        25       P3           28126.0   \n",
              "\n",
              "                                             Title  \\\n",
              "0  cvs ui need vcm prefs  default repo connection    \n",
              "\n",
              "                                                                                                                                                                                                                                                                                                                                                                                                                                            Description  \n",
              "0  it would be helpful if there was a notion of default repository connection so that when you connected a project you wouldnt have to walk through the list everytime  not sure how this goes into prefs if its never been created before  maybe when you create them you can mark one as the default  at a minimum having a default repository type cvscc would be helpful which then the pulldown in the repo connection wizard has a default  notes  "
            ],
            "text/html": [
              "\n",
              "  <div id=\"df-fef01516-45ce-4a9c-9695-c08f1c9b695c\">\n",
              "    <div class=\"colab-df-container\">\n",
              "      <div>\n",
              "<style scoped>\n",
              "    .dataframe tbody tr th:only-of-type {\n",
              "        vertical-align: middle;\n",
              "    }\n",
              "\n",
              "    .dataframe tbody tr th {\n",
              "        vertical-align: top;\n",
              "    }\n",
              "\n",
              "    .dataframe thead th {\n",
              "        text-align: right;\n",
              "    }\n",
              "</style>\n",
              "<table border=\"1\" class=\"dataframe\">\n",
              "  <thead>\n",
              "    <tr style=\"text-align: right;\">\n",
              "      <th></th>\n",
              "      <th>Issue_id</th>\n",
              "      <th>Priority</th>\n",
              "      <th>Duplicated_issue</th>\n",
              "      <th>Title</th>\n",
              "      <th>Description</th>\n",
              "    </tr>\n",
              "  </thead>\n",
              "  <tbody>\n",
              "    <tr>\n",
              "      <th>0</th>\n",
              "      <td>25</td>\n",
              "      <td>P3</td>\n",
              "      <td>28126.0</td>\n",
              "      <td>cvs ui need vcm prefs  default repo connection</td>\n",
              "      <td>it would be helpful if there was a notion of default repository connection so that when you connected a project you wouldnt have to walk through the list everytime  not sure how this goes into prefs if its never been created before  maybe when you create them you can mark one as the default  at a minimum having a default repository type cvscc would be helpful which then the pulldown in the repo connection wizard has a default  notes</td>\n",
              "    </tr>\n",
              "  </tbody>\n",
              "</table>\n",
              "</div>\n",
              "      <button class=\"colab-df-convert\" onclick=\"convertToInteractive('df-fef01516-45ce-4a9c-9695-c08f1c9b695c')\"\n",
              "              title=\"Convert this dataframe to an interactive table.\"\n",
              "              style=\"display:none;\">\n",
              "        \n",
              "  <svg xmlns=\"http://www.w3.org/2000/svg\" height=\"24px\"viewBox=\"0 0 24 24\"\n",
              "       width=\"24px\">\n",
              "    <path d=\"M0 0h24v24H0V0z\" fill=\"none\"/>\n",
              "    <path d=\"M18.56 5.44l.94 2.06.94-2.06 2.06-.94-2.06-.94-.94-2.06-.94 2.06-2.06.94zm-11 1L8.5 8.5l.94-2.06 2.06-.94-2.06-.94L8.5 2.5l-.94 2.06-2.06.94zm10 10l.94 2.06.94-2.06 2.06-.94-2.06-.94-.94-2.06-.94 2.06-2.06.94z\"/><path d=\"M17.41 7.96l-1.37-1.37c-.4-.4-.92-.59-1.43-.59-.52 0-1.04.2-1.43.59L10.3 9.45l-7.72 7.72c-.78.78-.78 2.05 0 2.83L4 21.41c.39.39.9.59 1.41.59.51 0 1.02-.2 1.41-.59l7.78-7.78 2.81-2.81c.8-.78.8-2.07 0-2.86zM5.41 20L4 18.59l7.72-7.72 1.47 1.35L5.41 20z\"/>\n",
              "  </svg>\n",
              "      </button>\n",
              "      \n",
              "  <style>\n",
              "    .colab-df-container {\n",
              "      display:flex;\n",
              "      flex-wrap:wrap;\n",
              "      gap: 12px;\n",
              "    }\n",
              "\n",
              "    .colab-df-convert {\n",
              "      background-color: #E8F0FE;\n",
              "      border: none;\n",
              "      border-radius: 50%;\n",
              "      cursor: pointer;\n",
              "      display: none;\n",
              "      fill: #1967D2;\n",
              "      height: 32px;\n",
              "      padding: 0 0 0 0;\n",
              "      width: 32px;\n",
              "    }\n",
              "\n",
              "    .colab-df-convert:hover {\n",
              "      background-color: #E2EBFA;\n",
              "      box-shadow: 0px 1px 2px rgba(60, 64, 67, 0.3), 0px 1px 3px 1px rgba(60, 64, 67, 0.15);\n",
              "      fill: #174EA6;\n",
              "    }\n",
              "\n",
              "    [theme=dark] .colab-df-convert {\n",
              "      background-color: #3B4455;\n",
              "      fill: #D2E3FC;\n",
              "    }\n",
              "\n",
              "    [theme=dark] .colab-df-convert:hover {\n",
              "      background-color: #434B5C;\n",
              "      box-shadow: 0px 1px 3px 1px rgba(0, 0, 0, 0.15);\n",
              "      filter: drop-shadow(0px 1px 2px rgba(0, 0, 0, 0.3));\n",
              "      fill: #FFFFFF;\n",
              "    }\n",
              "  </style>\n",
              "\n",
              "      <script>\n",
              "        const buttonEl =\n",
              "          document.querySelector('#df-fef01516-45ce-4a9c-9695-c08f1c9b695c button.colab-df-convert');\n",
              "        buttonEl.style.display =\n",
              "          google.colab.kernel.accessAllowed ? 'block' : 'none';\n",
              "\n",
              "        async function convertToInteractive(key) {\n",
              "          const element = document.querySelector('#df-fef01516-45ce-4a9c-9695-c08f1c9b695c');\n",
              "          const dataTable =\n",
              "            await google.colab.kernel.invokeFunction('convertToInteractive',\n",
              "                                                     [key], {});\n",
              "          if (!dataTable) return;\n",
              "\n",
              "          const docLinkHtml = 'Like what you see? Visit the ' +\n",
              "            '<a target=\"_blank\" href=https://colab.research.google.com/notebooks/data_table.ipynb>data table notebook</a>'\n",
              "            + ' to learn more about interactive tables.';\n",
              "          element.innerHTML = '';\n",
              "          dataTable['output_type'] = 'display_data';\n",
              "          await google.colab.output.renderOutput(dataTable, element);\n",
              "          const docLink = document.createElement('div');\n",
              "          docLink.innerHTML = docLinkHtml;\n",
              "          element.appendChild(docLink);\n",
              "        }\n",
              "      </script>\n",
              "    </div>\n",
              "  </div>\n",
              "  "
            ]
          },
          "metadata": {},
          "execution_count": 50
        }
      ],
      "source": [
        "%%time\n",
        "\n",
        "duplicated_reports = bug_report.dropna(axis=0, subset=['Duplicated_issue'])\n",
        "duplicated_reports.reset_index(drop=True, inplace=True)\n",
        "duplicated_reports.head(1)"
      ]
    },
    {
      "cell_type": "code",
      "execution_count": null,
      "metadata": {
        "id": "NI8-J1wIRfFu",
        "colab": {
          "base_uri": "https://localhost:8080/",
          "height": 1000
        },
        "outputId": "530310de-da6e-4db5-eb82-f2e2a494d8c9"
      },
      "outputs": [
        {
          "output_type": "stream",
          "name": "stdout",
          "text": [
            "CPU times: user 31.8 ms, sys: 2.04 ms, total: 33.9 ms\n",
            "Wall time: 37.9 ms\n"
          ]
        },
        {
          "output_type": "execute_result",
          "data": {
            "text/plain": [
              "   Issue_id Priority  Duplicated_issue  \\\n",
              "0         1       P3               NaN   \n",
              "1         2       P5               NaN   \n",
              "2         3       P5               NaN   \n",
              "3         4       P5               NaN   \n",
              "4         5       P3               NaN   \n",
              "\n",
              "                                                              Title  \\\n",
              "0                            usability issue with external editors    \n",
              "1                   opening repository resources doesnt honor type    \n",
              "2                                  sync does not indicate deletion    \n",
              "3  need better error message if catching up over readonly resource    \n",
              "4                         isharingmanager sharing api inconsistent    \n",
              "\n",
              "                                                                                                                                                                                                                                                                                                                                                                                                                                                                                                                                                                                                                                                                                                                                                                                                                                                                                                                                                                                                                               Description  \n",
              "0   setup a project that contains a gif resource  release project to cvs  edit the gif resource with an external editor eg paintshop  save and close external editor  in navigator open the icon resource and verify that your changes are there  release project  nothing to release  in navigator open the icon resource and verify that your changes are still there  problem because i never refreshed from local the workspace hasnt changed so release didnt find anything however opening the resource with an external editor found the modified file on disk and showed the changes  the real problem occurs if release actually finds something to release but you dont spot that some resources are missing this is extremely error prone one of my changes didnt made it into build  because of this  notes eg   pm release should do a refresh from local before doing the release moving to vcm   km   pm comments from jm in related email  should not do this for free  could have a setting which made it optoinal but...  \n",
              "1                                     opening repository resource always open the default text editor and doesnt honor any mapping between resource types and editors as a result it is not possible to view the contents of an image gif file in a sensible way  notes eg   am agreed that this is needed eventually but not critical for june  there should also be a java outliner when editing a java resource from the repository moving to vcm  km   pm in general you cannot open a specialized editor on a remote resource because they can sometimes be dependent on other resources and expect these to be local  for example an html page which references a graphic the html editor is going to try to look for the graphic to display it  you cant be sure that the editor was written to accomodate remote or missing resources we discussed this some time ago with dave t and felt it was safer to just use vanilla editors for now  km   pm see also  itpvcmall  repositories view all file types open to the text editor  \n",
              "2                                               km   pm this pr about the deletion indicator in the sync viewer being too subtle this would be even more true for someone with vision problems ne has good suggestion of using the label of the compare text viewer we may also consider a better icon on to the pr   delete file from project  synchronize  there is no indication that the file has been deleted from the workspace  it looks the same as if the file is in the workspace but is empty  notes  km   pm it should appear as a rightfacing  arrow in the sync view sent screen cap to ne requesting clarification  ne   am the  in the arrow is clearer when there are other arrows present too the  and change ones otherwise its easy to miss the distinction especially when the users attention is focussed on the text compare panes id expect the workspace file label to indicate that it has been deleted the repository file label does this if i remember correctly when it has been deleted from the repository  \n",
              "3                                                                                                                                                                                                                                                                                                                                                                                                               become synchronized with some project in a repository  use a different eclipse to make a change to a file resource within this project and release it to the repository  in the original eclipse mark this file resource as being readonly select it rightclick  properties change ok  select the file resource rightclick  team  synchronize with stream  in the subsequent comparison view select the file resource rightclick  catchup  since it has been marked as readonly there are inevitable problems  however the error dialog that is shown does not offer much assistance an io error occurred io error   notes  \n",
              "4                                                                                                                                                                                                                                                                                                                                                                                                                                                                                                                                                                                                     for gettingsetting the managed state of a resource the methods are  ismanagedresource and manageresource  for gettingsetting the ignore state the methods are  getignoredresource setignoredresource  these should be made more consistent  i suggest renaming ignore methods  isignoredresource and ignoreresource  i think its good practice to not use get and set in method names unless its really just a field accessor  notes  "
            ],
            "text/html": [
              "\n",
              "  <div id=\"df-4585766e-82a7-4db7-92c6-0c09d595a1b2\">\n",
              "    <div class=\"colab-df-container\">\n",
              "      <div>\n",
              "<style scoped>\n",
              "    .dataframe tbody tr th:only-of-type {\n",
              "        vertical-align: middle;\n",
              "    }\n",
              "\n",
              "    .dataframe tbody tr th {\n",
              "        vertical-align: top;\n",
              "    }\n",
              "\n",
              "    .dataframe thead th {\n",
              "        text-align: right;\n",
              "    }\n",
              "</style>\n",
              "<table border=\"1\" class=\"dataframe\">\n",
              "  <thead>\n",
              "    <tr style=\"text-align: right;\">\n",
              "      <th></th>\n",
              "      <th>Issue_id</th>\n",
              "      <th>Priority</th>\n",
              "      <th>Duplicated_issue</th>\n",
              "      <th>Title</th>\n",
              "      <th>Description</th>\n",
              "    </tr>\n",
              "  </thead>\n",
              "  <tbody>\n",
              "    <tr>\n",
              "      <th>0</th>\n",
              "      <td>1</td>\n",
              "      <td>P3</td>\n",
              "      <td>NaN</td>\n",
              "      <td>usability issue with external editors</td>\n",
              "      <td>setup a project that contains a gif resource  release project to cvs  edit the gif resource with an external editor eg paintshop  save and close external editor  in navigator open the icon resource and verify that your changes are there  release project  nothing to release  in navigator open the icon resource and verify that your changes are still there  problem because i never refreshed from local the workspace hasnt changed so release didnt find anything however opening the resource with an external editor found the modified file on disk and showed the changes  the real problem occurs if release actually finds something to release but you dont spot that some resources are missing this is extremely error prone one of my changes didnt made it into build  because of this  notes eg   pm release should do a refresh from local before doing the release moving to vcm   km   pm comments from jm in related email  should not do this for free  could have a setting which made it optoinal but...</td>\n",
              "    </tr>\n",
              "    <tr>\n",
              "      <th>1</th>\n",
              "      <td>2</td>\n",
              "      <td>P5</td>\n",
              "      <td>NaN</td>\n",
              "      <td>opening repository resources doesnt honor type</td>\n",
              "      <td>opening repository resource always open the default text editor and doesnt honor any mapping between resource types and editors as a result it is not possible to view the contents of an image gif file in a sensible way  notes eg   am agreed that this is needed eventually but not critical for june  there should also be a java outliner when editing a java resource from the repository moving to vcm  km   pm in general you cannot open a specialized editor on a remote resource because they can sometimes be dependent on other resources and expect these to be local  for example an html page which references a graphic the html editor is going to try to look for the graphic to display it  you cant be sure that the editor was written to accomodate remote or missing resources we discussed this some time ago with dave t and felt it was safer to just use vanilla editors for now  km   pm see also  itpvcmall  repositories view all file types open to the text editor</td>\n",
              "    </tr>\n",
              "    <tr>\n",
              "      <th>2</th>\n",
              "      <td>3</td>\n",
              "      <td>P5</td>\n",
              "      <td>NaN</td>\n",
              "      <td>sync does not indicate deletion</td>\n",
              "      <td>km   pm this pr about the deletion indicator in the sync viewer being too subtle this would be even more true for someone with vision problems ne has good suggestion of using the label of the compare text viewer we may also consider a better icon on to the pr   delete file from project  synchronize  there is no indication that the file has been deleted from the workspace  it looks the same as if the file is in the workspace but is empty  notes  km   pm it should appear as a rightfacing  arrow in the sync view sent screen cap to ne requesting clarification  ne   am the  in the arrow is clearer when there are other arrows present too the  and change ones otherwise its easy to miss the distinction especially when the users attention is focussed on the text compare panes id expect the workspace file label to indicate that it has been deleted the repository file label does this if i remember correctly when it has been deleted from the repository</td>\n",
              "    </tr>\n",
              "    <tr>\n",
              "      <th>3</th>\n",
              "      <td>4</td>\n",
              "      <td>P5</td>\n",
              "      <td>NaN</td>\n",
              "      <td>need better error message if catching up over readonly resource</td>\n",
              "      <td>become synchronized with some project in a repository  use a different eclipse to make a change to a file resource within this project and release it to the repository  in the original eclipse mark this file resource as being readonly select it rightclick  properties change ok  select the file resource rightclick  team  synchronize with stream  in the subsequent comparison view select the file resource rightclick  catchup  since it has been marked as readonly there are inevitable problems  however the error dialog that is shown does not offer much assistance an io error occurred io error   notes</td>\n",
              "    </tr>\n",
              "    <tr>\n",
              "      <th>4</th>\n",
              "      <td>5</td>\n",
              "      <td>P3</td>\n",
              "      <td>NaN</td>\n",
              "      <td>isharingmanager sharing api inconsistent</td>\n",
              "      <td>for gettingsetting the managed state of a resource the methods are  ismanagedresource and manageresource  for gettingsetting the ignore state the methods are  getignoredresource setignoredresource  these should be made more consistent  i suggest renaming ignore methods  isignoredresource and ignoreresource  i think its good practice to not use get and set in method names unless its really just a field accessor  notes</td>\n",
              "    </tr>\n",
              "  </tbody>\n",
              "</table>\n",
              "</div>\n",
              "      <button class=\"colab-df-convert\" onclick=\"convertToInteractive('df-4585766e-82a7-4db7-92c6-0c09d595a1b2')\"\n",
              "              title=\"Convert this dataframe to an interactive table.\"\n",
              "              style=\"display:none;\">\n",
              "        \n",
              "  <svg xmlns=\"http://www.w3.org/2000/svg\" height=\"24px\"viewBox=\"0 0 24 24\"\n",
              "       width=\"24px\">\n",
              "    <path d=\"M0 0h24v24H0V0z\" fill=\"none\"/>\n",
              "    <path d=\"M18.56 5.44l.94 2.06.94-2.06 2.06-.94-2.06-.94-.94-2.06-.94 2.06-2.06.94zm-11 1L8.5 8.5l.94-2.06 2.06-.94-2.06-.94L8.5 2.5l-.94 2.06-2.06.94zm10 10l.94 2.06.94-2.06 2.06-.94-2.06-.94-.94-2.06-.94 2.06-2.06.94z\"/><path d=\"M17.41 7.96l-1.37-1.37c-.4-.4-.92-.59-1.43-.59-.52 0-1.04.2-1.43.59L10.3 9.45l-7.72 7.72c-.78.78-.78 2.05 0 2.83L4 21.41c.39.39.9.59 1.41.59.51 0 1.02-.2 1.41-.59l7.78-7.78 2.81-2.81c.8-.78.8-2.07 0-2.86zM5.41 20L4 18.59l7.72-7.72 1.47 1.35L5.41 20z\"/>\n",
              "  </svg>\n",
              "      </button>\n",
              "      \n",
              "  <style>\n",
              "    .colab-df-container {\n",
              "      display:flex;\n",
              "      flex-wrap:wrap;\n",
              "      gap: 12px;\n",
              "    }\n",
              "\n",
              "    .colab-df-convert {\n",
              "      background-color: #E8F0FE;\n",
              "      border: none;\n",
              "      border-radius: 50%;\n",
              "      cursor: pointer;\n",
              "      display: none;\n",
              "      fill: #1967D2;\n",
              "      height: 32px;\n",
              "      padding: 0 0 0 0;\n",
              "      width: 32px;\n",
              "    }\n",
              "\n",
              "    .colab-df-convert:hover {\n",
              "      background-color: #E2EBFA;\n",
              "      box-shadow: 0px 1px 2px rgba(60, 64, 67, 0.3), 0px 1px 3px 1px rgba(60, 64, 67, 0.15);\n",
              "      fill: #174EA6;\n",
              "    }\n",
              "\n",
              "    [theme=dark] .colab-df-convert {\n",
              "      background-color: #3B4455;\n",
              "      fill: #D2E3FC;\n",
              "    }\n",
              "\n",
              "    [theme=dark] .colab-df-convert:hover {\n",
              "      background-color: #434B5C;\n",
              "      box-shadow: 0px 1px 3px 1px rgba(0, 0, 0, 0.15);\n",
              "      filter: drop-shadow(0px 1px 2px rgba(0, 0, 0, 0.3));\n",
              "      fill: #FFFFFF;\n",
              "    }\n",
              "  </style>\n",
              "\n",
              "      <script>\n",
              "        const buttonEl =\n",
              "          document.querySelector('#df-4585766e-82a7-4db7-92c6-0c09d595a1b2 button.colab-df-convert');\n",
              "        buttonEl.style.display =\n",
              "          google.colab.kernel.accessAllowed ? 'block' : 'none';\n",
              "\n",
              "        async function convertToInteractive(key) {\n",
              "          const element = document.querySelector('#df-4585766e-82a7-4db7-92c6-0c09d595a1b2');\n",
              "          const dataTable =\n",
              "            await google.colab.kernel.invokeFunction('convertToInteractive',\n",
              "                                                     [key], {});\n",
              "          if (!dataTable) return;\n",
              "\n",
              "          const docLinkHtml = 'Like what you see? Visit the ' +\n",
              "            '<a target=\"_blank\" href=https://colab.research.google.com/notebooks/data_table.ipynb>data table notebook</a>'\n",
              "            + ' to learn more about interactive tables.';\n",
              "          element.innerHTML = '';\n",
              "          dataTable['output_type'] = 'display_data';\n",
              "          await google.colab.output.renderOutput(dataTable, element);\n",
              "          const docLink = document.createElement('div');\n",
              "          docLink.innerHTML = docLinkHtml;\n",
              "          element.appendChild(docLink);\n",
              "        }\n",
              "      </script>\n",
              "    </div>\n",
              "  </div>\n",
              "  "
            ]
          },
          "metadata": {},
          "execution_count": 51
        }
      ],
      "source": [
        "%%time\n",
        "\n",
        "master_reports = bug_report[bug_report.isnull().any(axis=1)]\n",
        "master_reports.reset_index(drop=True, inplace=True)\n",
        "master_reports.head(5)"
      ]
    },
    {
      "cell_type": "code",
      "source": [
        "from sklearn.feature_extraction.text import TfidfVectorizer\n",
        "import sys\n",
        "from time import time\n",
        "from sklearn.cluster import KMeans\n",
        "\n",
        "vectorizer = TfidfVectorizer(strip_accents='unicode', stop_words='english', min_df=2) ## Corpus is in English\n",
        "X = vectorizer.fit_transform(master_reports.Description)\n",
        "print(X.shape)\n",
        "# import matplotlib.pyplot as plt\n",
        "\n",
        "# Sum_of_squared_distances = []\n",
        "# K = range(2,10)\n",
        "# for k in K:\n",
        "#    km = KMeans(n_clusters=k, max_iter=200, n_init=10)\n",
        "#    km = km.fit(X)\n",
        "#    Sum_of_squared_distances.append(km.inertia_)\n",
        "# plt.plot(K, Sum_of_squared_distances, 'bx-')\n",
        "# plt.xlabel('k')\n",
        "# plt.ylabel('Sum_of_squared_distances')\n",
        "# plt.title('Elbow Method For Optimal k')\n",
        "# plt.show()\n",
        "\n",
        "\n",
        "\n",
        "km = KMeans(n_clusters=10, init='k-means++', max_iter=100)\n",
        "t0 = time()\n",
        "km.fit(X)\n",
        "print(\"done in %0.3fs\" % (time() - t0))"
      ],
      "metadata": {
        "colab": {
          "base_uri": "https://localhost:8080/"
        },
        "id": "IHL_7lz_SxzM",
        "outputId": "77ccb1a1-d6a4-422a-8e11-9bb90d52060a"
      },
      "execution_count": 66,
      "outputs": [
        {
          "output_type": "stream",
          "name": "stdout",
          "text": [
            "(70629, 59977)\n",
            "done in 48.328s\n"
          ]
        }
      ]
    },
    {
      "cell_type": "code",
      "source": [
        "centroids = km.cluster_centers_.argsort()[:, ::-1] ## Indices of largest centroids' entries in descending order\n",
        "terms = vectorizer.get_feature_names()\n",
        "for i in range(10):\n",
        "    print(\"Cluster %d:\" % i, end='')\n",
        "    for ind in centroids[i, :100]:\n",
        "        print(' %s' % terms[ind], end='')\n",
        "    print()"
      ],
      "metadata": {
        "colab": {
          "base_uri": "https://localhost:8080/"
        },
        "id": "SaMtL5TWVFVm",
        "outputId": "3c18db23-aaeb-41e6-fe1f-44a455ac903d"
      },
      "execution_count": 67,
      "outputs": [
        {
          "output_type": "stream",
          "name": "stdout",
          "text": [
            "Cluster 0: bug build code new use method need does like api text using patch class set used test swt created null change problem line currently fix add support id plugin following work just ui return run user example extension case time changes instead files make value error way string windows attached attachment tests message default dont eclipse public action table image ant added doesnt list source widget cvs version selection java type javadoc file tree platform needs im create thread debug current content possible key think missing called check point update control help changed resource exception remove view element look int\n",
            "Cluster 1: dialog page button menu open select click search help window text perspective preference build tab new launch preferences does item press focus set selected buttons workbench list user right run font eclipse steps field use java type windows configuration context box ok mouse default reproduce using selection bar change problem items key view close id browser like add working wizard toolbar left error file pages create cancel appears tree hit result screen enter switch just title work workspace debug bug size action doesnt resource combo example shown note link information shows disabled control contents time clicking icon make opens progress\n",
            "Cluster 2: new import shell public display void final static args shellopen displaysleep swtnone shellisdisposed mainstring displayreadanddispatch shelldisplay int displaydispose table class text shellsetlayoutnew string snippet item event button filllayout listener swtborder run treeitem image private gridlayout tree handleeventevent shellsetsize orgeclipseswtwidgets orgeclipseswtswt null swt label true gc composite return tableitem code combo test main swtpush column shellpack orgeclipseswtwidgetsdisplay windows orgeclipseswtwidgetsshell canvas following orgeclipseswt shellsetbounds false tablecolumn buttonshell orgeclipseswtlayout tablecolumntable griddata parent color example tableshell menu widgetselectedselectionevent case browser widget problem set swtmulti textshell selectionadapter focus orgeclipseswtlayoutfilllayout control tableitemtable menuitem rectangle does font window try mouse size orgeclipseswtgraphics index items thread click toolitem\n",
            "Cluster 3: editor open editors text java file compare close tab view menu click focus build eclipse select window ant does tabs new area active files using opened line default right change action save like use problem page bug mouse type work changes outline switch key selected perspective press workbench selection steps context navigator scroll cursor reproduce opens create dialog left preference make set id ctrl explorer class list code search doesnt visible used package project button opening works user xml just bar double cell way source current currently views toolbar dirty edit clicking add windows resource case error closed time content\n",
            "Cluster 4: line int object boolean suspended thread string available text file method iprogressmonitor breakpoint native lines end warning editor cursor workbenchadvisor runnable long build number null command import caret javalangstring main exception id code select eclipse character delimiter event used methodinvokeobject following does local nativemethodaccessorimplmethod nativemethodaccessorimplinvokeobject java right eventtablesendeventevent status selected mainrunstring mainbasicrunstring delegatingmethodaccessorimplinvokeobject beginning mainmainstring new displayreadanddispatch stack nullpointerexception selection problem second numbers javalangobject reproduce url workbenchcreateandrunworkbenchdisplay platformuicreateandrunworkbenchdisplay type steps workbenchruneventloopwindowiexceptionhandler workbenchrunui eclipsestarterrunstring project using bug blank display trace set information variable translatable open current eclipsestarterrunobject patch console npe like return files change left read doesnt created scroll displayrundeferredevents running\n",
            "Cluster 5: project projects cvs create folder file workspace build new select java eclipse files repository explorer import directory location set error target resource delete dialog wizard open working team version click menu ant package view using steps add existing does use builder navigator created selected resources check source reproduce path problem linked properties user share default like refresh deleted message id checkout just changes copy folders run try change bug external option simple choose time tag work perspective server information button class checked contents right following closed close way want case branch context list test root sync finish doesnt synchronize head\n",
            "Cluster 6: eclipse build error version update plugin feature install java id site reproduce workspace installed features steps using plugins message problem help information file start run new log windows directory use platform cvs running bug configuration application does files time ant window linux open code vm os product im following like sdk work server just launch user manager tried dialog try created updates reproducible location restart screen create identifier works project runtime command click crash source fine entry select download used attached ive details set workbench default startup jvm dont attachment jdk trying working exception line console doesnt jar jre gtk\n",
            "Cluster 7: view views perspective debug menu open fast sync build problems synchronize select history progress new click console window context toolbar java navigator does selected cvs variables action bar eclipse breakpoints search button icon close like help explorer tasks problem package outline resource breakpoint set tab editor workbench bug change right use user switch using focus selection changes visible drag active shows task item left file id make properties title add steps doesnt workspace filter shown project stack tree dialog work reproduce items time job working opened just memory list create way pane actions ant drop refresh error need currently dont\n",
            "Cluster 8: orgeclipsecoreruntimeadaptoreclipsestarterruneclipsestarterjava orgeclipseswtwidgetswidgetsendeventwidgetjava method orgeclipseswtwidgetsdisplayreadanddispatchdisplayjava sunreflectnativemethodaccessorimplnative source orgeclipseswtwidgetseventtablesendeventeventtablejava javalangreflectmethodinvokemethodjava orgeclipseuiinternalworkbenchruneventloopworkbenchjava sunreflectnativemethodaccessorimplinvokenativemethodaccessorimpljava orgeclipseuiplatformuicreateandrunworkbenchplatformuijava orgeclipsecorelaunchermainmainmainjava orgeclipsecorelaunchermainbasicrunmainjava orgeclipseuiinternalworkbenchrunuiworkbenchjava orgeclipsecorelaunchermainrunmainjava sunreflectdelegatingmethodaccessorimplinvokedelegatingmethodaccessorimpljava orgeclipseuiinternalworkbenchcreateandrunworkbenchworkbenchjava orgeclipseswtswterrorswtjava code orgeclipseuiinternalworkbenchrunworkbenchjava orgeclipseswtwidgetsdisplayrundeferredeventsdisplayjava javalangnullpointerexception message orgeclipsecoreruntimeinternaladaptoreclipseapplauncherstarteclipseapplauncherjava orgeclipsecoreruntimeinternaladaptoreclipseapplauncherrunapplicationeclipseapplauncherjava stack entry exception orgeclipseuiinternalideideapplicationrunideapplicationjava orgeclipsecoreinternalruntimeplatformactivatorrunplatformactivatorjava orgeclipsecoredatabindingobservablerealmrunwithdefaultrealmjava orgeclipseui orgeclipseswtwidgetssynchronizerrunasyncmessagessynchronizerjava orgeclipseswtwidgetsdisplayrunasyncmessagesdisplayjava orgeclipseswtcustombusyindicatorshowwhilebusyindicatorjava orgeclipseequinoxinternalappeclipseapphandleruneclipseapphandlejava orgeclipseequinoxlaunchermaininvokeframeworkmainjava orgeclipseequinoxlaunchermainbasicrunmainjava error orgeclipseequinoxlaunchermainrunmainjava orgeclipseuiinternalworkbenchaccessworkbenchjava orgeclipseswtwidgetsdisplaywindowprocdisplayjava orgeclipseswtwidgetsrunnablelockrunrunnablelockjava actioncontributionitemjava orgeclipsecorelaunchermaininvokeframeworkmainjava orgeclipseuiinternalideapplicationideapplicationstartideapplicationjava log orgeclipsecoreruntimeplatformrunplatformjava compiled orgeclipseswtwidgetscontrolwindowproccontroljava arch orgeclipseswtwidgetstypedlistenerhandleeventtypedlistenerjava orgeclipseequinoxlaunchermainmainmainjava orgeclipsecorebootbootloaderrunbootloaderjava orgeclipsejfacewindowwindowopenwindowjava orgeclipsejfaceactionactionrunwitheventactionjava orgeclipsetesteclipsetestrunnerruneclipsetestrunnerjava orgeclipsejfaceactionactioncontributionitemhandlewidgetselectionactioncontributionitemjava orgeclipsejfaceactionactioncontributionitemaccessactioncontributionitemjava ws following orgeclipsejfaceactionactioncontributionitemhandleeventactioncontributionitemjava unhandled os orgeclipseswtswtexception orgeclipsejfacewindowwindowruneventloopwindowjava loop orgeclipsecoreruntimesaferunnerrunsaferunnerjava arguments javalangreflectmethodinvokeunknown sunreflectdelegatingmethodaccessorimplinvokeunknown failed eclipse sunreflectnativemethodaccessorimplinvokeunknown eclipsestarterjava bootloader orgeclipsecoreruntimeadaptoreclipsestarterrun occurred build constants file event java disposed nativemethodaccessorimpljava orgeclipseuiinternalworkbenchswtpartrenderingenginerunpartrenderingenginejava sunreflectnativemethodaccessorimplinvoke orgeclipsecoreinternalruntimeinternalplatformruninternalplatformjava view delegatingmethodaccessorimpljava sunreflectdelegatingmethodaccessorimplinvoke internalbootloaderjava session workbenchpagejava plugin orgeclipsecoreinternalbootinternalbootloaderrun commandline orgeclipseswtwidgetswidgetnotifylistenerswidgetjava trace structuredviewerjava\n",
            "Cluster 9: file files cvs eclipse build open save project error select folder create new compare dialog changes editor directory workspace does java using text resource change version view click local ant log problem import message use source like encoding menu user add repository search bug history steps copy export patch line delete type content commit navigator reproduce update edit just zip sync path changed try id set contents plugin selected created package work time xml windows explorer doesnt want readonly case list revision deleted information following location check opened team make server wizard right properties synchronize class shows dont option preferences\n"
          ]
        }
      ]
    },
    {
      "cell_type": "code",
      "source": [
        "Y = vectorizer.transform([\"opening repository resource always open the default text editor and doesnt honor any mapping between resource types and editors as a result it is not possible\"])\n",
        "prediction = km.predict(Y)\n",
        "print(prediction)"
      ],
      "metadata": {
        "id": "yiGC7C-DVFdR",
        "colab": {
          "base_uri": "https://localhost:8080/"
        },
        "outputId": "c1fca119-749f-4fd8-c4e0-208de052fed3"
      },
      "execution_count": 71,
      "outputs": [
        {
          "output_type": "stream",
          "name": "stdout",
          "text": [
            "[3]\n"
          ]
        }
      ]
    },
    {
      "cell_type": "code",
      "source": [],
      "metadata": {
        "id": "am_f8pb4VFk5"
      },
      "execution_count": null,
      "outputs": []
    },
    {
      "cell_type": "code",
      "source": [],
      "metadata": {
        "id": "5G_RL7ZAVFsR"
      },
      "execution_count": null,
      "outputs": []
    },
    {
      "cell_type": "code",
      "source": [],
      "metadata": {
        "id": "_TPE6oMBVFzB"
      },
      "execution_count": null,
      "outputs": []
    },
    {
      "cell_type": "code",
      "source": [],
      "metadata": {
        "id": "Kz3oij7DVF6C"
      },
      "execution_count": null,
      "outputs": []
    },
    {
      "cell_type": "code",
      "source": [],
      "metadata": {
        "id": "zaeF5DhCSx7x"
      },
      "execution_count": null,
      "outputs": []
    },
    {
      "cell_type": "code",
      "source": [],
      "metadata": {
        "id": "9LgbhmYLSyHZ"
      },
      "execution_count": null,
      "outputs": []
    },
    {
      "cell_type": "code",
      "execution_count": null,
      "metadata": {
        "id": "BCVZf0j5NfOu"
      },
      "outputs": [],
      "source": [
        "%%time\n",
        "\n",
        "def wordTokenizationAndLemmatization(report):\n",
        "\n",
        "    new_report = []\n",
        "    for token in SIMPLE_PREPROCESS(report):\n",
        "        if token not in STOP_WORDS:\n",
        "          if len(token) > 5:\n",
        "            new_report.append(WordNetLemmatizer().lemmatize(token, pos='v'))\n",
        "    return new_report\n",
        "\n",
        "bug_report['Title'] = bug_report['Title'].apply(lambda x: wordTokenizationAndLemmatization(x))\n",
        "bug_report['Description'] = bug_report['Description'].apply(lambda x: wordTokenizationAndLemmatization(x))\n",
        "\n",
        "bug_report.head(1)"
      ]
    },
    {
      "cell_type": "code",
      "source": [],
      "metadata": {
        "id": "W365ju7wRFvC"
      },
      "execution_count": null,
      "outputs": []
    },
    {
      "cell_type": "code",
      "source": [],
      "metadata": {
        "id": "3hSht69NRFyh"
      },
      "execution_count": null,
      "outputs": []
    },
    {
      "cell_type": "code",
      "source": [],
      "metadata": {
        "id": "oruIc4LNRF2R"
      },
      "execution_count": null,
      "outputs": []
    },
    {
      "cell_type": "code",
      "execution_count": null,
      "metadata": {
        "id": "nJnSjG4utwN_"
      },
      "outputs": [],
      "source": []
    },
    {
      "cell_type": "code",
      "execution_count": null,
      "metadata": {
        "id": "nhFgIK5ll1vN"
      },
      "outputs": [],
      "source": [
        "%%time\n",
        "\n",
        "dictionary = gensim.corpora.Dictionary(master_reports['Description'])\n",
        "dictionary.filter_extremes(no_below=15, no_above=0.5, keep_n=100000)\n",
        "\n",
        "count = 0\n",
        "for key, value in dictionary.iteritems():\n",
        "  print(key, value)\n",
        "  count += 1\n",
        "  if count > 100:\n",
        "      break\n"
      ]
    },
    {
      "cell_type": "code",
      "execution_count": null,
      "metadata": {
        "id": "bGdCkvESbmUO"
      },
      "outputs": [],
      "source": [
        "%%time\n",
        "\n",
        "bag_of_words_corpus = [dictionary.doc2bow(doc, allow_update=True) for doc in master_reports['Description']]\n",
        "bag_of_words_corpus[0]"
      ]
    },
    {
      "cell_type": "code",
      "execution_count": null,
      "metadata": {
        "id": "flK_bC9Tcn8w"
      },
      "outputs": [],
      "source": [
        "%%time\n",
        "\n",
        "bag_of_words_doc = bag_of_words_corpus[0]\n",
        "\n",
        "for i in range(len(bag_of_words_doc)):\n",
        "    print(\"{}. \\\"{}\\\" word seen {} time.\".format(i+1, dictionary[bag_of_words_doc[i][0]], bag_of_words_doc[i][1]))\n",
        "                                               "
      ]
    },
    {
      "cell_type": "code",
      "execution_count": null,
      "metadata": {
        "id": "ChXCgWEbky4d"
      },
      "outputs": [],
      "source": [
        "%%time\n",
        "\n",
        "corpus = bag_of_words_corpus\n",
        "\n",
        "lda_model = gensim.models.LdaMulticore(corpus, num_topics=10, id2word=dictionary, passes=20, workers=2, iterations=100)\n",
        "\n",
        "pprint(lda_model.print_topics())"
      ]
    },
    {
      "cell_type": "code",
      "source": [
        "file = open('drive/My Drive/dictionary.pickle', 'wb')\n",
        "\n",
        "# dump information to that file\n",
        "pickle.dump(dictionary, file)"
      ],
      "metadata": {
        "id": "_0rc-Hgr7gIg"
      },
      "execution_count": null,
      "outputs": []
    },
    {
      "cell_type": "code",
      "source": [
        "f= open('drive/My Drive/bow_corpus.pickle', 'wb')\n",
        "\n",
        "# dump information to that file\n",
        "pickle.dump(bag_of_words_corpus, f)"
      ],
      "metadata": {
        "id": "rn3mtb-67o0u"
      },
      "execution_count": null,
      "outputs": []
    },
    {
      "cell_type": "code",
      "source": [
        "lda_model.save('drive/My Drive/lda_model.model')"
      ],
      "metadata": {
        "id": "D3Dyy9GV7gcV"
      },
      "execution_count": null,
      "outputs": []
    },
    {
      "cell_type": "code",
      "execution_count": null,
      "metadata": {
        "id": "27qLz3BEqOX9"
      },
      "outputs": [],
      "source": [
        "%%time\n",
        "\n",
        "print('\\nPerplexity: ', lda_model.log_perplexity(bag_of_words_corpus))\n",
        "\n",
        "coherence_model_lda = CoherenceModel(model=lda_model, texts=bug_report['Description'], dictionary=dictionary, coherence='c_v')\n",
        "coherence_lda = coherence_model_lda.get_coherence()\n",
        "print('\\nCoherence Score: ', coherence_lda)"
      ]
    },
    {
      "cell_type": "code",
      "source": [
        "%%time\n",
        "\n",
        "pyLDAvis.enable_notebook()\n",
        "vis = pyLDAvis.gensim_models.prepare(lda_model, bag_of_words_corpus, dictionary)\n",
        "vis"
      ],
      "metadata": {
        "id": "HqHW1B1A-ayd"
      },
      "execution_count": null,
      "outputs": []
    },
    {
      "cell_type": "code",
      "execution_count": null,
      "metadata": {
        "id": "HRFgJ1k5AxlL"
      },
      "outputs": [],
      "source": [
        "unseen_document = \"setup a project that contains a gif resource release project to cvs edit the gif resource with an external editor eg paintshop save and close external editor in navigator open the icon resource and verify that your changes are there release project nothing to release in navigator open the icon resource and verify that your changes are still there problem because i never refreshed from local the workspace hasnt changed so release didnt find anything however opening the resource with.\"\n",
        "\n",
        "\n",
        "bow_vector = topic=lda_model[dictionary.doc2bow(wordTokenizationAndLemmatization(unseen_document))]\n",
        "\n",
        "for index, score in sorted(lda_model[bow_vector], key=lambda tup: -1*tup[1]):\n",
        "    print(\"Score: {}\\t Topic: {}\".format(score, lda_model.print_topic(index, 10)))"
      ]
    },
    {
      "cell_type": "code",
      "source": [
        "%%time\n",
        "\n",
        "\n",
        "for c in range(10):\n",
        "    exec('topic_{} = pd.DataFrame()'.format(c))\n",
        "    for i in range(len(master_reports)):\n",
        "        topic=lda_model[dictionary.doc2bow(master_reports.Description[i])]\n",
        "        topic= np.asarray(topic)\n",
        "        if int(topic[np.argmax(topic[:,1]),0])== c:\n",
        "            exec('topic_{} = topic_{}.append(master_reports.loc[[i]])'.format(c,c))\n",
        "            exec('topic_{} = topic_{}.reset_index(drop=True)'.format(c,c))\n",
        "            exec('topic_{}.to_csv(\"topic_{}.csv\")'.format(c,c))\n"
      ],
      "metadata": {
        "id": "XPzbhsN5-Xes"
      },
      "execution_count": null,
      "outputs": []
    },
    {
      "cell_type": "code",
      "source": [],
      "metadata": {
        "id": "pzwlki0c-XsT"
      },
      "execution_count": null,
      "outputs": []
    },
    {
      "cell_type": "code",
      "source": [],
      "metadata": {
        "id": "ie_olleCQsUp"
      },
      "execution_count": null,
      "outputs": []
    },
    {
      "cell_type": "code",
      "source": [],
      "metadata": {
        "id": "Ci53Lof5QsXi"
      },
      "execution_count": null,
      "outputs": []
    },
    {
      "cell_type": "code",
      "source": [],
      "metadata": {
        "id": "QACr-gPgQsar"
      },
      "execution_count": null,
      "outputs": []
    },
    {
      "cell_type": "code",
      "source": [],
      "metadata": {
        "id": "QXYx-y98QsdR"
      },
      "execution_count": null,
      "outputs": []
    },
    {
      "cell_type": "code",
      "source": [],
      "metadata": {
        "id": "ThpmHqWvQsfp"
      },
      "execution_count": null,
      "outputs": []
    },
    {
      "cell_type": "code",
      "source": [],
      "metadata": {
        "id": "LUMAluL_Qsip"
      },
      "execution_count": null,
      "outputs": []
    },
    {
      "cell_type": "code",
      "source": [],
      "metadata": {
        "id": "F8dKN5TPQslB"
      },
      "execution_count": null,
      "outputs": []
    },
    {
      "cell_type": "code",
      "source": [],
      "metadata": {
        "id": "PMKvJ5LHQsoR"
      },
      "execution_count": null,
      "outputs": []
    },
    {
      "cell_type": "code",
      "source": [
        "%%time\n",
        "\n",
        "for c in range(10):\n",
        "  exec('topic_{} = pd.read_csv(\"topic_{}.csv\", error_bad_lines=False, engine=\"python\")'.format(c,c))\n",
        "  exec(\"topic_{}= topic_{}.drop(columns=['Unnamed: 0'])\".format(c,c))\n",
        "  exec(\"topic_{}['Description'] = topic_{}['Description'].map(wordTokenizationAndLemmatization)\".format(c,c))"
      ],
      "metadata": {
        "id": "fvGI5cB5EtHT",
        "colab": {
          "base_uri": "https://localhost:8080/"
        },
        "outputId": "d14d2934-2f44-4f08-f010-25f0692040b4"
      },
      "execution_count": null,
      "outputs": [
        {
          "output_type": "stream",
          "name": "stdout",
          "text": [
            "CPU times: user 11 s, sys: 354 ms, total: 11.3 s\n",
            "Wall time: 11.3 s\n"
          ]
        }
      ]
    },
    {
      "cell_type": "code",
      "source": [
        "%%time\n",
        "\n",
        "for i in range(10):\n",
        "  exec('sent_{} = []'.format(i))\n",
        "  exec('x = topic_{}'.format(i))\n",
        "  for j in range(len(x)):\n",
        "    exec('sent_{}.append(topic_{}.Description[{}])'.format(i,i,j))"
      ],
      "metadata": {
        "id": "_oWRctuPEtRh",
        "colab": {
          "base_uri": "https://localhost:8080/"
        },
        "outputId": "8c6f5bf8-b51a-4e29-bcb4-57157032c9e7"
      },
      "execution_count": null,
      "outputs": [
        {
          "output_type": "stream",
          "name": "stdout",
          "text": [
            "CPU times: user 1.55 s, sys: 4.97 ms, total: 1.56 s\n",
            "Wall time: 1.57 s\n"
          ]
        }
      ]
    },
    {
      "cell_type": "code",
      "source": [
        "%%time\n",
        "\n",
        "#Length of all the cluster\n",
        "for sent in range(10):\n",
        "  exec('print(len(sent_{}))'.format(sent))\n",
        "  "
      ],
      "metadata": {
        "id": "GCU0HmnvEu83"
      },
      "execution_count": null,
      "outputs": []
    },
    {
      "cell_type": "code",
      "source": [
        "!pip install glove-python-binary"
      ],
      "metadata": {
        "id": "Z3sqWvNMF0nk"
      },
      "execution_count": null,
      "outputs": []
    },
    {
      "cell_type": "code",
      "source": [
        "from gensim.models import Word2Vec,FastText\n",
        "from gensim.test.utils import get_tmpfile\n",
        "from glove import Glove, Corpus\n",
        "import glove"
      ],
      "metadata": {
        "id": "dmOr5-jBF6a0"
      },
      "execution_count": null,
      "outputs": []
    },
    {
      "cell_type": "code",
      "source": [
        "%%time\n",
        "\n",
        "for cluster in range(10):\n",
        "  #Preparing parameters for model training\n",
        "  exec('corpus = sent_{}'.format(cluster))    # Path to a corpus file\n",
        "  vector_size = 100                           # Dimensionality of the word vectors\n",
        "  w = 6                                       #Maximum distance between the current and predicted word within a sentence\n",
        "  min_count = 5                               # Ignores all words with total frequency lower than this.\n",
        "  CBoW = 0                                    # Training algorithm: 1 for skip-gram; otherwise CBOW(The model tries to predict the target word by trying to understand the context of the surrounding words.).\n",
        "  iterations = 100\n",
        "\n",
        "  exec('w2vmodel{} = Word2Vec(corpus, size=vector_size, window=w, min_count=min_count, sg=CBoW, iter=iterations)'.format(cluster))\n",
        "\n",
        "  exec('path = get_tmpfile(\"word2vec{}.model\")'.format(cluster))\n",
        "  exec('w2vmodel{}.save(\"word2vec{}.model\")'.format(cluster, cluster))"
      ],
      "metadata": {
        "id": "nBX9m2-dJkHn"
      },
      "execution_count": null,
      "outputs": []
    },
    {
      "cell_type": "code",
      "source": [
        "%%time\n",
        "\n",
        "for cluster in range(10):\n",
        "  #Preparing parameters for model training\n",
        "  exec('corpus = sent_{}'.format(cluster))\n",
        "  vector_size = 100\n",
        "  w = 6\n",
        "  min_count = 5\n",
        "  CBoW = 0\n",
        "  iterations = 100\n",
        "\n",
        "  #Training FastText model for each cluster\n",
        "  exec ('ftmodel{} = FastText(corpus, size=vector_size, window=w, min_count=min_count, sg=CBoW, iter=iterations)'.format(cluster))\n",
        "\n",
        "  #Save the all the models in individual file\n",
        "  exec('path = get_tmpfile(\"ftmodel{}.model\")'.format(cluster))\n",
        "  exec('ftmodel{}.save(\"ftmodel{}.model\")'.format(cluster, cluster))"
      ],
      "metadata": {
        "id": "3HXkmcU6P7Pf"
      },
      "execution_count": null,
      "outputs": []
    },
    {
      "cell_type": "code",
      "source": [
        "%%time\n",
        "\n",
        "for cluster in range(10):\n",
        "  vector_size = 100\n",
        "  exec('glove_corpus{}=Corpus()'.format(cluster, cluster)) \n",
        "  exec('glove_corpus{}.fit(sent_{})'.format(cluster, cluster))\n",
        "  exec('glove{}= Glove(no_components=vector_size, learning_rate=0.18, alpha=0.75, max_count=100, max_loss=10.0, random_state=None)'.format(cluster, cluster))\n",
        "  exec('glove{}.fit(glove_corpus{}.matrix, epochs=1000, no_threads=3, verbose=True)'.format(cluster, cluster))\n",
        "  exec('transformer = lambda dictionary2:glove{}.transform_paragraph(words, epochs=1000,ignore_missing=False)'.format(cluster, cluster))\n",
        "  exec('glove{}.add_dictionary(glove_corpus{}.dictionary)'.format(cluster, cluster))\n",
        "\n",
        "  #Save the all the models in individual file\n",
        "  exec('path = get_tmpfile(\"glove{}.model\")'.format(cluster))\n",
        "  exec('glove{}.save(\"glove{}.model\")'.format(cluster, cluster))"
      ],
      "metadata": {
        "id": "pKUt-5j0PZXp"
      },
      "execution_count": null,
      "outputs": []
    },
    {
      "cell_type": "code",
      "source": [],
      "metadata": {
        "id": "HVQqwvgQp24s"
      },
      "execution_count": null,
      "outputs": []
    },
    {
      "cell_type": "code",
      "source": [],
      "metadata": {
        "id": "00fmZvmm6J6v"
      },
      "execution_count": null,
      "outputs": []
    },
    {
      "cell_type": "code",
      "source": [],
      "metadata": {
        "id": "fjVrIUTN6J9-"
      },
      "execution_count": null,
      "outputs": []
    },
    {
      "cell_type": "code",
      "source": [],
      "metadata": {
        "id": "zFWJJbpu6KBN"
      },
      "execution_count": null,
      "outputs": []
    },
    {
      "cell_type": "code",
      "source": [
        "from sklearn.metrics.pairwise import cosine_similarity\n",
        "from sklearn.decomposition import PCA\n",
        "from scipy.spatial import distance\n",
        "warnings.filterwarnings(\"ignore\", category=DeprecationWarning)\n",
        "from glove import Glove, Corpus"
      ],
      "metadata": {
        "id": "98vfxCOR6KEE"
      },
      "execution_count": null,
      "outputs": []
    },
    {
      "cell_type": "code",
      "source": [],
      "metadata": {
        "id": "Ce6JOBRV6R01"
      },
      "execution_count": null,
      "outputs": []
    },
    {
      "cell_type": "code",
      "source": [
        "f = open('drive/My Drive/bow_corpus.pickle', 'rb')\n",
        "bow_corpus=pickle.load(f)\n",
        "\n",
        "file = open('drive/My Drive/dictionary.pickle', 'rb')\n",
        "dictionary=pickle.load(file)\n",
        "\n",
        "# later on, load trained model from file\n",
        "lda_model =  models.LdaModel.load('drive/My Drive/lda_model.model')"
      ],
      "metadata": {
        "id": "e0Lbx9bs7xYe"
      },
      "execution_count": null,
      "outputs": []
    },
    {
      "cell_type": "code",
      "source": [],
      "metadata": {
        "id": "cMBxM-Vs79-0"
      },
      "execution_count": null,
      "outputs": []
    },
    {
      "cell_type": "code",
      "source": [],
      "metadata": {
        "id": "yxOQA3P38WxX"
      },
      "execution_count": null,
      "outputs": []
    },
    {
      "cell_type": "code",
      "source": [
        "# for c in range(10):\n",
        "#   exec('topic_{} = pd.read_csv(\"topic_{}.csv\")'.format(c,c))\n",
        "#   exec(\"topic_{}= topic_{}.drop(columns=['Unnamed: 0'])\".format(c,c))\n",
        "#   exec(\"topic_{}['Description'] = topic_{}['Description'].map(wordTokenizationAndLemmatization)\".format(c,c))"
      ],
      "metadata": {
        "id": "GBbAx4ZE8XXu"
      },
      "execution_count": null,
      "outputs": []
    },
    {
      "cell_type": "code",
      "source": [
        "test = duplicated_reports\n",
        "test.head()"
      ],
      "metadata": {
        "id": "dC1jZeek8icQ"
      },
      "execution_count": null,
      "outputs": []
    },
    {
      "cell_type": "code",
      "source": [
        "for mod in range(10):\n",
        "  #import all the trained Word2Vec models\n",
        "  exec('w2vmodel{} = Word2Vec.load(\"word2vec{}.model\")'.format(mod, mod))\n",
        "\n",
        "  #import all the trained FastText models\n",
        "  exec('ftmodel{} = FastText.load(\"ftmodel{}.model\")'.format(mod, mod))\n",
        "\n",
        "  #import all the trained GloVe models\n",
        "  exec('glove{} = Glove.load(\"glove{}.model\")'.format(mod, mod))"
      ],
      "metadata": {
        "id": "tiGu4uEJBnEE"
      },
      "execution_count": null,
      "outputs": []
    },
    {
      "cell_type": "code",
      "source": [
        "def sim_with_clusters_lda_topn(DR, n):\n",
        "    vec_bow = dictionary.doc2bow(DR)\n",
        "    x = lda_model[vec_bow]\n",
        "    topic = np.asarray(x)\n",
        "    sim=[]\n",
        "    x = topic[np.argsort(topic[:,1])[-n:][::-1],0]\n",
        "    for i in range(len(x)):\n",
        "        sim.append(int(x[i]))\n",
        "    return sim\n"
      ],
      "metadata": {
        "id": "2-2O22UzCTY8"
      },
      "execution_count": null,
      "outputs": []
    },
    {
      "cell_type": "code",
      "source": [
        "# no_of_test_samples= int(200)\n",
        "vec_acc=[]\n",
        "t1 = time.time()\n",
        "for i in range(len(test)):\n",
        "  sample = test.Description[i]\n",
        "  n = 3\n",
        "  max_cluster = sim_with_clusters_lda_topn(sample, n)\n",
        "\n",
        "  for max in max_cluster:\n",
        "    exec('cluster = topic_{}'.format(max))              #The predicted cluster\n",
        "    exec('model1 = ftmodel{}'.format(max))              #The trained FastText model for the predicted cluster   (can be changed to other model as well viz. glove or word2vec)\n",
        "    exec('model2 = glove{}'.format(max))                #The trained Word2Vec model for the predicted cluster   (Doesn't count if using single modality)\n",
        "    exec('sent = topic_{}.Description'.format(max)) \n",
        "  \n"
      ],
      "metadata": {
        "id": "rvEH4T1XPJ0Y"
      },
      "execution_count": null,
      "outputs": []
    },
    {
      "cell_type": "code",
      "source": [],
      "metadata": {
        "id": "XYrzHztOPJ3W"
      },
      "execution_count": null,
      "outputs": []
    },
    {
      "cell_type": "code",
      "source": [],
      "metadata": {
        "id": "fjc4pEhtPJ8v"
      },
      "execution_count": null,
      "outputs": []
    },
    {
      "cell_type": "code",
      "source": [],
      "metadata": {
        "id": "APDt-Jz2PJ_v"
      },
      "execution_count": null,
      "outputs": []
    }
  ],
  "metadata": {
    "colab": {
      "provenance": [],
      "mount_file_id": "1wikVEsG5Du7VgfmpcFObe3NA0FJtKWWv",
      "authorship_tag": "ABX9TyNCYrzicQKP2+FGAern1CSP",
      "include_colab_link": true
    },
    "kernelspec": {
      "display_name": "Python 3",
      "name": "python3"
    },
    "language_info": {
      "name": "python"
    }
  },
  "nbformat": 4,
  "nbformat_minor": 0
}