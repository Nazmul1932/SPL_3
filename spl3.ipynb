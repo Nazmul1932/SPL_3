{
  "cells": [
    {
      "cell_type": "markdown",
      "metadata": {
        "id": "view-in-github",
        "colab_type": "text"
      },
      "source": [
        "<a href=\"https://colab.research.google.com/github/Nazmul1932/SPL_3/blob/main/spl3.ipynb\" target=\"_parent\"><img src=\"https://colab.research.google.com/assets/colab-badge.svg\" alt=\"Open In Colab\"/></a>"
      ]
    },
    {
      "cell_type": "code",
      "source": [
        "!wget http://mallet.cs.umass.edu/dist/mallet-2.0.8.zip"
      ],
      "metadata": {
        "id": "RAbJ0UBqlJka"
      },
      "execution_count": null,
      "outputs": []
    },
    {
      "cell_type": "code",
      "source": [
        "!unzip mallet-2.0.8.zip"
      ],
      "metadata": {
        "id": "2LVtcC86lJcF"
      },
      "execution_count": null,
      "outputs": []
    },
    {
      "cell_type": "code",
      "source": [
        "\n",
        "from google.colab import drive\n",
        "drive.mount('/content/drive')\n",
        "\n"
      ],
      "metadata": {
        "id": "XYTh6R8J-XkE",
        "colab": {
          "base_uri": "https://localhost:8080/"
        },
        "outputId": "f7535b19-c3fc-4669-ab88-0d60c636146a"
      },
      "execution_count": 1,
      "outputs": [
        {
          "output_type": "stream",
          "name": "stdout",
          "text": [
            "Drive already mounted at /content/drive; to attempt to forcibly remount, call drive.mount(\"/content/drive\", force_remount=True).\n"
          ]
        }
      ]
    },
    {
      "cell_type": "code",
      "execution_count": null,
      "metadata": {
        "id": "aboFd-yUs61z"
      },
      "outputs": [],
      "source": [
        "!python -m pip install --upgrade pip\n",
        "!pip install pyLDAvis\n",
        "# import pyLDAvis\n",
        "import pyLDAvis.gensim_models # don't skip this\n",
        "\n",
        "from pprint import pprint\n",
        "import time\n",
        "import pandas as pd\n",
        "import re\n",
        "import string\n",
        "import nltk\n",
        "from gensim.models import CoherenceModel\n",
        "import gensim\n",
        "from gensim.utils import simple_preprocess as SIMPLE_PREPROCESS  \n",
        "from nltk.stem import WordNetLemmatizer\n",
        "from gensim.parsing.preprocessing import STOPWORDS as STOP_WORDS\n",
        "from nltk.corpus import stopwords\n",
        "from nltk import word_tokenize\n",
        "from nltk.stem.porter import *\n",
        "import numpy as np\n",
        "from gensim import corpora,models\n",
        "import time\n",
        "import pickle\n",
        "import warnings\n",
        "warnings.filterwarnings(\"ignore\")\n",
        "\n",
        "import matplotlib.pyplot as plt\n",
        "%matplotlib inline\n",
        "nltk.download('stopwords')\n",
        "nltk.download('wordnet')\n",
        "nltk.download('omw-1.4')\n",
        "\n",
        "import collections\n",
        "\n",
        "try:\n",
        "    collectionsAbc = collections.abc\n",
        "except AttributeError:\n",
        "    collectionsAbc = collections \n",
        "try:\n",
        "    from collections.abc import Callable  # noqa\n",
        "except ImportError:\n",
        "    from collections import Callable  # noqa\n",
        "\n"
      ]
    },
    {
      "cell_type": "code",
      "execution_count": 3,
      "metadata": {
        "id": "Y8tx6cheKjQx"
      },
      "outputs": [],
      "source": [
        "pd.options.display.max_colwidth = 1000\n",
        "pd.options.display.max_rows = 1000"
      ]
    },
    {
      "cell_type": "code",
      "execution_count": 71,
      "metadata": {
        "id": "90QWAv8MjYZB",
        "colab": {
          "base_uri": "https://localhost:8080/",
          "height": 1000
        },
        "outputId": "c61299e0-1de7-416d-a748-10bbf54087e0"
      },
      "outputs": [
        {
          "output_type": "execute_result",
          "data": {
            "text/plain": [
              "       Issue_id Priority Component  Duplicated_issue  \\\n",
              "0             1       P3      Team               NaN   \n",
              "1             2       P5      Team               NaN   \n",
              "2             3       P5      Team               NaN   \n",
              "3             4       P5      Team               NaN   \n",
              "4             5       P3      Team               NaN   \n",
              "...         ...      ...       ...               ...   \n",
              "85151    424679       P3       IDE          390071.0   \n",
              "85152    424714       P3        UI               NaN   \n",
              "85153    424722       P3   Website               NaN   \n",
              "85154    424764       P3       SWT               NaN   \n",
              "85155    424767       P3       IDE               NaN   \n",
              "\n",
              "                                                                            Title  \\\n",
              "0                                 Usability issue with external editors (1GE6IRL)   \n",
              "1                        Opening repository resources doesnt honor type (1GE6I1Q)   \n",
              "2                                       Sync does not indicate deletion (1GIEN83)   \n",
              "3      need better error message if catching up over read-only resource (1GF69TF)   \n",
              "4                              ISharingManager sharing API inconsistent (1GAUL8H)   \n",
              "...                                                                           ...   \n",
              "85151                                                          Crash on bootstarp   \n",
              "85152                                         [GTK/Linux] Blank Windows with GTK3   \n",
              "85153                                                                    software   \n",
              "85154                                                     Crash (MacOS) - getIvar   \n",
              "85155                                                                     eclipse   \n",
              "\n",
              "                                                                                                                                                                                                                                                                                                                                                                                                                                                                                                                                                                                                                                                                                                                                                                                                                                                                                                                                                                                                                                   Description  \\\n",
              "0      - Setup a project that contains a *.gif resource; \\t- release project to CVS; \\t- edit the *.gif resource with an external editor; e.g. PaintShop; \\t- save and close external editor; \\t- in Navigator open the icon resource and verify that your changes are there; \\t- release project; \\t\\t-> nothing to release!; \\t- in Navigator open the icon resource and verify that your changes are still there; ; \\tProblem: because I never Refreshed from local; the workspace hasnt changed so Release didnt find anything.; \\tHowever opening the resource with an external editor found the modified file on disk and showed the changes.; ; \\tThe real problem occurs if Release actually finds something to release but you dont spot that some resources are missing.; \\tThis is extremely error prone: one of my changes didnt made it into build 110 because of this!; ; NOTES:; EG (5/23/01 3:00:33 PM); \\tRelease should do a refresh from local before doing the release.; \\tMoving to VCM; ; ; KM (05/27/01 5:10:19 PM);...   \n",
              "1      Opening repository resource always open the default text editor and doesnt; \\thonor any mapping between resource types and editors.; \\tAs a result it is not possible to view the contents of an image (*.gif file) in a sensible way.; ; NOTES:; EG (5/24/2001 5:13:45 AM); \\tAgreed that this is needed eventually but not critical for June. \\t; \\tThere should also be a Java outliner when editing a java resource from the repository.; \\tMoving to VCM.; ; KM (5/24/01 2:09:21 PM); \\tIn general you cannot open a specialized editor on a remote resource because they can sometimes; \\tbe dependent on other resources and expect these to be local.  For example; an HTML page which; \\treferences a graphic; the HTML editor is going to try to look for the graphic to display it.; ; \\tYou cant be sure that the editor was written to accomodate remote or missing resources.; \\tWe discussed this some time ago with Dave T. and felt it was safer to just use vanilla editors for now.; ; KM (5/24/01 4:42:09 PM); \\...   \n",
              "2      KM (10/2/2001 5:55:18 PM); \\tThis PR about the deletion indicator in the sync viewer being too subtle.; \\tThis would be even more true for someone with vision problems.; \\tNE has good suggestion of using the label of the compare text viewer.; \\tWe may also consider a better icon.; \\tOn to the PR....; ; - delete file from project; - synchronize; - there is no indication that the file has been deleted from the workspace; - it looks the same as if the file is in the workspace but is empty; ; NOTES:; ; KM (8/15/2001 3:37:53 PM); \\tIt should appear as a rightfacing - arrow in the sync view.; \\tSent screen cap to NE requesting clarification.; ; NE (8/20/01 9:13:38 AM); \\tThe - in the arrow is clearer when there are other arrows present too (the + and change ones).; \\tOtherwise; its easy to miss the distinction; especially when the users attention is focussed; \\ton the text compare panes.; \\tId expect the Workspace file: label to indicate that it has been deleted.; \\tThe Repository file: ...   \n",
              "3                                                                                                                                                                                                                                                                                                                                                                        - become synchronized with some project in a repository; - use a different Eclipse to make a change to a file resource within this project and release it to the repository; - in the original Eclipse mark this file resource as being read-only (select it; right-click -> Properties; change; OK); - select the file resource; right-click -> Team -> Synchronize with Stream; - in the subsequent comparison view select the file resource; right-click -> Catchup; - since it has been marked as read-only there are inevitable problems.  However the error dialog that is shown; \\tdoes not offer much assistance (An IO error occurred: IO Error); ; ; NOTES:   \n",
              "4                                                                                                                                                                                                                                                                                                                                                                                                                                                                                                                                                                For getting/setting the managed state of a resource; the methods are:; ; isManaged(resource) and; manage(resource); ; for getting/setting the ignore state; the methods are:; ; getIgnored(resource); setIgnored(resource); ; These should be made more consistent.  I suggest renaming ignore methods:; ; isIgnored(resource) and; ignore(resource).; ; I think its good practice to not use get and set in method names unless its really; just a field accessor.; ; NOTES:   \n",
              "...                                                                                                                                                                                                                                                                                                                                                                                                                                                                                                                                                                                                                                                                                                                                                                                                                                                                                                                                                                                                                                        ...   \n",
              "85151                                                                                                                                                                                                                                                                                                                                                                                                                                                                                                                                                                                                                                                                                                                                                                                                                                                                                                                                                                                                                                      NaN   \n",
              "85152                                                                                                                                                                                                                                                                                                                                                                                                                                                                                                                           I started testing 4.4 and noticed the editor windows; package explorer; etc (all my views) are blank. I can see line numbers at left; and if I open; e.g. the updater window; I can see the contents without any problems. Since this was my first time using eclipse on this system; I tried 4.3 and all views were displaying contents. Then I started 4.3 with SWT_GTK3=1 and all contents were gone. So this is something to do with GTK3 but I have no idea of what else should I use to debug the issue.   \n",
              "85153                                                                                                                                                                                                                                                                                                                                                                                                                                                                                                                                                                                                                                                                                                                                                                                                                                                                                                                                                                                                                                      NaN   \n",
              "85154  Process:         eclipse [42412]; Path:            /Applications/eclipse.app/Eclipse.app/Contents/MacOS/eclipse; Identifier:      org.eclipse.sdk.ide; Version:         4.4.0 (4.4.0.I20131212-1600); Code Type:       X86-64 (Native); Parent Process:  ??? [1]; Responsible:     eclipse [42412]; User ID:         501; ; Date/Time:       2013-12-30 13:35:05.349 -0800; OS Version:      Mac OS X 10.9.1 (13B42); Report Version:  11; Anonymous UUID:  A1947271-CB55-A569-0A50-6F98CD512F75; ; Sleep/Wake UUID: AD41B295-97E2-4AB9-9A0B-91468C5B209E; ; Crashed Thread:  0  Dispatch queue: com.apple.main-thread; ; Exception Type:  EXC_BAD_ACCESS (SIGSEGV); Exception Codes: EXC_I386_GPFLT; ; Application Specific Information:; Java information:;  Exception type: Bus Error (0xa) at pc=7fff8870d957;  ;  Java VM: Java HotSpot(TM) 64-Bit Server VM (20.65-b04-462 mixed mode macosx-amd64);  ; Current thread (106000800):  JavaThread main [_thread_in_native; id=1921835792; stack(7fff5f400000;7fff5fc00000)]; Sta...   \n",
              "85155                                                                                                                                                                                                                                                                                                                                                                                                                                                                                                                                                                                                                                                                                                                                                                                                                                                                                                                                                                                                                                      NaN   \n",
              "\n",
              "         Status  Resolution Version      Created_time    Resolved_time  \n",
              "0        CLOSED       FIXED       2  10/10/2001 21:34   2/9/2012 15:57  \n",
              "1      RESOLVED       FIXED       2  10/10/2001 21:34   5/7/2002 10:33  \n",
              "2      RESOLVED       FIXED       2  10/10/2001 21:34   5/7/2010 10:28  \n",
              "3      RESOLVED       FIXED       2  10/10/2001 21:34   3/1/2002 16:27  \n",
              "4      RESOLVED     WONTFIX       2  10/10/2001 21:34   8/15/2008 8:04  \n",
              "...         ...         ...     ...               ...              ...  \n",
              "85151    CLOSED   DUPLICATE     4.3  12/26/2013 20:12  12/31/2013 5:32  \n",
              "85152    CLOSED  NDUPLICATE     4.4   12/28/2013 8:57   1/4/2014 13:54  \n",
              "85153  RESOLVED     INVALID   4.3.1   12/29/2013 3:57    1/7/2014 8:47  \n",
              "85154    CLOSED  NDUPLICATE     4.4  12/30/2013 16:43  12/31/2013 4:35  \n",
              "85155    CLOSED     INVALID   3.2.2  12/30/2013 18:05  12/31/2013 4:21  \n",
              "\n",
              "[85156 rows x 11 columns]"
            ],
            "text/html": [
              "\n",
              "  <div id=\"df-d962f4b9-61bf-456e-8da3-340a169265bb\">\n",
              "    <div class=\"colab-df-container\">\n",
              "      <div>\n",
              "<style scoped>\n",
              "    .dataframe tbody tr th:only-of-type {\n",
              "        vertical-align: middle;\n",
              "    }\n",
              "\n",
              "    .dataframe tbody tr th {\n",
              "        vertical-align: top;\n",
              "    }\n",
              "\n",
              "    .dataframe thead th {\n",
              "        text-align: right;\n",
              "    }\n",
              "</style>\n",
              "<table border=\"1\" class=\"dataframe\">\n",
              "  <thead>\n",
              "    <tr style=\"text-align: right;\">\n",
              "      <th></th>\n",
              "      <th>Issue_id</th>\n",
              "      <th>Priority</th>\n",
              "      <th>Component</th>\n",
              "      <th>Duplicated_issue</th>\n",
              "      <th>Title</th>\n",
              "      <th>Description</th>\n",
              "      <th>Status</th>\n",
              "      <th>Resolution</th>\n",
              "      <th>Version</th>\n",
              "      <th>Created_time</th>\n",
              "      <th>Resolved_time</th>\n",
              "    </tr>\n",
              "  </thead>\n",
              "  <tbody>\n",
              "    <tr>\n",
              "      <th>0</th>\n",
              "      <td>1</td>\n",
              "      <td>P3</td>\n",
              "      <td>Team</td>\n",
              "      <td>NaN</td>\n",
              "      <td>Usability issue with external editors (1GE6IRL)</td>\n",
              "      <td>- Setup a project that contains a *.gif resource; \\t- release project to CVS; \\t- edit the *.gif resource with an external editor; e.g. PaintShop; \\t- save and close external editor; \\t- in Navigator open the icon resource and verify that your changes are there; \\t- release project; \\t\\t-&gt; nothing to release!; \\t- in Navigator open the icon resource and verify that your changes are still there; ; \\tProblem: because I never Refreshed from local; the workspace hasnt changed so Release didnt find anything.; \\tHowever opening the resource with an external editor found the modified file on disk and showed the changes.; ; \\tThe real problem occurs if Release actually finds something to release but you dont spot that some resources are missing.; \\tThis is extremely error prone: one of my changes didnt made it into build 110 because of this!; ; NOTES:; EG (5/23/01 3:00:33 PM); \\tRelease should do a refresh from local before doing the release.; \\tMoving to VCM; ; ; KM (05/27/01 5:10:19 PM);...</td>\n",
              "      <td>CLOSED</td>\n",
              "      <td>FIXED</td>\n",
              "      <td>2</td>\n",
              "      <td>10/10/2001 21:34</td>\n",
              "      <td>2/9/2012 15:57</td>\n",
              "    </tr>\n",
              "    <tr>\n",
              "      <th>1</th>\n",
              "      <td>2</td>\n",
              "      <td>P5</td>\n",
              "      <td>Team</td>\n",
              "      <td>NaN</td>\n",
              "      <td>Opening repository resources doesnt honor type (1GE6I1Q)</td>\n",
              "      <td>Opening repository resource always open the default text editor and doesnt; \\thonor any mapping between resource types and editors.; \\tAs a result it is not possible to view the contents of an image (*.gif file) in a sensible way.; ; NOTES:; EG (5/24/2001 5:13:45 AM); \\tAgreed that this is needed eventually but not critical for June. \\t; \\tThere should also be a Java outliner when editing a java resource from the repository.; \\tMoving to VCM.; ; KM (5/24/01 2:09:21 PM); \\tIn general you cannot open a specialized editor on a remote resource because they can sometimes; \\tbe dependent on other resources and expect these to be local.  For example; an HTML page which; \\treferences a graphic; the HTML editor is going to try to look for the graphic to display it.; ; \\tYou cant be sure that the editor was written to accomodate remote or missing resources.; \\tWe discussed this some time ago with Dave T. and felt it was safer to just use vanilla editors for now.; ; KM (5/24/01 4:42:09 PM); \\...</td>\n",
              "      <td>RESOLVED</td>\n",
              "      <td>FIXED</td>\n",
              "      <td>2</td>\n",
              "      <td>10/10/2001 21:34</td>\n",
              "      <td>5/7/2002 10:33</td>\n",
              "    </tr>\n",
              "    <tr>\n",
              "      <th>2</th>\n",
              "      <td>3</td>\n",
              "      <td>P5</td>\n",
              "      <td>Team</td>\n",
              "      <td>NaN</td>\n",
              "      <td>Sync does not indicate deletion (1GIEN83)</td>\n",
              "      <td>KM (10/2/2001 5:55:18 PM); \\tThis PR about the deletion indicator in the sync viewer being too subtle.; \\tThis would be even more true for someone with vision problems.; \\tNE has good suggestion of using the label of the compare text viewer.; \\tWe may also consider a better icon.; \\tOn to the PR....; ; - delete file from project; - synchronize; - there is no indication that the file has been deleted from the workspace; - it looks the same as if the file is in the workspace but is empty; ; NOTES:; ; KM (8/15/2001 3:37:53 PM); \\tIt should appear as a rightfacing - arrow in the sync view.; \\tSent screen cap to NE requesting clarification.; ; NE (8/20/01 9:13:38 AM); \\tThe - in the arrow is clearer when there are other arrows present too (the + and change ones).; \\tOtherwise; its easy to miss the distinction; especially when the users attention is focussed; \\ton the text compare panes.; \\tId expect the Workspace file: label to indicate that it has been deleted.; \\tThe Repository file: ...</td>\n",
              "      <td>RESOLVED</td>\n",
              "      <td>FIXED</td>\n",
              "      <td>2</td>\n",
              "      <td>10/10/2001 21:34</td>\n",
              "      <td>5/7/2010 10:28</td>\n",
              "    </tr>\n",
              "    <tr>\n",
              "      <th>3</th>\n",
              "      <td>4</td>\n",
              "      <td>P5</td>\n",
              "      <td>Team</td>\n",
              "      <td>NaN</td>\n",
              "      <td>need better error message if catching up over read-only resource (1GF69TF)</td>\n",
              "      <td>- become synchronized with some project in a repository; - use a different Eclipse to make a change to a file resource within this project and release it to the repository; - in the original Eclipse mark this file resource as being read-only (select it; right-click -&gt; Properties; change; OK); - select the file resource; right-click -&gt; Team -&gt; Synchronize with Stream; - in the subsequent comparison view select the file resource; right-click -&gt; Catchup; - since it has been marked as read-only there are inevitable problems.  However the error dialog that is shown; \\tdoes not offer much assistance (An IO error occurred: IO Error); ; ; NOTES:</td>\n",
              "      <td>RESOLVED</td>\n",
              "      <td>FIXED</td>\n",
              "      <td>2</td>\n",
              "      <td>10/10/2001 21:34</td>\n",
              "      <td>3/1/2002 16:27</td>\n",
              "    </tr>\n",
              "    <tr>\n",
              "      <th>4</th>\n",
              "      <td>5</td>\n",
              "      <td>P3</td>\n",
              "      <td>Team</td>\n",
              "      <td>NaN</td>\n",
              "      <td>ISharingManager sharing API inconsistent (1GAUL8H)</td>\n",
              "      <td>For getting/setting the managed state of a resource; the methods are:; ; isManaged(resource) and; manage(resource); ; for getting/setting the ignore state; the methods are:; ; getIgnored(resource); setIgnored(resource); ; These should be made more consistent.  I suggest renaming ignore methods:; ; isIgnored(resource) and; ignore(resource).; ; I think its good practice to not use get and set in method names unless its really; just a field accessor.; ; NOTES:</td>\n",
              "      <td>RESOLVED</td>\n",
              "      <td>WONTFIX</td>\n",
              "      <td>2</td>\n",
              "      <td>10/10/2001 21:34</td>\n",
              "      <td>8/15/2008 8:04</td>\n",
              "    </tr>\n",
              "    <tr>\n",
              "      <th>...</th>\n",
              "      <td>...</td>\n",
              "      <td>...</td>\n",
              "      <td>...</td>\n",
              "      <td>...</td>\n",
              "      <td>...</td>\n",
              "      <td>...</td>\n",
              "      <td>...</td>\n",
              "      <td>...</td>\n",
              "      <td>...</td>\n",
              "      <td>...</td>\n",
              "      <td>...</td>\n",
              "    </tr>\n",
              "    <tr>\n",
              "      <th>85151</th>\n",
              "      <td>424679</td>\n",
              "      <td>P3</td>\n",
              "      <td>IDE</td>\n",
              "      <td>390071.0</td>\n",
              "      <td>Crash on bootstarp</td>\n",
              "      <td>NaN</td>\n",
              "      <td>CLOSED</td>\n",
              "      <td>DUPLICATE</td>\n",
              "      <td>4.3</td>\n",
              "      <td>12/26/2013 20:12</td>\n",
              "      <td>12/31/2013 5:32</td>\n",
              "    </tr>\n",
              "    <tr>\n",
              "      <th>85152</th>\n",
              "      <td>424714</td>\n",
              "      <td>P3</td>\n",
              "      <td>UI</td>\n",
              "      <td>NaN</td>\n",
              "      <td>[GTK/Linux] Blank Windows with GTK3</td>\n",
              "      <td>I started testing 4.4 and noticed the editor windows; package explorer; etc (all my views) are blank. I can see line numbers at left; and if I open; e.g. the updater window; I can see the contents without any problems. Since this was my first time using eclipse on this system; I tried 4.3 and all views were displaying contents. Then I started 4.3 with SWT_GTK3=1 and all contents were gone. So this is something to do with GTK3 but I have no idea of what else should I use to debug the issue.</td>\n",
              "      <td>CLOSED</td>\n",
              "      <td>NDUPLICATE</td>\n",
              "      <td>4.4</td>\n",
              "      <td>12/28/2013 8:57</td>\n",
              "      <td>1/4/2014 13:54</td>\n",
              "    </tr>\n",
              "    <tr>\n",
              "      <th>85153</th>\n",
              "      <td>424722</td>\n",
              "      <td>P3</td>\n",
              "      <td>Website</td>\n",
              "      <td>NaN</td>\n",
              "      <td>software</td>\n",
              "      <td>NaN</td>\n",
              "      <td>RESOLVED</td>\n",
              "      <td>INVALID</td>\n",
              "      <td>4.3.1</td>\n",
              "      <td>12/29/2013 3:57</td>\n",
              "      <td>1/7/2014 8:47</td>\n",
              "    </tr>\n",
              "    <tr>\n",
              "      <th>85154</th>\n",
              "      <td>424764</td>\n",
              "      <td>P3</td>\n",
              "      <td>SWT</td>\n",
              "      <td>NaN</td>\n",
              "      <td>Crash (MacOS) - getIvar</td>\n",
              "      <td>Process:         eclipse [42412]; Path:            /Applications/eclipse.app/Eclipse.app/Contents/MacOS/eclipse; Identifier:      org.eclipse.sdk.ide; Version:         4.4.0 (4.4.0.I20131212-1600); Code Type:       X86-64 (Native); Parent Process:  ??? [1]; Responsible:     eclipse [42412]; User ID:         501; ; Date/Time:       2013-12-30 13:35:05.349 -0800; OS Version:      Mac OS X 10.9.1 (13B42); Report Version:  11; Anonymous UUID:  A1947271-CB55-A569-0A50-6F98CD512F75; ; Sleep/Wake UUID: AD41B295-97E2-4AB9-9A0B-91468C5B209E; ; Crashed Thread:  0  Dispatch queue: com.apple.main-thread; ; Exception Type:  EXC_BAD_ACCESS (SIGSEGV); Exception Codes: EXC_I386_GPFLT; ; Application Specific Information:; Java information:;  Exception type: Bus Error (0xa) at pc=7fff8870d957;  ;  Java VM: Java HotSpot(TM) 64-Bit Server VM (20.65-b04-462 mixed mode macosx-amd64);  ; Current thread (106000800):  JavaThread main [_thread_in_native; id=1921835792; stack(7fff5f400000;7fff5fc00000)]; Sta...</td>\n",
              "      <td>CLOSED</td>\n",
              "      <td>NDUPLICATE</td>\n",
              "      <td>4.4</td>\n",
              "      <td>12/30/2013 16:43</td>\n",
              "      <td>12/31/2013 4:35</td>\n",
              "    </tr>\n",
              "    <tr>\n",
              "      <th>85155</th>\n",
              "      <td>424767</td>\n",
              "      <td>P3</td>\n",
              "      <td>IDE</td>\n",
              "      <td>NaN</td>\n",
              "      <td>eclipse</td>\n",
              "      <td>NaN</td>\n",
              "      <td>CLOSED</td>\n",
              "      <td>INVALID</td>\n",
              "      <td>3.2.2</td>\n",
              "      <td>12/30/2013 18:05</td>\n",
              "      <td>12/31/2013 4:21</td>\n",
              "    </tr>\n",
              "  </tbody>\n",
              "</table>\n",
              "<p>85156 rows × 11 columns</p>\n",
              "</div>\n",
              "      <button class=\"colab-df-convert\" onclick=\"convertToInteractive('df-d962f4b9-61bf-456e-8da3-340a169265bb')\"\n",
              "              title=\"Convert this dataframe to an interactive table.\"\n",
              "              style=\"display:none;\">\n",
              "        \n",
              "  <svg xmlns=\"http://www.w3.org/2000/svg\" height=\"24px\"viewBox=\"0 0 24 24\"\n",
              "       width=\"24px\">\n",
              "    <path d=\"M0 0h24v24H0V0z\" fill=\"none\"/>\n",
              "    <path d=\"M18.56 5.44l.94 2.06.94-2.06 2.06-.94-2.06-.94-.94-2.06-.94 2.06-2.06.94zm-11 1L8.5 8.5l.94-2.06 2.06-.94-2.06-.94L8.5 2.5l-.94 2.06-2.06.94zm10 10l.94 2.06.94-2.06 2.06-.94-2.06-.94-.94-2.06-.94 2.06-2.06.94z\"/><path d=\"M17.41 7.96l-1.37-1.37c-.4-.4-.92-.59-1.43-.59-.52 0-1.04.2-1.43.59L10.3 9.45l-7.72 7.72c-.78.78-.78 2.05 0 2.83L4 21.41c.39.39.9.59 1.41.59.51 0 1.02-.2 1.41-.59l7.78-7.78 2.81-2.81c.8-.78.8-2.07 0-2.86zM5.41 20L4 18.59l7.72-7.72 1.47 1.35L5.41 20z\"/>\n",
              "  </svg>\n",
              "      </button>\n",
              "      \n",
              "  <style>\n",
              "    .colab-df-container {\n",
              "      display:flex;\n",
              "      flex-wrap:wrap;\n",
              "      gap: 12px;\n",
              "    }\n",
              "\n",
              "    .colab-df-convert {\n",
              "      background-color: #E8F0FE;\n",
              "      border: none;\n",
              "      border-radius: 50%;\n",
              "      cursor: pointer;\n",
              "      display: none;\n",
              "      fill: #1967D2;\n",
              "      height: 32px;\n",
              "      padding: 0 0 0 0;\n",
              "      width: 32px;\n",
              "    }\n",
              "\n",
              "    .colab-df-convert:hover {\n",
              "      background-color: #E2EBFA;\n",
              "      box-shadow: 0px 1px 2px rgba(60, 64, 67, 0.3), 0px 1px 3px 1px rgba(60, 64, 67, 0.15);\n",
              "      fill: #174EA6;\n",
              "    }\n",
              "\n",
              "    [theme=dark] .colab-df-convert {\n",
              "      background-color: #3B4455;\n",
              "      fill: #D2E3FC;\n",
              "    }\n",
              "\n",
              "    [theme=dark] .colab-df-convert:hover {\n",
              "      background-color: #434B5C;\n",
              "      box-shadow: 0px 1px 3px 1px rgba(0, 0, 0, 0.15);\n",
              "      filter: drop-shadow(0px 1px 2px rgba(0, 0, 0, 0.3));\n",
              "      fill: #FFFFFF;\n",
              "    }\n",
              "  </style>\n",
              "\n",
              "      <script>\n",
              "        const buttonEl =\n",
              "          document.querySelector('#df-d962f4b9-61bf-456e-8da3-340a169265bb button.colab-df-convert');\n",
              "        buttonEl.style.display =\n",
              "          google.colab.kernel.accessAllowed ? 'block' : 'none';\n",
              "\n",
              "        async function convertToInteractive(key) {\n",
              "          const element = document.querySelector('#df-d962f4b9-61bf-456e-8da3-340a169265bb');\n",
              "          const dataTable =\n",
              "            await google.colab.kernel.invokeFunction('convertToInteractive',\n",
              "                                                     [key], {});\n",
              "          if (!dataTable) return;\n",
              "\n",
              "          const docLinkHtml = 'Like what you see? Visit the ' +\n",
              "            '<a target=\"_blank\" href=https://colab.research.google.com/notebooks/data_table.ipynb>data table notebook</a>'\n",
              "            + ' to learn more about interactive tables.';\n",
              "          element.innerHTML = '';\n",
              "          dataTable['output_type'] = 'display_data';\n",
              "          await google.colab.output.renderOutput(dataTable, element);\n",
              "          const docLink = document.createElement('div');\n",
              "          docLink.innerHTML = docLinkHtml;\n",
              "          element.appendChild(docLink);\n",
              "        }\n",
              "      </script>\n",
              "    </div>\n",
              "  </div>\n",
              "  "
            ]
          },
          "metadata": {},
          "execution_count": 71
        }
      ],
      "source": [
        "csv_file = \"/content/drive/MyDrive/eclipse_platform.csv\"\n",
        "\n",
        "bug_report = pd.read_csv(csv_file)\n",
        "bug_report"
      ]
    },
    {
      "cell_type": "code",
      "execution_count": null,
      "metadata": {
        "id": "hbIUBcdYjiqJ"
      },
      "outputs": [],
      "source": [
        "%%time\n",
        "\n",
        "bug_report = bug_report.drop(columns=['Component', 'Status', 'Resolution', 'Version', 'Created_time', 'Resolved_time'])\n",
        "bug_report = bug_report.dropna(axis=0, subset=['Description'])\n",
        "bug_report[bug_report['Description'].map(len) > 4]\n",
        "\n",
        "# bug_report.head(1)"
      ]
    },
    {
      "cell_type": "code",
      "execution_count": 9,
      "metadata": {
        "id": "haOUMetGEADH",
        "colab": {
          "base_uri": "https://localhost:8080/"
        },
        "outputId": "cddbcd3b-91b1-409e-fc4c-86fabc2e9286"
      },
      "outputs": [
        {
          "output_type": "stream",
          "name": "stdout",
          "text": [
            "CPU times: user 489 ms, sys: 0 ns, total: 489 ms\n",
            "Wall time: 493 ms\n"
          ]
        }
      ],
      "source": [
        "%%time\n",
        "\n",
        "bug_report[\"Description\"] = bug_report[\"Description\"].str.replace(\"Fixed in HEAD\", \"\")\n",
        "bug_report[\"Description\"] = bug_report[\"Description\"].str.replace(\"Has been marked as read-only\", \" \")"
      ]
    },
    {
      "cell_type": "code",
      "execution_count": 10,
      "metadata": {
        "id": "qLMvbsybJpve",
        "colab": {
          "base_uri": "https://localhost:8080/"
        },
        "outputId": "40ff63e9-fc91-4da6-ffdc-164f1e066ba3"
      },
      "outputs": [
        {
          "output_type": "stream",
          "name": "stdout",
          "text": [
            "CPU times: user 15.7 s, sys: 22.4 ms, total: 15.8 s\n",
            "Wall time: 16.7 s\n"
          ]
        }
      ],
      "source": [
        "%%time\n",
        "\n",
        "def cleanTextFromDescriptionAndTitle(report):\n",
        "\n",
        "  report = report.replace('\\t', '')\n",
        "  report = re.sub('\\w*\\d\\w*', '', report)\n",
        "  report = report.lower()\n",
        "  report = report.translate(str.maketrans('', '', string.punctuation))\n",
        "    \n",
        "  return report\n",
        "\n",
        "bug_report['Description'] = bug_report['Description'].apply(lambda x: cleanTextFromDescriptionAndTitle(x))\n",
        "bug_report['Title'] = bug_report['Title'].apply(lambda x: cleanTextFromDescriptionAndTitle(x))\n",
        "\n",
        "# bug_report.loc[[0]]"
      ]
    },
    {
      "cell_type": "code",
      "source": [
        "result = bug_report.copy(deep=True)\n",
        "result.reset_index(drop=True, inplace=True)\n",
        "result.to_csv('drive/My Drive/result_reports.csv')\n",
        "result"
      ],
      "metadata": {
        "id": "Nv_qO3aOjcpa",
        "colab": {
          "base_uri": "https://localhost:8080/",
          "height": 1000
        },
        "outputId": "cf8bd5d2-46d2-471a-fb19-af0b28bfabd4"
      },
      "execution_count": 73,
      "outputs": [
        {
          "output_type": "execute_result",
          "data": {
            "text/plain": [
              "       Issue_id Priority Component  Duplicated_issue  \\\n",
              "0             1       P3      Team               NaN   \n",
              "1             2       P5      Team               NaN   \n",
              "2             3       P5      Team               NaN   \n",
              "3             4       P5      Team               NaN   \n",
              "4             5       P3      Team               NaN   \n",
              "...         ...      ...       ...               ...   \n",
              "85151    424679       P3       IDE          390071.0   \n",
              "85152    424714       P3        UI               NaN   \n",
              "85153    424722       P3   Website               NaN   \n",
              "85154    424764       P3       SWT               NaN   \n",
              "85155    424767       P3       IDE               NaN   \n",
              "\n",
              "                                                                            Title  \\\n",
              "0                                 Usability issue with external editors (1GE6IRL)   \n",
              "1                        Opening repository resources doesnt honor type (1GE6I1Q)   \n",
              "2                                       Sync does not indicate deletion (1GIEN83)   \n",
              "3      need better error message if catching up over read-only resource (1GF69TF)   \n",
              "4                              ISharingManager sharing API inconsistent (1GAUL8H)   \n",
              "...                                                                           ...   \n",
              "85151                                                          Crash on bootstarp   \n",
              "85152                                         [GTK/Linux] Blank Windows with GTK3   \n",
              "85153                                                                    software   \n",
              "85154                                                     Crash (MacOS) - getIvar   \n",
              "85155                                                                     eclipse   \n",
              "\n",
              "                                                                                                                                                                                                                                                                                                                                                                                                                                                                                                                                                                                                                                                                                                                                                                                                                                                                                                                                                                                                                                   Description  \\\n",
              "0      - Setup a project that contains a *.gif resource; \\t- release project to CVS; \\t- edit the *.gif resource with an external editor; e.g. PaintShop; \\t- save and close external editor; \\t- in Navigator open the icon resource and verify that your changes are there; \\t- release project; \\t\\t-> nothing to release!; \\t- in Navigator open the icon resource and verify that your changes are still there; ; \\tProblem: because I never Refreshed from local; the workspace hasnt changed so Release didnt find anything.; \\tHowever opening the resource with an external editor found the modified file on disk and showed the changes.; ; \\tThe real problem occurs if Release actually finds something to release but you dont spot that some resources are missing.; \\tThis is extremely error prone: one of my changes didnt made it into build 110 because of this!; ; NOTES:; EG (5/23/01 3:00:33 PM); \\tRelease should do a refresh from local before doing the release.; \\tMoving to VCM; ; ; KM (05/27/01 5:10:19 PM);...   \n",
              "1      Opening repository resource always open the default text editor and doesnt; \\thonor any mapping between resource types and editors.; \\tAs a result it is not possible to view the contents of an image (*.gif file) in a sensible way.; ; NOTES:; EG (5/24/2001 5:13:45 AM); \\tAgreed that this is needed eventually but not critical for June. \\t; \\tThere should also be a Java outliner when editing a java resource from the repository.; \\tMoving to VCM.; ; KM (5/24/01 2:09:21 PM); \\tIn general you cannot open a specialized editor on a remote resource because they can sometimes; \\tbe dependent on other resources and expect these to be local.  For example; an HTML page which; \\treferences a graphic; the HTML editor is going to try to look for the graphic to display it.; ; \\tYou cant be sure that the editor was written to accomodate remote or missing resources.; \\tWe discussed this some time ago with Dave T. and felt it was safer to just use vanilla editors for now.; ; KM (5/24/01 4:42:09 PM); \\...   \n",
              "2      KM (10/2/2001 5:55:18 PM); \\tThis PR about the deletion indicator in the sync viewer being too subtle.; \\tThis would be even more true for someone with vision problems.; \\tNE has good suggestion of using the label of the compare text viewer.; \\tWe may also consider a better icon.; \\tOn to the PR....; ; - delete file from project; - synchronize; - there is no indication that the file has been deleted from the workspace; - it looks the same as if the file is in the workspace but is empty; ; NOTES:; ; KM (8/15/2001 3:37:53 PM); \\tIt should appear as a rightfacing - arrow in the sync view.; \\tSent screen cap to NE requesting clarification.; ; NE (8/20/01 9:13:38 AM); \\tThe - in the arrow is clearer when there are other arrows present too (the + and change ones).; \\tOtherwise; its easy to miss the distinction; especially when the users attention is focussed; \\ton the text compare panes.; \\tId expect the Workspace file: label to indicate that it has been deleted.; \\tThe Repository file: ...   \n",
              "3                                                                                                                                                                                                                                                                                                                                                                        - become synchronized with some project in a repository; - use a different Eclipse to make a change to a file resource within this project and release it to the repository; - in the original Eclipse mark this file resource as being read-only (select it; right-click -> Properties; change; OK); - select the file resource; right-click -> Team -> Synchronize with Stream; - in the subsequent comparison view select the file resource; right-click -> Catchup; - since it has been marked as read-only there are inevitable problems.  However the error dialog that is shown; \\tdoes not offer much assistance (An IO error occurred: IO Error); ; ; NOTES:   \n",
              "4                                                                                                                                                                                                                                                                                                                                                                                                                                                                                                                                                                For getting/setting the managed state of a resource; the methods are:; ; isManaged(resource) and; manage(resource); ; for getting/setting the ignore state; the methods are:; ; getIgnored(resource); setIgnored(resource); ; These should be made more consistent.  I suggest renaming ignore methods:; ; isIgnored(resource) and; ignore(resource).; ; I think its good practice to not use get and set in method names unless its really; just a field accessor.; ; NOTES:   \n",
              "...                                                                                                                                                                                                                                                                                                                                                                                                                                                                                                                                                                                                                                                                                                                                                                                                                                                                                                                                                                                                                                        ...   \n",
              "85151                                                                                                                                                                                                                                                                                                                                                                                                                                                                                                                                                                                                                                                                                                                                                                                                                                                                                                                                                                                                                                      NaN   \n",
              "85152                                                                                                                                                                                                                                                                                                                                                                                                                                                                                                                           I started testing 4.4 and noticed the editor windows; package explorer; etc (all my views) are blank. I can see line numbers at left; and if I open; e.g. the updater window; I can see the contents without any problems. Since this was my first time using eclipse on this system; I tried 4.3 and all views were displaying contents. Then I started 4.3 with SWT_GTK3=1 and all contents were gone. So this is something to do with GTK3 but I have no idea of what else should I use to debug the issue.   \n",
              "85153                                                                                                                                                                                                                                                                                                                                                                                                                                                                                                                                                                                                                                                                                                                                                                                                                                                                                                                                                                                                                                      NaN   \n",
              "85154  Process:         eclipse [42412]; Path:            /Applications/eclipse.app/Eclipse.app/Contents/MacOS/eclipse; Identifier:      org.eclipse.sdk.ide; Version:         4.4.0 (4.4.0.I20131212-1600); Code Type:       X86-64 (Native); Parent Process:  ??? [1]; Responsible:     eclipse [42412]; User ID:         501; ; Date/Time:       2013-12-30 13:35:05.349 -0800; OS Version:      Mac OS X 10.9.1 (13B42); Report Version:  11; Anonymous UUID:  A1947271-CB55-A569-0A50-6F98CD512F75; ; Sleep/Wake UUID: AD41B295-97E2-4AB9-9A0B-91468C5B209E; ; Crashed Thread:  0  Dispatch queue: com.apple.main-thread; ; Exception Type:  EXC_BAD_ACCESS (SIGSEGV); Exception Codes: EXC_I386_GPFLT; ; Application Specific Information:; Java information:;  Exception type: Bus Error (0xa) at pc=7fff8870d957;  ;  Java VM: Java HotSpot(TM) 64-Bit Server VM (20.65-b04-462 mixed mode macosx-amd64);  ; Current thread (106000800):  JavaThread main [_thread_in_native; id=1921835792; stack(7fff5f400000;7fff5fc00000)]; Sta...   \n",
              "85155                                                                                                                                                                                                                                                                                                                                                                                                                                                                                                                                                                                                                                                                                                                                                                                                                                                                                                                                                                                                                                      NaN   \n",
              "\n",
              "         Status  Resolution Version      Created_time    Resolved_time  \n",
              "0        CLOSED       FIXED       2  10/10/2001 21:34   2/9/2012 15:57  \n",
              "1      RESOLVED       FIXED       2  10/10/2001 21:34   5/7/2002 10:33  \n",
              "2      RESOLVED       FIXED       2  10/10/2001 21:34   5/7/2010 10:28  \n",
              "3      RESOLVED       FIXED       2  10/10/2001 21:34   3/1/2002 16:27  \n",
              "4      RESOLVED     WONTFIX       2  10/10/2001 21:34   8/15/2008 8:04  \n",
              "...         ...         ...     ...               ...              ...  \n",
              "85151    CLOSED   DUPLICATE     4.3  12/26/2013 20:12  12/31/2013 5:32  \n",
              "85152    CLOSED  NDUPLICATE     4.4   12/28/2013 8:57   1/4/2014 13:54  \n",
              "85153  RESOLVED     INVALID   4.3.1   12/29/2013 3:57    1/7/2014 8:47  \n",
              "85154    CLOSED  NDUPLICATE     4.4  12/30/2013 16:43  12/31/2013 4:35  \n",
              "85155    CLOSED     INVALID   3.2.2  12/30/2013 18:05  12/31/2013 4:21  \n",
              "\n",
              "[85156 rows x 11 columns]"
            ],
            "text/html": [
              "\n",
              "  <div id=\"df-934f3bef-f42f-48ba-9f45-375bdee95bf8\">\n",
              "    <div class=\"colab-df-container\">\n",
              "      <div>\n",
              "<style scoped>\n",
              "    .dataframe tbody tr th:only-of-type {\n",
              "        vertical-align: middle;\n",
              "    }\n",
              "\n",
              "    .dataframe tbody tr th {\n",
              "        vertical-align: top;\n",
              "    }\n",
              "\n",
              "    .dataframe thead th {\n",
              "        text-align: right;\n",
              "    }\n",
              "</style>\n",
              "<table border=\"1\" class=\"dataframe\">\n",
              "  <thead>\n",
              "    <tr style=\"text-align: right;\">\n",
              "      <th></th>\n",
              "      <th>Issue_id</th>\n",
              "      <th>Priority</th>\n",
              "      <th>Component</th>\n",
              "      <th>Duplicated_issue</th>\n",
              "      <th>Title</th>\n",
              "      <th>Description</th>\n",
              "      <th>Status</th>\n",
              "      <th>Resolution</th>\n",
              "      <th>Version</th>\n",
              "      <th>Created_time</th>\n",
              "      <th>Resolved_time</th>\n",
              "    </tr>\n",
              "  </thead>\n",
              "  <tbody>\n",
              "    <tr>\n",
              "      <th>0</th>\n",
              "      <td>1</td>\n",
              "      <td>P3</td>\n",
              "      <td>Team</td>\n",
              "      <td>NaN</td>\n",
              "      <td>Usability issue with external editors (1GE6IRL)</td>\n",
              "      <td>- Setup a project that contains a *.gif resource; \\t- release project to CVS; \\t- edit the *.gif resource with an external editor; e.g. PaintShop; \\t- save and close external editor; \\t- in Navigator open the icon resource and verify that your changes are there; \\t- release project; \\t\\t-&gt; nothing to release!; \\t- in Navigator open the icon resource and verify that your changes are still there; ; \\tProblem: because I never Refreshed from local; the workspace hasnt changed so Release didnt find anything.; \\tHowever opening the resource with an external editor found the modified file on disk and showed the changes.; ; \\tThe real problem occurs if Release actually finds something to release but you dont spot that some resources are missing.; \\tThis is extremely error prone: one of my changes didnt made it into build 110 because of this!; ; NOTES:; EG (5/23/01 3:00:33 PM); \\tRelease should do a refresh from local before doing the release.; \\tMoving to VCM; ; ; KM (05/27/01 5:10:19 PM);...</td>\n",
              "      <td>CLOSED</td>\n",
              "      <td>FIXED</td>\n",
              "      <td>2</td>\n",
              "      <td>10/10/2001 21:34</td>\n",
              "      <td>2/9/2012 15:57</td>\n",
              "    </tr>\n",
              "    <tr>\n",
              "      <th>1</th>\n",
              "      <td>2</td>\n",
              "      <td>P5</td>\n",
              "      <td>Team</td>\n",
              "      <td>NaN</td>\n",
              "      <td>Opening repository resources doesnt honor type (1GE6I1Q)</td>\n",
              "      <td>Opening repository resource always open the default text editor and doesnt; \\thonor any mapping between resource types and editors.; \\tAs a result it is not possible to view the contents of an image (*.gif file) in a sensible way.; ; NOTES:; EG (5/24/2001 5:13:45 AM); \\tAgreed that this is needed eventually but not critical for June. \\t; \\tThere should also be a Java outliner when editing a java resource from the repository.; \\tMoving to VCM.; ; KM (5/24/01 2:09:21 PM); \\tIn general you cannot open a specialized editor on a remote resource because they can sometimes; \\tbe dependent on other resources and expect these to be local.  For example; an HTML page which; \\treferences a graphic; the HTML editor is going to try to look for the graphic to display it.; ; \\tYou cant be sure that the editor was written to accomodate remote or missing resources.; \\tWe discussed this some time ago with Dave T. and felt it was safer to just use vanilla editors for now.; ; KM (5/24/01 4:42:09 PM); \\...</td>\n",
              "      <td>RESOLVED</td>\n",
              "      <td>FIXED</td>\n",
              "      <td>2</td>\n",
              "      <td>10/10/2001 21:34</td>\n",
              "      <td>5/7/2002 10:33</td>\n",
              "    </tr>\n",
              "    <tr>\n",
              "      <th>2</th>\n",
              "      <td>3</td>\n",
              "      <td>P5</td>\n",
              "      <td>Team</td>\n",
              "      <td>NaN</td>\n",
              "      <td>Sync does not indicate deletion (1GIEN83)</td>\n",
              "      <td>KM (10/2/2001 5:55:18 PM); \\tThis PR about the deletion indicator in the sync viewer being too subtle.; \\tThis would be even more true for someone with vision problems.; \\tNE has good suggestion of using the label of the compare text viewer.; \\tWe may also consider a better icon.; \\tOn to the PR....; ; - delete file from project; - synchronize; - there is no indication that the file has been deleted from the workspace; - it looks the same as if the file is in the workspace but is empty; ; NOTES:; ; KM (8/15/2001 3:37:53 PM); \\tIt should appear as a rightfacing - arrow in the sync view.; \\tSent screen cap to NE requesting clarification.; ; NE (8/20/01 9:13:38 AM); \\tThe - in the arrow is clearer when there are other arrows present too (the + and change ones).; \\tOtherwise; its easy to miss the distinction; especially when the users attention is focussed; \\ton the text compare panes.; \\tId expect the Workspace file: label to indicate that it has been deleted.; \\tThe Repository file: ...</td>\n",
              "      <td>RESOLVED</td>\n",
              "      <td>FIXED</td>\n",
              "      <td>2</td>\n",
              "      <td>10/10/2001 21:34</td>\n",
              "      <td>5/7/2010 10:28</td>\n",
              "    </tr>\n",
              "    <tr>\n",
              "      <th>3</th>\n",
              "      <td>4</td>\n",
              "      <td>P5</td>\n",
              "      <td>Team</td>\n",
              "      <td>NaN</td>\n",
              "      <td>need better error message if catching up over read-only resource (1GF69TF)</td>\n",
              "      <td>- become synchronized with some project in a repository; - use a different Eclipse to make a change to a file resource within this project and release it to the repository; - in the original Eclipse mark this file resource as being read-only (select it; right-click -&gt; Properties; change; OK); - select the file resource; right-click -&gt; Team -&gt; Synchronize with Stream; - in the subsequent comparison view select the file resource; right-click -&gt; Catchup; - since it has been marked as read-only there are inevitable problems.  However the error dialog that is shown; \\tdoes not offer much assistance (An IO error occurred: IO Error); ; ; NOTES:</td>\n",
              "      <td>RESOLVED</td>\n",
              "      <td>FIXED</td>\n",
              "      <td>2</td>\n",
              "      <td>10/10/2001 21:34</td>\n",
              "      <td>3/1/2002 16:27</td>\n",
              "    </tr>\n",
              "    <tr>\n",
              "      <th>4</th>\n",
              "      <td>5</td>\n",
              "      <td>P3</td>\n",
              "      <td>Team</td>\n",
              "      <td>NaN</td>\n",
              "      <td>ISharingManager sharing API inconsistent (1GAUL8H)</td>\n",
              "      <td>For getting/setting the managed state of a resource; the methods are:; ; isManaged(resource) and; manage(resource); ; for getting/setting the ignore state; the methods are:; ; getIgnored(resource); setIgnored(resource); ; These should be made more consistent.  I suggest renaming ignore methods:; ; isIgnored(resource) and; ignore(resource).; ; I think its good practice to not use get and set in method names unless its really; just a field accessor.; ; NOTES:</td>\n",
              "      <td>RESOLVED</td>\n",
              "      <td>WONTFIX</td>\n",
              "      <td>2</td>\n",
              "      <td>10/10/2001 21:34</td>\n",
              "      <td>8/15/2008 8:04</td>\n",
              "    </tr>\n",
              "    <tr>\n",
              "      <th>...</th>\n",
              "      <td>...</td>\n",
              "      <td>...</td>\n",
              "      <td>...</td>\n",
              "      <td>...</td>\n",
              "      <td>...</td>\n",
              "      <td>...</td>\n",
              "      <td>...</td>\n",
              "      <td>...</td>\n",
              "      <td>...</td>\n",
              "      <td>...</td>\n",
              "      <td>...</td>\n",
              "    </tr>\n",
              "    <tr>\n",
              "      <th>85151</th>\n",
              "      <td>424679</td>\n",
              "      <td>P3</td>\n",
              "      <td>IDE</td>\n",
              "      <td>390071.0</td>\n",
              "      <td>Crash on bootstarp</td>\n",
              "      <td>NaN</td>\n",
              "      <td>CLOSED</td>\n",
              "      <td>DUPLICATE</td>\n",
              "      <td>4.3</td>\n",
              "      <td>12/26/2013 20:12</td>\n",
              "      <td>12/31/2013 5:32</td>\n",
              "    </tr>\n",
              "    <tr>\n",
              "      <th>85152</th>\n",
              "      <td>424714</td>\n",
              "      <td>P3</td>\n",
              "      <td>UI</td>\n",
              "      <td>NaN</td>\n",
              "      <td>[GTK/Linux] Blank Windows with GTK3</td>\n",
              "      <td>I started testing 4.4 and noticed the editor windows; package explorer; etc (all my views) are blank. I can see line numbers at left; and if I open; e.g. the updater window; I can see the contents without any problems. Since this was my first time using eclipse on this system; I tried 4.3 and all views were displaying contents. Then I started 4.3 with SWT_GTK3=1 and all contents were gone. So this is something to do with GTK3 but I have no idea of what else should I use to debug the issue.</td>\n",
              "      <td>CLOSED</td>\n",
              "      <td>NDUPLICATE</td>\n",
              "      <td>4.4</td>\n",
              "      <td>12/28/2013 8:57</td>\n",
              "      <td>1/4/2014 13:54</td>\n",
              "    </tr>\n",
              "    <tr>\n",
              "      <th>85153</th>\n",
              "      <td>424722</td>\n",
              "      <td>P3</td>\n",
              "      <td>Website</td>\n",
              "      <td>NaN</td>\n",
              "      <td>software</td>\n",
              "      <td>NaN</td>\n",
              "      <td>RESOLVED</td>\n",
              "      <td>INVALID</td>\n",
              "      <td>4.3.1</td>\n",
              "      <td>12/29/2013 3:57</td>\n",
              "      <td>1/7/2014 8:47</td>\n",
              "    </tr>\n",
              "    <tr>\n",
              "      <th>85154</th>\n",
              "      <td>424764</td>\n",
              "      <td>P3</td>\n",
              "      <td>SWT</td>\n",
              "      <td>NaN</td>\n",
              "      <td>Crash (MacOS) - getIvar</td>\n",
              "      <td>Process:         eclipse [42412]; Path:            /Applications/eclipse.app/Eclipse.app/Contents/MacOS/eclipse; Identifier:      org.eclipse.sdk.ide; Version:         4.4.0 (4.4.0.I20131212-1600); Code Type:       X86-64 (Native); Parent Process:  ??? [1]; Responsible:     eclipse [42412]; User ID:         501; ; Date/Time:       2013-12-30 13:35:05.349 -0800; OS Version:      Mac OS X 10.9.1 (13B42); Report Version:  11; Anonymous UUID:  A1947271-CB55-A569-0A50-6F98CD512F75; ; Sleep/Wake UUID: AD41B295-97E2-4AB9-9A0B-91468C5B209E; ; Crashed Thread:  0  Dispatch queue: com.apple.main-thread; ; Exception Type:  EXC_BAD_ACCESS (SIGSEGV); Exception Codes: EXC_I386_GPFLT; ; Application Specific Information:; Java information:;  Exception type: Bus Error (0xa) at pc=7fff8870d957;  ;  Java VM: Java HotSpot(TM) 64-Bit Server VM (20.65-b04-462 mixed mode macosx-amd64);  ; Current thread (106000800):  JavaThread main [_thread_in_native; id=1921835792; stack(7fff5f400000;7fff5fc00000)]; Sta...</td>\n",
              "      <td>CLOSED</td>\n",
              "      <td>NDUPLICATE</td>\n",
              "      <td>4.4</td>\n",
              "      <td>12/30/2013 16:43</td>\n",
              "      <td>12/31/2013 4:35</td>\n",
              "    </tr>\n",
              "    <tr>\n",
              "      <th>85155</th>\n",
              "      <td>424767</td>\n",
              "      <td>P3</td>\n",
              "      <td>IDE</td>\n",
              "      <td>NaN</td>\n",
              "      <td>eclipse</td>\n",
              "      <td>NaN</td>\n",
              "      <td>CLOSED</td>\n",
              "      <td>INVALID</td>\n",
              "      <td>3.2.2</td>\n",
              "      <td>12/30/2013 18:05</td>\n",
              "      <td>12/31/2013 4:21</td>\n",
              "    </tr>\n",
              "  </tbody>\n",
              "</table>\n",
              "<p>85156 rows × 11 columns</p>\n",
              "</div>\n",
              "      <button class=\"colab-df-convert\" onclick=\"convertToInteractive('df-934f3bef-f42f-48ba-9f45-375bdee95bf8')\"\n",
              "              title=\"Convert this dataframe to an interactive table.\"\n",
              "              style=\"display:none;\">\n",
              "        \n",
              "  <svg xmlns=\"http://www.w3.org/2000/svg\" height=\"24px\"viewBox=\"0 0 24 24\"\n",
              "       width=\"24px\">\n",
              "    <path d=\"M0 0h24v24H0V0z\" fill=\"none\"/>\n",
              "    <path d=\"M18.56 5.44l.94 2.06.94-2.06 2.06-.94-2.06-.94-.94-2.06-.94 2.06-2.06.94zm-11 1L8.5 8.5l.94-2.06 2.06-.94-2.06-.94L8.5 2.5l-.94 2.06-2.06.94zm10 10l.94 2.06.94-2.06 2.06-.94-2.06-.94-.94-2.06-.94 2.06-2.06.94z\"/><path d=\"M17.41 7.96l-1.37-1.37c-.4-.4-.92-.59-1.43-.59-.52 0-1.04.2-1.43.59L10.3 9.45l-7.72 7.72c-.78.78-.78 2.05 0 2.83L4 21.41c.39.39.9.59 1.41.59.51 0 1.02-.2 1.41-.59l7.78-7.78 2.81-2.81c.8-.78.8-2.07 0-2.86zM5.41 20L4 18.59l7.72-7.72 1.47 1.35L5.41 20z\"/>\n",
              "  </svg>\n",
              "      </button>\n",
              "      \n",
              "  <style>\n",
              "    .colab-df-container {\n",
              "      display:flex;\n",
              "      flex-wrap:wrap;\n",
              "      gap: 12px;\n",
              "    }\n",
              "\n",
              "    .colab-df-convert {\n",
              "      background-color: #E8F0FE;\n",
              "      border: none;\n",
              "      border-radius: 50%;\n",
              "      cursor: pointer;\n",
              "      display: none;\n",
              "      fill: #1967D2;\n",
              "      height: 32px;\n",
              "      padding: 0 0 0 0;\n",
              "      width: 32px;\n",
              "    }\n",
              "\n",
              "    .colab-df-convert:hover {\n",
              "      background-color: #E2EBFA;\n",
              "      box-shadow: 0px 1px 2px rgba(60, 64, 67, 0.3), 0px 1px 3px 1px rgba(60, 64, 67, 0.15);\n",
              "      fill: #174EA6;\n",
              "    }\n",
              "\n",
              "    [theme=dark] .colab-df-convert {\n",
              "      background-color: #3B4455;\n",
              "      fill: #D2E3FC;\n",
              "    }\n",
              "\n",
              "    [theme=dark] .colab-df-convert:hover {\n",
              "      background-color: #434B5C;\n",
              "      box-shadow: 0px 1px 3px 1px rgba(0, 0, 0, 0.15);\n",
              "      filter: drop-shadow(0px 1px 2px rgba(0, 0, 0, 0.3));\n",
              "      fill: #FFFFFF;\n",
              "    }\n",
              "  </style>\n",
              "\n",
              "      <script>\n",
              "        const buttonEl =\n",
              "          document.querySelector('#df-934f3bef-f42f-48ba-9f45-375bdee95bf8 button.colab-df-convert');\n",
              "        buttonEl.style.display =\n",
              "          google.colab.kernel.accessAllowed ? 'block' : 'none';\n",
              "\n",
              "        async function convertToInteractive(key) {\n",
              "          const element = document.querySelector('#df-934f3bef-f42f-48ba-9f45-375bdee95bf8');\n",
              "          const dataTable =\n",
              "            await google.colab.kernel.invokeFunction('convertToInteractive',\n",
              "                                                     [key], {});\n",
              "          if (!dataTable) return;\n",
              "\n",
              "          const docLinkHtml = 'Like what you see? Visit the ' +\n",
              "            '<a target=\"_blank\" href=https://colab.research.google.com/notebooks/data_table.ipynb>data table notebook</a>'\n",
              "            + ' to learn more about interactive tables.';\n",
              "          element.innerHTML = '';\n",
              "          dataTable['output_type'] = 'display_data';\n",
              "          await google.colab.output.renderOutput(dataTable, element);\n",
              "          const docLink = document.createElement('div');\n",
              "          docLink.innerHTML = docLinkHtml;\n",
              "          element.appendChild(docLink);\n",
              "        }\n",
              "      </script>\n",
              "    </div>\n",
              "  </div>\n",
              "  "
            ]
          },
          "metadata": {},
          "execution_count": 73
        }
      ]
    },
    {
      "cell_type": "code",
      "source": [],
      "metadata": {
        "id": "aAQ7mi0ejdA0"
      },
      "execution_count": null,
      "outputs": []
    },
    {
      "cell_type": "code",
      "execution_count": 12,
      "metadata": {
        "id": "BCVZf0j5NfOu",
        "colab": {
          "base_uri": "https://localhost:8080/"
        },
        "outputId": "17f2f00d-6ef6-47e3-9fea-64e166c98d9d"
      },
      "outputs": [
        {
          "output_type": "stream",
          "name": "stdout",
          "text": [
            "CPU times: user 30.4 s, sys: 308 ms, total: 30.7 s\n",
            "Wall time: 33.3 s\n"
          ]
        }
      ],
      "source": [
        "%%time\n",
        "\n",
        "def wordTokenizationAndLemmatization(report):\n",
        "\n",
        "    new_report = []\n",
        "    for token in SIMPLE_PREPROCESS(report):\n",
        "        if token not in STOP_WORDS:\n",
        "          if len(token) > 5:\n",
        "            new_report.append(WordNetLemmatizer().lemmatize(token, pos='v'))\n",
        "    return new_report\n",
        "\n",
        "bug_report['Title'] = bug_report['Title'].apply(lambda x: wordTokenizationAndLemmatization(x))\n",
        "bug_report['Description'] = bug_report['Description'].apply(lambda x: wordTokenizationAndLemmatization(x))\n",
        "\n",
        "# bug_report.head()"
      ]
    },
    {
      "cell_type": "code",
      "execution_count": 13,
      "metadata": {
        "id": "8GG56OFYO1Wx",
        "colab": {
          "base_uri": "https://localhost:8080/"
        },
        "outputId": "01c3f020-02cd-48b4-e3d7-4b2b559413b2"
      },
      "outputs": [
        {
          "output_type": "stream",
          "name": "stdout",
          "text": [
            "CPU times: user 274 ms, sys: 10.8 ms, total: 284 ms\n",
            "Wall time: 286 ms\n"
          ]
        }
      ],
      "source": [
        "%%time\n",
        "\n",
        "duplicated_reports = bug_report.dropna(axis=0, subset=['Duplicated_issue'])\n",
        "duplicated_reports.reset_index(drop=True, inplace=True)\n",
        "duplicated_reports.to_csv('duplicate_reports.csv')\n",
        "# duplicated_reports"
      ]
    },
    {
      "cell_type": "code",
      "execution_count": 14,
      "metadata": {
        "id": "NI8-J1wIRfFu",
        "colab": {
          "base_uri": "https://localhost:8080/"
        },
        "outputId": "92795373-a010-4357-81f5-c8cc0585a09e"
      },
      "outputs": [
        {
          "output_type": "stream",
          "name": "stdout",
          "text": [
            "CPU times: user 1.06 s, sys: 42.9 ms, total: 1.1 s\n",
            "Wall time: 1.11 s\n"
          ]
        }
      ],
      "source": [
        "%%time\n",
        "\n",
        "master_reports = bug_report[bug_report.isnull().any(axis=1)]\n",
        "master_reports.reset_index(drop=True, inplace=True)\n",
        "master_reports.to_csv('master_reports.csv')\n",
        "# master_reports"
      ]
    },
    {
      "cell_type": "code",
      "execution_count": 15,
      "metadata": {
        "id": "nhFgIK5ll1vN",
        "colab": {
          "base_uri": "https://localhost:8080/"
        },
        "outputId": "30f04c02-ae17-4e0d-8c25-29534ef6de89"
      },
      "outputs": [
        {
          "output_type": "stream",
          "name": "stdout",
          "text": [
            "CPU times: user 1.99 s, sys: 10.1 ms, total: 2 s\n",
            "Wall time: 2.02 s\n"
          ]
        }
      ],
      "source": [
        "%%time\n",
        "\n",
        "dictionary = gensim.corpora.Dictionary(master_reports['Description'])\n",
        "dictionary.filter_extremes(no_below=15, no_above=0.5, keep_n=100000)\n",
        "\n",
        "count = 0\n",
        "for key, value in dictionary.iteritems():\n",
        "#   print(key, value)\n",
        "  count += 1\n",
        "  if count > 100:\n",
        "      break\n"
      ]
    },
    {
      "cell_type": "code",
      "source": [],
      "metadata": {
        "id": "kmzrP2ysrj4d"
      },
      "execution_count": null,
      "outputs": []
    },
    {
      "cell_type": "code",
      "execution_count": 16,
      "metadata": {
        "id": "bGdCkvESbmUO",
        "colab": {
          "base_uri": "https://localhost:8080/"
        },
        "outputId": "17ccd7b2-4f12-42c1-82f0-fbc3374f0916"
      },
      "outputs": [
        {
          "output_type": "stream",
          "name": "stdout",
          "text": [
            "CPU times: user 2.01 s, sys: 76.9 ms, total: 2.08 s\n",
            "Wall time: 2.1 s\n"
          ]
        }
      ],
      "source": [
        "%%time\n",
        "\n",
        "bag_of_words_corpus = [dictionary.doc2bow(doc, allow_update=True) for doc in master_reports['Description']]\n",
        "# bag_of_words_corpus[0]"
      ]
    },
    {
      "cell_type": "code",
      "execution_count": null,
      "metadata": {
        "id": "flK_bC9Tcn8w"
      },
      "outputs": [],
      "source": [
        "%%time\n",
        "\n",
        "bag_of_words_doc = bag_of_words_corpus[0]\n",
        "\n",
        "for i in range(len(bag_of_words_doc)):\n",
        "    print(\"{}. \\\"{}\\\" word seen {} time.\".format(i+1, dictionary[bag_of_words_doc[i][0]], bag_of_words_doc[i][1]))\n",
        "                                               "
      ]
    },
    {
      "cell_type": "code",
      "source": [
        "mallet_path = '/content/mallet-2.0.8/bin/mallet'"
      ],
      "metadata": {
        "id": "4M12tHl4rOO7"
      },
      "execution_count": null,
      "outputs": []
    },
    {
      "cell_type": "code",
      "source": [
        "ldamallet = gensim.models.wrappers.LdaMallet(mallet_path, corpus=bag_of_words_corpus, num_topics=10, id2word=dictionary)"
      ],
      "metadata": {
        "id": "TZSoZjE0rOZC"
      },
      "execution_count": null,
      "outputs": []
    },
    {
      "cell_type": "code",
      "source": [
        "from pprint import pprint\n",
        "# display topics\n",
        "pprint(ldamallet.show_topics(formatted=False))"
      ],
      "metadata": {
        "id": "MVhJJH_UtMB9"
      },
      "execution_count": null,
      "outputs": []
    },
    {
      "cell_type": "code",
      "source": [
        "import pickle\n",
        "pickle.dump(ldamallet, open(\"drive/My Drive/ldamallet.pkl\", \"wb\"))"
      ],
      "metadata": {
        "id": "GA0a72r6t0w8"
      },
      "execution_count": null,
      "outputs": []
    },
    {
      "cell_type": "code",
      "source": [
        "ldamallet = pickle.load(open(\"drive/My Drive/ldamallet.pkl\", \"rb\"))\n",
        "# ldamallet.print_topics()"
      ],
      "metadata": {
        "id": "xzWilbLnurYr"
      },
      "execution_count": 17,
      "outputs": []
    },
    {
      "cell_type": "code",
      "source": [
        "%%time\n",
        "\n",
        "\n",
        "for c in range(10):\n",
        "    exec('topic{} = pd.DataFrame()'.format(c))\n",
        "    for i in range(len(master_reports)):\n",
        "        topic=ldamallet[dictionary.doc2bow(master_reports.Description[i])]\n",
        "        topic= np.asarray(topic)\n",
        "        if int(topic[np.argmax(topic[:,1]),0])== c:\n",
        "            exec('topic{} = topic{}.append(master_reports.loc[[i]])'.format(c,c))\n",
        "            exec('topic{} = topic{}.reset_index(drop=True)'.format(c,c))\n",
        "            exec('topic{}.to_csv(\"topic{}.csv\")'.format(c,c))"
      ],
      "metadata": {
        "colab": {
          "base_uri": "https://localhost:8080/"
        },
        "id": "epgCrzNPvgnT",
        "outputId": "f000d36d-ec86-4cac-8df0-2e9e1e7de49e"
      },
      "execution_count": null,
      "outputs": [
        {
          "output_type": "stream",
          "name": "stdout",
          "text": [
            "CPU times: user 1h 32min 59s, sys: 3min 53s, total: 1h 36min 52s\n",
            "Wall time: 1h 39min 56s\n"
          ]
        }
      ]
    },
    {
      "cell_type": "code",
      "source": [
        "%%time\n",
        "\n",
        "for c in range(10):\n",
        "  exec('topic{} = pd.read_csv(\"topic{}.csv\", error_bad_lines=False, engine=\"python\")'.format(c,c))\n",
        "  exec(\"topic{}= topic{}.drop(columns=['Unnamed: 0'])\".format(c,c))\n",
        "  exec(\"topic{}['Description'] = topic{}['Description'].map(wordTokenizationAndLemmatization)\".format(c,c))"
      ],
      "metadata": {
        "colab": {
          "base_uri": "https://localhost:8080/"
        },
        "id": "s7u3pZdqTyLu",
        "outputId": "09811a0c-ce2a-4ea5-b294-372f59f85df7"
      },
      "execution_count": 18,
      "outputs": [
        {
          "output_type": "stream",
          "name": "stdout",
          "text": [
            "CPU times: user 10.6 s, sys: 152 ms, total: 10.8 s\n",
            "Wall time: 11 s\n"
          ]
        }
      ]
    },
    {
      "cell_type": "code",
      "source": [
        "%%time\n",
        "\n",
        "for i in range(10):\n",
        "  exec('sent{} = []'.format(i))\n",
        "  exec('x = topic{}'.format(i))\n",
        "  for j in range(len(x)):\n",
        "    exec('sent{}.append(topic{}.Description[{}])'.format(i,i,j))"
      ],
      "metadata": {
        "colab": {
          "base_uri": "https://localhost:8080/"
        },
        "id": "Qxk8xo-jUDl9",
        "outputId": "494240e9-6914-4019-f0ec-e6668193654b"
      },
      "execution_count": 19,
      "outputs": [
        {
          "output_type": "stream",
          "name": "stdout",
          "text": [
            "CPU times: user 1.56 s, sys: 6.6 ms, total: 1.57 s\n",
            "Wall time: 1.57 s\n"
          ]
        }
      ]
    },
    {
      "cell_type": "code",
      "source": [
        "%%time\n",
        "\n",
        "#Length of all the cluster\n",
        "for sent in range(10):\n",
        "  exec('print(len(sent{}))'.format(sent))\n",
        "  "
      ],
      "metadata": {
        "id": "sPBAVr1aUMZd"
      },
      "execution_count": null,
      "outputs": []
    },
    {
      "cell_type": "code",
      "source": [],
      "metadata": {
        "id": "tGyEQfdM2ZPY"
      },
      "execution_count": null,
      "outputs": []
    },
    {
      "cell_type": "code",
      "source": [],
      "metadata": {
        "id": "pRy0oOmn2ZWS"
      },
      "execution_count": null,
      "outputs": []
    },
    {
      "cell_type": "code",
      "source": [],
      "metadata": {
        "id": "bMYnaXmf2ZbV"
      },
      "execution_count": null,
      "outputs": []
    },
    {
      "cell_type": "code",
      "source": [],
      "metadata": {
        "id": "NXl1WfMCvgwD"
      },
      "execution_count": null,
      "outputs": []
    },
    {
      "cell_type": "code",
      "execution_count": null,
      "metadata": {
        "id": "ChXCgWEbky4d"
      },
      "outputs": [],
      "source": [
        "%%time\n",
        "\n",
        "corpus = bag_of_words_corpus\n",
        "\n",
        "lda_model = gensim.models.LdaMulticore(corpus, num_topics=10, id2word=dictionary, passes=20, workers=2, iterations=100)\n",
        "\n",
        "pprint(lda_model.print_topics())"
      ]
    },
    {
      "cell_type": "code",
      "source": [
        "file = open('drive/My Drive/dictionary.pickle', 'wb')\n",
        "\n",
        "# dump information to that file\n",
        "pickle.dump(dictionary, file)"
      ],
      "metadata": {
        "id": "_0rc-Hgr7gIg"
      },
      "execution_count": 24,
      "outputs": []
    },
    {
      "cell_type": "code",
      "source": [
        "f= open('drive/My Drive/bow_corpus.pickle', 'wb')\n",
        "\n",
        "# dump information to that file\n",
        "pickle.dump(bag_of_words_corpus, f)"
      ],
      "metadata": {
        "id": "rn3mtb-67o0u"
      },
      "execution_count": 27,
      "outputs": []
    },
    {
      "cell_type": "code",
      "source": [
        "f = open('drive/My Drive/bow_corpus.pickle', 'rb')\n",
        "bow_corpus=pickle.load(f)\n",
        "\n",
        "file = open('drive/My Drive/dictionary.pickle', 'rb')\n",
        "dictionary=pickle.load(file)\n",
        "\n"
      ],
      "metadata": {
        "id": "e0Lbx9bs7xYe"
      },
      "execution_count": null,
      "outputs": []
    },
    {
      "cell_type": "code",
      "source": [
        "# later on, load trained model from file\n",
        "lda_model =  models.LdaModel.load('drive/My Drive/lda_model.model')\n",
        "pprint(lda_model.print_topics())"
      ],
      "metadata": {
        "id": "KhZnSRvktl7L"
      },
      "execution_count": null,
      "outputs": []
    },
    {
      "cell_type": "code",
      "source": [
        "lda_model.save('drive/My Drive/lda_model.model')"
      ],
      "metadata": {
        "id": "D3Dyy9GV7gcV"
      },
      "execution_count": null,
      "outputs": []
    },
    {
      "cell_type": "code",
      "execution_count": null,
      "metadata": {
        "id": "27qLz3BEqOX9"
      },
      "outputs": [],
      "source": [
        "%%time\n",
        "\n",
        "print('\\nPerplexity: ', lda_model.log_perplexity(bag_of_words_corpus))\n",
        "\n",
        "coherence_model_lda = CoherenceModel(model=lda_model, texts=bug_report['Description'], dictionary=dictionary, coherence='c_v')\n",
        "coherence_lda = coherence_model_lda.get_coherence()\n",
        "print('\\nCoherence Score: ', coherence_lda)"
      ]
    },
    {
      "cell_type": "code",
      "source": [
        "%%time\n",
        "\n",
        "pyLDAvis.enable_notebook()\n",
        "vis = pyLDAvis.gensim_models.prepare(lda_model, bag_of_words_corpus, dictionary)\n",
        "vis"
      ],
      "metadata": {
        "id": "HqHW1B1A-ayd"
      },
      "execution_count": null,
      "outputs": []
    },
    {
      "cell_type": "code",
      "execution_count": 68,
      "metadata": {
        "id": "HRFgJ1k5AxlL",
        "colab": {
          "base_uri": "https://localhost:8080/"
        },
        "outputId": "414a32db-7106-4049-ea54-798fcf18b283"
      },
      "outputs": [
        {
          "output_type": "stream",
          "name": "stdout",
          "text": [
            "['project', 'contain', 'resource', 'release', 'project', 'resource', 'external', 'editor', 'paintshop', 'external', 'editor', 'navigator', 'resource', 'verify', 'change', 'release', 'project', 'release', 'navigator', 'resource', 'verify', 'change', 'problem', 'refresh', 'workspace', 'change', 'release', 'open', 'resource']\n"
          ]
        }
      ],
      "source": [
        "unseen_document = \"setup a project that contains a gif resource release project to cvs edit the gif resource with an external editor eg paintshop save and close external editor in navigator open the icon resource and verify that your changes are there release project nothing to release in navigator open the icon resource and verify that your changes are still there problem because i never refreshed from local the workspace hasnt changed so release didnt find anything however opening the resource with.\"\n",
        "\n",
        "topic=wordTokenizationAndLemmatization(unseen_document)\n",
        "\n",
        "# bow_vector = topic=ldamallet[dictionary.doc2bow(wordTokenizationAndLemmatization(unseen_document))]\n",
        "print(topic)\n",
        "\n",
        "# for index, score in sorted(ldamallet[bow_vector], key=lambda tup: -1*tup[1]):\n",
        "#     print(\"Score: {}\\t Topic: {}\".format(score, ldamallet.print_topic(index, 10)))"
      ]
    },
    {
      "cell_type": "code",
      "source": [],
      "metadata": {
        "id": "2ac6ac5dvY1m"
      },
      "execution_count": null,
      "outputs": []
    },
    {
      "cell_type": "code",
      "source": [],
      "metadata": {
        "id": "8mCBA9q4iw7q"
      },
      "execution_count": null,
      "outputs": []
    },
    {
      "cell_type": "code",
      "source": [
        "%%time\n",
        "\n",
        "\n",
        "for c in range(10):\n",
        "    exec('topic_{} = pd.DataFrame()'.format(c))\n",
        "    for i in range(len(master_reports)):\n",
        "        topic=lda_model[dictionary.doc2bow(master_reports.Description[i])]\n",
        "        topic= np.asarray(topic)\n",
        "        if int(topic[np.argmax(topic[:,1]),0])== c:\n",
        "            exec('topic_{} = topic_{}.append(master_reports.loc[[i]])'.format(c,c))\n",
        "            exec('topic_{} = topic_{}.reset_index(drop=True)'.format(c,c))\n",
        "            exec('topic_{}.to_csv(\"topic_{}.csv\")'.format(c,c))\n"
      ],
      "metadata": {
        "id": "XPzbhsN5-Xes"
      },
      "execution_count": null,
      "outputs": []
    },
    {
      "cell_type": "code",
      "source": [
        "%%time\n",
        "\n",
        "for c in range(10):\n",
        "  exec('topic_{} = pd.read_csv(\"topic_{}.csv\", error_bad_lines=False, engine=\"python\")'.format(c,c))\n",
        "  exec(\"topic_{}= topic_{}.drop(columns=['Unnamed: 0'])\".format(c,c))\n",
        "  exec(\"topic_{}['Description'] = topic_{}['Description'].map(wordTokenizationAndLemmatization)\".format(c,c))"
      ],
      "metadata": {
        "id": "fvGI5cB5EtHT",
        "colab": {
          "base_uri": "https://localhost:8080/"
        },
        "outputId": "76877474-e174-461e-f326-2e86782f99af"
      },
      "execution_count": null,
      "outputs": [
        {
          "output_type": "stream",
          "name": "stdout",
          "text": [
            "CPU times: user 10.7 s, sys: 295 ms, total: 11 s\n",
            "Wall time: 11 s\n"
          ]
        }
      ]
    },
    {
      "cell_type": "code",
      "source": [
        "%%time\n",
        "\n",
        "for i in range(10):\n",
        "  exec('sent_{} = []'.format(i))\n",
        "  exec('x = topic_{}'.format(i))\n",
        "  for j in range(len(x)):\n",
        "    exec('sent_{}.append(topic_{}.Description[{}])'.format(i,i,j))"
      ],
      "metadata": {
        "id": "_oWRctuPEtRh",
        "colab": {
          "base_uri": "https://localhost:8080/"
        },
        "outputId": "29640d4f-c9ef-4740-bd32-5fdacfa75fb0"
      },
      "execution_count": null,
      "outputs": [
        {
          "output_type": "stream",
          "name": "stdout",
          "text": [
            "CPU times: user 1.72 s, sys: 11.7 ms, total: 1.73 s\n",
            "Wall time: 1.75 s\n"
          ]
        }
      ]
    },
    {
      "cell_type": "code",
      "source": [
        "%%time\n",
        "\n",
        "#Length of all the cluster\n",
        "for sent in range(10):\n",
        "  exec('print(len(sent_{}))'.format(sent))\n",
        "  "
      ],
      "metadata": {
        "id": "GCU0HmnvEu83"
      },
      "execution_count": null,
      "outputs": []
    },
    {
      "cell_type": "code",
      "source": [
        "!pip install glove-python-binary"
      ],
      "metadata": {
        "id": "Z3sqWvNMF0nk",
        "colab": {
          "base_uri": "https://localhost:8080/"
        },
        "outputId": "90429fdb-45e6-48c4-bcaf-1b99762d0449"
      },
      "execution_count": 23,
      "outputs": [
        {
          "output_type": "stream",
          "name": "stdout",
          "text": [
            "Looking in indexes: https://pypi.org/simple, https://us-python.pkg.dev/colab-wheels/public/simple/\n",
            "Collecting glove-python-binary\n",
            "  Downloading glove_python_binary-0.2.0-cp38-cp38-manylinux1_x86_64.whl (974 kB)\n",
            "\u001b[2K     \u001b[90m━━━━━━━━━━━━━━━━━━━━━━━━━━━━━━━━━━━━━━\u001b[0m \u001b[32m974.9/974.9 kB\u001b[0m \u001b[31m10.4 MB/s\u001b[0m eta \u001b[36m0:00:00\u001b[0m\n",
            "\u001b[?25hRequirement already satisfied: numpy in /usr/local/lib/python3.8/dist-packages (from glove-python-binary) (1.21.6)\n",
            "Requirement already satisfied: scipy in /usr/local/lib/python3.8/dist-packages (from glove-python-binary) (1.7.3)\n",
            "Installing collected packages: glove-python-binary\n",
            "Successfully installed glove-python-binary-0.2.0\n",
            "\u001b[33mWARNING: Running pip as the 'root' user can result in broken permissions and conflicting behaviour with the system package manager. It is recommended to use a virtual environment instead: https://pip.pypa.io/warnings/venv\u001b[0m\u001b[33m\n",
            "\u001b[0m"
          ]
        }
      ]
    },
    {
      "cell_type": "code",
      "source": [
        "from gensim.models import Word2Vec,FastText\n",
        "from gensim.test.utils import get_tmpfile\n",
        "from glove import Glove, Corpus\n",
        "import glove"
      ],
      "metadata": {
        "id": "dmOr5-jBF6a0"
      },
      "execution_count": 24,
      "outputs": []
    },
    {
      "cell_type": "code",
      "source": [
        "%%time\n",
        "\n",
        "for cluster in range(10):\n",
        "  #Preparing parameters for model training\n",
        "  exec('corpus = sent{}'.format(cluster))    # Path to a corpus file\n",
        "  vector_size = 100                           # Dimensionality of the word vectors\n",
        "  w = 6                                       #Maximum distance between the current and predicted word within a sentence\n",
        "  min_count = 5                               # Ignores all words with total frequency lower than this.\n",
        "  CBoW = 0                                    # Training algorithm: 1 for skip-gram; otherwise CBOW(The model tries to predict the target word by trying to understand the context of the surrounding words.).\n",
        "  iterations = 100\n",
        "\n",
        "  exec('w2vmodel_ldamallet{} = Word2Vec(corpus, size=vector_size, window=w, min_count=min_count, sg=CBoW, iter=iterations)'.format(cluster))\n",
        "\n",
        "  exec('path = get_tmpfile(\"drive/My Drive/word2vec_ldamallet{}.model\")'.format(cluster))\n",
        "  exec('w2vmodel_ldamallet{}.save(\"drive/My Drive/word2vec_ldamallet{}.model\")'.format(cluster, cluster))"
      ],
      "metadata": {
        "id": "nBX9m2-dJkHn",
        "colab": {
          "base_uri": "https://localhost:8080/"
        },
        "outputId": "864248e9-9807-4f00-8d0f-2591708e7633"
      },
      "execution_count": 33,
      "outputs": [
        {
          "output_type": "stream",
          "name": "stdout",
          "text": [
            "CPU times: user 4min 49s, sys: 2.55 s, total: 4min 51s\n",
            "Wall time: 2min 46s\n"
          ]
        }
      ]
    },
    {
      "cell_type": "code",
      "source": [
        "%%time\n",
        "\n",
        "for cluster in range(10):\n",
        "  #Preparing parameters for model training\n",
        "  exec('corpus = sent{}'.format(cluster))\n",
        "  vector_size = 100\n",
        "  w = 6\n",
        "  min_count = 5\n",
        "  CBoW = 0\n",
        "  iterations = 100\n",
        "\n",
        "  #Training FastText model for each cluster\n",
        "  exec ('ftmodel_ldamallet{} = FastText(corpus, size=vector_size, window=w, min_count=min_count, sg=CBoW, iter=iterations)'.format(cluster))\n",
        "\n",
        "  #Save the all the models in individual file\n",
        "  exec('path = get_tmpfile(\"drive/My Drive/ftmodel_ldamallet{}.model\")'.format(cluster))\n",
        "  exec('ftmodel_ldamallet{}.save(\"drive/My Drive/ftmodel_ldamallet{}.model\")'.format(cluster, cluster))"
      ],
      "metadata": {
        "id": "3HXkmcU6P7Pf",
        "colab": {
          "base_uri": "https://localhost:8080/"
        },
        "outputId": "837e18c7-fdbc-49cd-aefb-a21fd984d27b"
      },
      "execution_count": 34,
      "outputs": [
        {
          "output_type": "stream",
          "name": "stdout",
          "text": [
            "CPU times: user 31min 57s, sys: 7.77 s, total: 32min 5s\n",
            "Wall time: 17min 17s\n"
          ]
        }
      ]
    },
    {
      "cell_type": "code",
      "source": [
        "%%time\n",
        "\n",
        "for cluster in range(10):\n",
        "  vector_size = 100\n",
        "  exec('glove_corpus{}=Corpus()'.format(cluster, cluster)) \n",
        "  exec('glove_corpus{}.fit(sent{})'.format(cluster, cluster))\n",
        "  exec('glove_ldamallet{}= Glove(no_components=vector_size, learning_rate=0.18, alpha=0.75, max_count=100, max_loss=10.0, random_state=None)'.format(cluster, cluster))\n",
        "  exec('glove_ldamallet{}.fit(glove_corpus{}.matrix, epochs=1000, no_threads=3, verbose=True)'.format(cluster, cluster))\n",
        "  exec('transformer = lambda dictionary2:glove_m{}.transform_paragraph(words, epochs=1000,ignore_missing=False)'.format(cluster, cluster))\n",
        "  exec('glove_ldamallet{}.add_dictionary(glove_corpus{}.dictionary)'.format(cluster, cluster))\n",
        "\n",
        "  #Save the all the models in individual file\n",
        "  exec('path = get_tmpfile(\"drive/My Drive/glove_ldamallet{}.model\")'.format(cluster))\n",
        "  exec('glove_ldamallet{}.save(\"drive/My Drive/glove_ldamallet{}.model\")'.format(cluster, cluster))"
      ],
      "metadata": {
        "id": "pKUt-5j0PZXp"
      },
      "execution_count": null,
      "outputs": []
    },
    {
      "cell_type": "code",
      "source": [
        "from sklearn.metrics.pairwise import cosine_similarity\n",
        "from sklearn.decomposition import PCA\n",
        "from scipy.spatial import distance\n",
        "warnings.filterwarnings(\"ignore\", category=DeprecationWarning)\n",
        "from glove import Glove, Corpus"
      ],
      "metadata": {
        "id": "98vfxCOR6KEE"
      },
      "execution_count": 25,
      "outputs": []
    },
    {
      "cell_type": "code",
      "source": [
        "test = duplicated_reports\n",
        "test.head()\n",
        "print(len(test))"
      ],
      "metadata": {
        "id": "dC1jZeek8icQ",
        "colab": {
          "base_uri": "https://localhost:8080/"
        },
        "outputId": "d6ee89d6-599a-4561-f72b-3c8ca8eeba62"
      },
      "execution_count": 26,
      "outputs": [
        {
          "output_type": "stream",
          "name": "stdout",
          "text": [
            "14398\n"
          ]
        }
      ]
    },
    {
      "cell_type": "code",
      "source": [
        "for mod in range(10):\n",
        "  #import all the trained Word2Vec models\n",
        "  exec('w2vmodel_ldamallet{} = Word2Vec.load(\"drive/My Drive/word2vec_ldamallet{}.model\")'.format(mod, mod))\n",
        "\n",
        "  #import all the trained FastText models\n",
        "  exec('ftmodel_ldamallet{} = FastText.load(\"drive/My Drive/ftmodel_ldamallet{}.model\")'.format(mod, mod))\n",
        "\n",
        "  #import all the trained GloVe models\n",
        "  exec('glove_ldamallet{} = Glove.load(\"drive/My Drive/glove_ldamallet{}.model\")'.format(mod, mod))"
      ],
      "metadata": {
        "id": "tiGu4uEJBnEE"
      },
      "execution_count": 27,
      "outputs": []
    },
    {
      "cell_type": "code",
      "source": [
        "for mod in range(10):\n",
        "    exec(\"print(list(w2vmodel_ldamallet{}.wv.vocab))\".format(mod))"
      ],
      "metadata": {
        "id": "lyEDJEvslPb1"
      },
      "execution_count": null,
      "outputs": []
    },
    {
      "cell_type": "code",
      "source": [
        "def sim_with_clusters_lda_topn(DR, n):\n",
        "    vec_bow = dictionary.doc2bow(DR)\n",
        "    x= ldamallet[vec_bow]\n",
        "    topic = np.asarray(x)\n",
        "    # max_sim = int(topic[np.argmax(topic[:,1]),0]) \n",
        "    # max_sim\n",
        "    sim=[]\n",
        "    x= topic[np.argsort(topic[:,1])[-n:][::-1],0]\n",
        "    for i in range(len(x)):\n",
        "        sim.append(int(x[i]))\n",
        "    # return max_sim\n",
        "    return sim\n"
      ],
      "metadata": {
        "id": "2-2O22UzCTY8"
      },
      "execution_count": 28,
      "outputs": []
    },
    {
      "cell_type": "code",
      "source": [
        "def average_word_vectors_glove(words, model, vocabulary, num_features):  \n",
        "    feature_vector = np.zeros((num_features,),dtype=\"float64\")\n",
        "    nwords = 0.  \n",
        "\n",
        "    for word in words:\n",
        "        if word in vocabulary: \n",
        "            nwords = nwords + 1.\n",
        "            feature_vector = np.add(feature_vector, model.word_vectors[model.dictionary[word]])\n",
        "\n",
        "    if nwords:\n",
        "        feature_vector = np.divide(feature_vector, nwords)\n",
        "        \n",
        "    return feature_vector\n",
        "    \n",
        "\n",
        "\n",
        "def averaged_word_vectorizer_glove(corpus, model, num_features):\n",
        "    vocabulary = set(model.dictionary)\n",
        "    if(any(isinstance(i, list) for i in corpus)):\n",
        "      features = [average_word_vectors_glove(tokenized_sentence, model, vocabulary, num_features)\n",
        "                      for tokenized_sentence in corpus]\n",
        "      return np.array(features)\n",
        "    else:\n",
        "      features = average_word_vectors_glove(corpus, model, vocabulary, num_features)\n",
        "      return np.array(features)\n"
      ],
      "metadata": {
        "id": "9L-exeNIMYDR"
      },
      "execution_count": 29,
      "outputs": []
    },
    {
      "cell_type": "code",
      "source": [
        "def average_word_vectors_ft(words, model, vocabulary, num_features):\n",
        "    \n",
        "    feature_vector = np.zeros((num_features,),dtype=\"float64\")\n",
        "    nwords = 0.\n",
        "    \n",
        "    for word in words:\n",
        "        if word in vocabulary: \n",
        "            nwords = nwords + 1.\n",
        "            feature_vector = np.add(feature_vector, model[word])\n",
        "    \n",
        "    if nwords:\n",
        "        feature_vector = np.divide(feature_vector, nwords)\n",
        "        \n",
        "    return feature_vector\n",
        "    \n",
        "def averaged_word_vectorizer_ft(corpus, model, num_features):\n",
        "    vocabulary = set(model.wv.index2word)\n",
        "    if(any(isinstance(i, list) for i in corpus)):\n",
        "      features = [average_word_vectors_ft(tokenized_sentence, model, vocabulary, num_features)\n",
        "                      for tokenized_sentence in corpus]\n",
        "      return np.array(features)\n",
        "    else:\n",
        "      features = average_word_vectors_ft(corpus, model, vocabulary, num_features)\n",
        "      return np.array(features)"
      ],
      "metadata": {
        "id": "bU4WPJWpM54e"
      },
      "execution_count": 30,
      "outputs": []
    },
    {
      "cell_type": "code",
      "source": [
        "def average_word_vectors_word2vec(words, model, vocabulary, num_features):\n",
        "    feature_vector = np.zeros((num_features,),dtype=\"float64\")\n",
        "    nwords = 0.\n",
        "    \n",
        "    for word in words:\n",
        "        if word in vocabulary: \n",
        "            nwords = nwords + 1.\n",
        "            feature_vector = np.add(feature_vector, model[word])\n",
        "    \n",
        "    if nwords:\n",
        "        feature_vector = np.divide(feature_vector, nwords)\n",
        "        \n",
        "    return feature_vector\n",
        "\n",
        "def averaged_word_vectorizer_word2vec(corpus, model, num_features):\n",
        "    vocabulary = set(model.wv.vocab)\n",
        "    if(any(isinstance(i, list) for i in corpus)):\n",
        "      features = [average_word_vectors_word2vec(tokenized_sentence, model, vocabulary, num_features)\n",
        "                      for tokenized_sentence in corpus]\n",
        "      return np.array(features)\n",
        "    else:\n",
        "      features = average_word_vectors_word2vec(corpus, model, vocabulary, num_features)\n",
        "      return np.array(features)"
      ],
      "metadata": {
        "id": "aPcRFEWksANl"
      },
      "execution_count": 31,
      "outputs": []
    },
    {
      "cell_type": "code",
      "source": [
        "def sim(vec1, vec2): \n",
        "  sim1 = 1/(1+distance.euclidean(vec1, vec2))\n",
        "  sim2 = cosine_similarity(vec1, vec2)\n",
        "  sim=(sim1+sim2)/2 \n",
        "  return sim"
      ],
      "metadata": {
        "id": "fmnJtYmNM9eD"
      },
      "execution_count": 32,
      "outputs": []
    },
    {
      "cell_type": "code",
      "source": [
        "def fusion3(vec1, vec2, vec3, vec4, vec5, vec6, fusion_no):\n",
        "    if (fusion_no == '4'):\n",
        "        master = np.concatenate((vec1, vec2, vec3), axis=1)\n",
        "        pca = PCA(n_components=100)\n",
        "        # avg_fit = pca.fit(master)\n",
        "        master = pca.fit_transform(master)\n",
        "        vec_duplicate = np.concatenate((vec4, vec5, vec6), axis=0)\n",
        "        vec_duplicate=[vec_duplicate]\n",
        "        vec_duplicate = pca.transform(vec_duplicate)\n",
        "        return vec_duplicate, master\n",
        "\n",
        "    else:\n",
        "        raise ValueError('Invalid value for fusion')"
      ],
      "metadata": {
        "id": "LnMBbuHtNCAz"
      },
      "execution_count": 33,
      "outputs": []
    },
    {
      "cell_type": "code",
      "source": [
        "def fusion2(vec1, vec2, vec3, vec4, fusion_no):\n",
        "    if (fusion_no == '2'):\n",
        "        master = np.concatenate((vec1, vec2), axis=1)\n",
        "        pca = PCA(n_components=50)\n",
        "        avg_fit = pca.fit(master)\n",
        "        master = pca.transform(master)\n",
        "        vec_duplicate = np.concatenate((vec3, vec4), axis=0)\n",
        "        vec_duplicate=[vec_duplicate]\n",
        "        vec_duplicate = pca.transform(vec_duplicate)\n",
        "        return vec_duplicate, master\n",
        "    \n",
        "    else:\n",
        "        raise ValueError('Invalid value for fusion')"
      ],
      "metadata": {
        "id": "-xVqNZKBVPfV"
      },
      "execution_count": 39,
      "outputs": []
    },
    {
      "cell_type": "code",
      "source": [
        "# creation of feature vectors by multimodality feature extraction\n",
        "def feature_vectors_multi_modality(DR, corpus, model1, model2, model3, fusion_no):\n",
        "\n",
        "    master_ft1 = averaged_word_vectorizer_ft(corpus=sent, model=model1, num_features=100)\n",
        "    master_glove2 = averaged_word_vectorizer_glove(corpus=sent, model=model2, num_features=100)\n",
        "    master_w2v3 = averaged_word_vectorizer_word2vec(corpus=sent, model=model3, num_features=100)\n",
        "\n",
        "    vec_duplicate1 = averaged_word_vectorizer_ft(corpus=DR, model=model1, num_features=100)\n",
        "    vec_duplicate2 = averaged_word_vectorizer_glove(corpus=DR, model=model2, num_features=100)\n",
        "    vec_duplicate3 = averaged_word_vectorizer_word2vec(corpus=DR, model=model3, num_features=100)\n",
        "\n",
        "    vec_duplicate , master= fusion3(master_ft1,  master_glove2, master_w2v3, vec_duplicate1,  vec_duplicate2, vec_duplicate3, fusion_no)\n",
        "    # vec_duplicate , master= fusion2(master_ft1, master_w2v3, vec_duplicate1, vec_duplicate3, fusion_no)\n",
        "\n",
        "    return vec_duplicate,master"
      ],
      "metadata": {
        "id": "3m_-gQpUNDmE"
      },
      "execution_count": 55,
      "outputs": []
    },
    {
      "cell_type": "code",
      "source": [
        "def feature_vectors_single_modality(DR, corpus, model1):\n",
        "  master = averaged_word_vectorizer_ft(corpus=sent, model=model1, num_features=100)\n",
        "\n",
        "  vec_duplicate = averaged_word_vectorizer_ft(corpus=DR, model=model1, num_features=100)\n",
        "\n",
        "  vec_duplicate = [vec_duplicate]\n",
        "\n",
        "  return vec_duplicate, master"
      ],
      "metadata": {
        "id": "PFbao1hgBqPt"
      },
      "execution_count": 47,
      "outputs": []
    },
    {
      "cell_type": "code",
      "source": [
        "def compare_topn(model1, model2, model3, cluster, sent, DR, topn, modal, fusion_no):\n",
        "    similarity=[]\n",
        "\n",
        "    if (modal == 'multi'):\n",
        "    #create feature vectors for duplicate and master reports using multimodality\n",
        "        vec_duplicate, master= feature_vectors_multi_modality(DR, sent, model1, model2, model3, fusion_no)\n",
        "    elif (modal == 'single'):\n",
        "        vec_duplicate, master= feature_vectors_single_modality(DR, sent, model1)\n",
        "    else:\n",
        "        raise ValueError('Invalid Modality entered')\n",
        "\n",
        "    for doc in range(len(master)):\n",
        "        vec_master = master[doc]\n",
        "        vec_master= [vec_master]\n",
        "        unified_sim = sim(vec_duplicate, vec_master)\n",
        "\n",
        "        similarity.append(unified_sim)\n",
        "\n",
        "    similarity = np.asarray(similarity)\n",
        "    similarity= np.concatenate(similarity, axis=0 )\n",
        "    similarity= np.concatenate(similarity, axis=0 )\n",
        "    max_similar_reports=similarity.argsort()[-topn:][::-1]\n",
        "\n",
        "    return(max_similar_reports)"
      ],
      "metadata": {
        "id": "3QHPmr7yNMlj"
      },
      "execution_count": 48,
      "outputs": []
    },
    {
      "cell_type": "code",
      "source": [
        "# Recall Rate for Top-2.5K reports (Because Top-N where N = n * topn (2.5K = 3*833)) \n",
        "vec_acc=[]\n",
        "t1 = time.time()\n",
        "sum = 0\n",
        "no_of_test_samples= int(200)\n",
        "for i in range(200):\n",
        "  sample = test.Description[i] #The test sample (duplicate report)\n",
        "  n = 1\n",
        "  max_cluster = sim_with_clusters_lda_topn(sample, n)\n",
        "  v=[]\n",
        "  print(i)\n",
        "  for max in max_cluster:\n",
        "    exec('cluster = topic{}'.format(max))              #The predicted cluster\n",
        "    exec('model1 = ftmodel_ldamallet{}'.format(max))              #The trained FastText model for the predicted cluster   (can be changed to other model as well viz. glove or word2vec)\n",
        "    exec('model2 = glove_ldamallet{}'.format(max))  \n",
        "    exec('model3 = w2vmodel_ldamallet{}'.format(max))              #The trained Word2Vec model for the predicted cluster   (Doesn't count if using single modality)\n",
        "    exec('sent = topic{}.Description'.format(max))     #The vocabulary for the predicted cluster\n",
        "    topn = 833                                          #The number of predicted master report for single predicted cluster\n",
        "    fusion_no = '4'   #Doesn't count if single modality #The selection of fusion used to fuse the word embeddings of two different models  (4 gives the best results)\n",
        "    # modal = 'multi'\n",
        "    modal = 'multi'                                    #Whether you want to use single feature extraction model or multi model ( for single, it'll consider just model1)\n",
        "     #This will return the Top-N predicted master reports\n",
        "    max_sim = compare_topn(model1, model2, model3, cluster, sent, sample, topn, modal, fusion_no)\n",
        "    t2 = time.time()\n",
        "\n",
        "    #Comparing the predicted value to the ground truth\n",
        "    for num in max_sim:\n",
        "      if (cluster.Issue_id[num] == test.Duplicated_issue[i]):\n",
        "          v.append(\"1\")\n",
        "      else:\n",
        "          v.append(\"0\")\n",
        "  \n",
        "  if(all(x==v[0] for x in v)):\n",
        "    vec_acc.append(\"0\")\n",
        "  else:\n",
        "    vec_acc.append(\"1\")\n",
        "\n",
        "print(v)\n",
        "print(len(vec_acc))\n",
        "print(vec_acc)\n",
        "#Evaluating the performance by Recall Rate\n",
        "\n",
        "for i,num in enumerate(vec_acc):\n",
        "    sum = sum + int(num)\n",
        "recall_rate = (sum/len(vec_acc))*100\n",
        "print(\"Recall Rate : {} %\".format(recall_rate))\n",
        "print(\"Time : \", (t2-t1)/60, \"min\")"
      ],
      "metadata": {
        "id": "OSgdUKyxbbNi",
        "colab": {
          "base_uri": "https://localhost:8080/"
        },
        "outputId": "06564aea-4364-4911-801e-ad8c058836d1"
      },
      "execution_count": 57,
      "outputs": [
        {
          "output_type": "stream",
          "name": "stdout",
          "text": [
            "0\n",
            "1\n",
            "2\n",
            "3\n",
            "4\n",
            "5\n",
            "6\n",
            "7\n",
            "8\n",
            "9\n",
            "10\n",
            "11\n",
            "12\n",
            "13\n",
            "14\n",
            "15\n",
            "16\n",
            "17\n",
            "18\n",
            "19\n",
            "20\n",
            "21\n",
            "22\n",
            "23\n",
            "24\n",
            "25\n",
            "26\n",
            "27\n",
            "28\n",
            "29\n",
            "30\n",
            "31\n",
            "32\n",
            "33\n",
            "34\n",
            "35\n",
            "36\n",
            "37\n",
            "38\n",
            "39\n",
            "40\n",
            "41\n",
            "42\n",
            "43\n",
            "44\n",
            "45\n",
            "46\n",
            "47\n",
            "48\n",
            "49\n",
            "50\n",
            "51\n",
            "52\n",
            "53\n",
            "54\n",
            "55\n",
            "56\n",
            "57\n",
            "58\n",
            "59\n",
            "60\n",
            "61\n",
            "62\n",
            "63\n",
            "64\n",
            "65\n",
            "66\n",
            "67\n",
            "68\n",
            "69\n",
            "70\n",
            "71\n",
            "72\n",
            "73\n",
            "74\n",
            "75\n",
            "76\n",
            "77\n",
            "78\n",
            "79\n",
            "80\n",
            "81\n",
            "82\n",
            "83\n",
            "84\n",
            "85\n",
            "86\n",
            "87\n",
            "88\n",
            "89\n",
            "90\n",
            "91\n",
            "92\n",
            "93\n",
            "94\n",
            "95\n",
            "96\n",
            "97\n",
            "98\n",
            "99\n",
            "100\n",
            "101\n",
            "102\n",
            "103\n",
            "104\n",
            "105\n",
            "106\n",
            "107\n",
            "108\n",
            "109\n",
            "110\n",
            "111\n",
            "112\n",
            "113\n",
            "114\n",
            "115\n",
            "116\n",
            "117\n",
            "118\n",
            "119\n",
            "120\n",
            "121\n",
            "122\n",
            "123\n",
            "124\n",
            "125\n",
            "126\n",
            "127\n",
            "128\n",
            "129\n",
            "130\n",
            "131\n",
            "132\n",
            "133\n",
            "134\n",
            "135\n",
            "136\n",
            "137\n",
            "138\n",
            "139\n",
            "140\n",
            "141\n",
            "142\n",
            "143\n",
            "144\n",
            "145\n",
            "146\n",
            "147\n",
            "148\n",
            "149\n",
            "150\n",
            "151\n",
            "152\n",
            "153\n",
            "154\n",
            "155\n",
            "156\n",
            "157\n",
            "158\n",
            "159\n",
            "160\n",
            "161\n",
            "162\n",
            "163\n",
            "164\n",
            "165\n",
            "166\n",
            "167\n",
            "168\n",
            "169\n",
            "170\n",
            "171\n",
            "172\n",
            "173\n",
            "174\n",
            "175\n",
            "176\n",
            "177\n",
            "178\n",
            "179\n",
            "180\n",
            "181\n",
            "182\n",
            "183\n",
            "184\n",
            "185\n",
            "186\n",
            "187\n",
            "188\n",
            "189\n",
            "190\n",
            "191\n",
            "192\n",
            "193\n",
            "194\n",
            "195\n",
            "196\n",
            "197\n",
            "198\n",
            "199\n",
            "['0', '0', '0', '0', '0', '0', '0', '0', '0', '0', '0', '0', '0', '0', '0', '0', '0', '0', '0', '0', '0', '0', '0', '0', '0', '0', '0', '0', '0', '0', '0', '0', '0', '0', '0', '0', '0', '0', '0', '0', '0', '0', '0', '0', '0', '0', '0', '0', '0', '0', '0', '0', '0', '0', '0', '0', '0', '0', '0', '0', '0', '0', '0', '0', '0', '0', '0', '0', '0', '0', '0', '0', '0', '0', '0', '0', '0', '0', '0', '0', '0', '0', '0', '0', '0', '0', '0', '0', '0', '0', '0', '0', '0', '0', '0', '0', '0', '0', '0', '0', '0', '0', '0', '0', '0', '0', '0', '0', '0', '0', '0', '0', '0', '0', '0', '0', '0', '0', '0', '0', '0', '0', '0', '0', '0', '0', '0', '0', '0', '0', '0', '0', '0', '0', '0', '0', '0', '0', '0', '0', '0', '0', '0', '0', '0', '0', '0', '0', '0', '0', '0', '0', '0', '0', '0', '0', '0', '0', '0', '0', '0', '0', '0', '0', '0', '0', '0', '0', '0', '0', '0', '0', '0', '0', '0', '0', '0', '0', '0', '0', '0', '0', '0', '0', '0', '0', '0', '0', '0', '0', '0', '0', '0', '0', '0', '0', '0', '0', '0', '0', '0', '0', '0', '0', '0', '0', '0', '0', '0', '0', '0', '0', '0', '0', '0', '0', '0', '0', '0', '0', '0', '0', '0', '0', '0', '0', '0', '0', '0', '0', '0', '0', '0', '0', '0', '0', '0', '0', '0', '0', '0', '0', '0', '0', '0', '0', '0', '0', '0', '0', '0', '0', '0', '0', '0', '0', '0', '0', '0', '0', '0', '0', '0', '0', '0', '0', '0', '0', '0', '0', '0', '0', '0', '0', '0', '0', '0', '0', '0', '0', '0', '0', '0', '0', '0', '0', '0', '0', '0', '0', '0', '0', '0', '0', '0', '0', '0', '0', '0', '0', '0', '0', '0', '0', '0', '0', '0', '0', '0', '0', '0', '0', '0', '0', '0', '0', '0', '0', '0', '0', '0', '0', '0', '0', '0', '0', '0', '0', '0', '0', '0', '0', '0', '0', '0', '0', '0', '0', '0', '0', '0', '0', '0', '0', '0', '0', '0', '0', '0', '0', '0', '0', '0', '0', '0', '0', '0', '0', '0', '0', '0', '0', '0', '0', '0', '0', '0', '0', '0', '0', '0', '0', '0', '0', '0', '0', '0', '0', '0', '0', '0', '0', '0', '0', '0', '0', '0', '0', '0', '0', '0', '0', '0', '0', '0', '0', '0', '0', '0', '0', '0', '0', '0', '0', '0', '0', '0', '0', '0', '0', '0', '0', '0', '0', '0', '0', '0', '0', '0', '0', '0', '0', '0', '0', '0', '0', '0', '0', '0', '0', '0', '0', '0', '0', '0', '0', '0', '0', '0', '0', '0', '0', '0', '0', '0', '0', '0', '0', '0', '0', '0', '0', '0', '0', '0', '0', '0', '0', '0', '0', '0', '0', '0', '0', '0', '0', '0', '0', '0', '0', '0', '0', '0', '0', '0', '0', '0', '0', '0', '0', '0', '0', '0', '0', '0', '0', '0', '0', '0', '0', '0', '0', '0', '0', '0', '0', '0', '0', '0', '0', '0', '0', '0', '0', '0', '0', '0', '0', '0', '0', '0', '0', '0', '0', '0', '0', '0', '0', '0', '0', '0', '0', '0', '0', '0', '0', '0', '0', '0', '0', '0', '0', '0', '0', '0', '0', '0', '0', '0', '0', '0', '0', '0', '0', '0', '0', '0', '0', '0', '0', '0', '0', '0', '0', '0', '0', '0', '0', '0', '0', '0', '0', '0', '0', '0', '0', '0', '0', '0', '0', '0', '0', '0', '0', '0', '0', '0', '0', '0', '0', '0', '0', '0', '0', '0', '0', '0', '0', '0', '0', '0', '0', '0', '0', '0', '0', '0', '0', '0', '0', '0', '0', '0', '0', '0', '0', '0', '0', '0', '0', '0', '0', '0', '0', '0', '0', '0', '0', '0', '0', '0', '0', '0', '0', '0', '0', '0', '0', '0', '0', '0', '0', '0', '0', '0', '0', '0', '0', '0', '0', '0', '0', '0', '0', '0', '0', '0', '0', '0', '0', '0', '0', '0', '0', '0', '0', '0', '0', '0', '0', '0', '0', '0', '0', '0', '0', '0', '0', '0', '0', '0', '0', '0', '0', '0', '0', '0', '0', '0', '0', '0', '0', '0', '0', '0', '0', '0', '0', '0', '0', '0', '0', '0', '0', '0', '0', '0', '0', '0', '0', '0', '0', '0', '0', '0', '0', '0', '0', '0', '0', '0', '0', '0', '0', '0', '0', '0', '0', '0', '0', '0', '0', '0', '0', '0', '0', '0', '0', '0', '0', '0', '0', '0', '0', '0', '0', '0', '0', '0', '0', '0', '0', '0', '0', '0', '0', '0', '0', '0', '0', '0', '0', '0', '0', '0', '0', '0', '0', '0', '0', '0', '0', '0', '0', '0', '0', '0', '0', '0', '0', '0', '0', '0', '0', '0', '0', '0', '0', '0', '0', '0', '0', '0', '0', '0', '0', '0', '0', '0', '0', '0', '0', '0', '0', '0', '0', '0', '0', '0', '0', '0', '0', '0', '0', '0', '0', '0', '0', '0', '0', '0', '0', '0', '0', '0', '0', '0', '0', '0', '0', '0', '0', '0', '0', '0', '0', '0', '0', '0', '0', '0', '0', '0']\n",
            "200\n",
            "['0', '1', '1', '1', '1', '0', '1', '1', '0', '1', '1', '1', '0', '0', '0', '0', '0', '1', '1', '0', '1', '0', '0', '1', '0', '0', '0', '0', '0', '0', '0', '0', '1', '1', '1', '1', '0', '0', '0', '1', '0', '1', '1', '0', '0', '0', '0', '1', '0', '0', '1', '1', '0', '0', '0', '0', '1', '1', '1', '0', '0', '0', '0', '1', '0', '0', '1', '0', '1', '0', '0', '0', '0', '1', '0', '0', '0', '1', '1', '1', '0', '0', '0', '0', '1', '0', '0', '1', '1', '0', '1', '1', '0', '1', '0', '1', '0', '1', '0', '0', '1', '0', '0', '0', '0', '1', '0', '0', '0', '0', '1', '0', '1', '0', '1', '1', '0', '0', '1', '0', '1', '0', '0', '0', '1', '0', '0', '0', '0', '0', '0', '0', '0', '1', '1', '1', '0', '0', '0', '0', '0', '0', '0', '1', '0', '0', '0', '1', '0', '0', '0', '0', '1', '1', '0', '1', '0', '0', '1', '1', '0', '1', '1', '0', '0', '0', '0', '0', '1', '0', '0', '0', '1', '0', '0', '1', '0', '0', '0', '0', '0', '1', '0', '0', '0', '1', '0', '1', '0', '0', '0', '1', '0', '0', '0', '0', '1', '1', '0', '0']\n",
            "Recall Rate : 35.5 %\n",
            "Time :  20.696988864739737 min\n"
          ]
        }
      ]
    },
    {
      "cell_type": "code",
      "source": [
        "import random\n",
        "from tabulate import tabulate\n",
        "\n",
        "# topic = random.randint(0, 14398)\n",
        "# print(topic)\n",
        "# sample = test.Description[topic] #The test sample (duplicate report)\n",
        "# print(sample)\n",
        "sample = 'Online Grammar and Writing Checker To Help You Deliver Impeccable, Mistake-free Writing. Grammarly Has a Tool For Just About Every Kind Of Writing You Do. Try It Out For Yourself! Easily Improve Any Text. Find and Add Sources Fast. Eliminate Grammar Errors.'\n",
        "sample = wordTokenizationAndLemmatization(sample)\n",
        "print(sample)\n",
        "max_cluster = sim_with_clusters_lda_topn(sample, 1)\n",
        "print(max_cluster)\n",
        "\n",
        "for max in max_cluster:\n",
        "    exec('cluster = topic{}'.format(max))              #The predicted cluster\n",
        "    exec('model1 = ftmodel_ldamallet{}'.format(max))              #The trained FastText model for the predicted cluster   (can be changed to other model as well viz. glove or word2vec)\n",
        "    exec('model2 = glove_ldamallet{}'.format(max))  \n",
        "    exec('model3 = w2vmodel_ldamallet{}'.format(max))              #The trained Word2Vec model for the predicted cluster   (Doesn't count if using single modality)\n",
        "    exec('sent = topic{}.Description'.format(max))     #The vocabulary for the predicted cluster\n",
        "    topn = 10                                          #The number of predicted master report for single predicted cluster\n",
        "    fusion_no = '4'   #Doesn't count if single modality #The selection of fusion used to fuse the word embeddings of two different models  (4 gives the best results)\n",
        "    modal = 'multi'\n",
        "                                      #Whether you want to use single feature extraction model or multi model ( for single, it'll consider just model1)\n",
        "     #This will return the Top-N predicted duplicate reports\n",
        "    max_sim = compare_topn(model1, model2, model3, cluster, sent, sample, topn, modal, fusion_no)\n",
        "    max_sim = max_sim.tolist()\n",
        "    print(max_sim)\n",
        "    \n",
        "    \n",
        "    for num in max_sim:\n",
        "      id = cluster.Issue_id[num]\n",
        "\n",
        "      title = (result.loc[result['Issue_id'] == id, 'Title']).to_string(index = False)\n",
        "      desc = (result.loc[result['Issue_id'] == id, 'Description']).to_string(index = False)\n",
        "      priority = (result.loc[result['Issue_id'] == id, 'Priority']).to_string(index = False)\n",
        "      team = (result.loc[result['Issue_id'] == id, 'Component']).to_string(index = False)\n",
        "\n",
        "      print('Title: ', title)\n",
        "      print('Description: ', desc)\n",
        "      print('Priority:', priority)\n",
        "      print('Team:', team)\n",
        "    \n",
        "   "
      ],
      "metadata": {
        "id": "v84xm8i6iY-a",
        "colab": {
          "base_uri": "https://localhost:8080/"
        },
        "outputId": "76f44461-1769-4602-8d69-3a6d84b87282"
      },
      "execution_count": 81,
      "outputs": [
        {
          "output_type": "stream",
          "name": "stdout",
          "text": [
            "['online', 'grammar', 'write', 'checker', 'deliver', 'impeccable', 'mistake', 'write', 'grammarly', 'write', 'easily', 'improve', 'source', 'eliminate', 'grammar', 'errors']\n",
            "[3]\n",
            "[1936, 11048, 10472, 10598, 11126, 10920, 10055, 5311, 2135, 1795]\n",
            "Title:  [Tasks] Improvements in sort order\n",
            "Description:  build I20030128; ; Philippe asks:; ; Is there any chance to get the normal tasks to be sorted behind error markers ; for M5 ?; ; I cant find a PR for this one; though I remember having seen/entered one. The ; current behavior makes it feel like tasks are more severe than errors.; ; ; Nick replies:; ; My feeling is that user generated tasks -are- always more important than ; problems generated by the compiler.; Now that we have auto-generated tasks; they could be treated differently; but ; it would be strange to have tasks show up in two different places with problems ; in between.; ; ; Erich opines:; ; Considering the lifetime of a compiler error and a user task then we see that; compiler errors typically have a shorter lifetime (I want my program to ; compile so that I can run it) than; user defined task (I want my program to be clean). Based on this fact I would ; conclude; that compile errors are more important since they require my immediate ; attention whereas; tasks are more m...\n",
            "Priority: P3\n",
            "Team: UI\n",
            "Title:  [CBI] Our gather and summarize scripts misses some compile errors and warnings\n",
            "Description:  According to ; ; http://download.eclipse.org/eclipse/downloads/drops4cbibased/I20130213-2011/testResults.php ; ; There are no compile errors in the build; but a) the PDE based build says theres one ... and looking directly on file system; I see ; ;  <problem_summary errors=1 problems=131 tasks=0 warnings=130/>; ; in .../eclipse.platform.releng.aggregator/eclipse.pde.ui/ui/org.eclipse.pde.core/target/@dot.xml. ; ; So ... were somehow missing it? ; ; Looks like this is one on the critical path so have marked as blocker.\n",
            "Priority: P3\n",
            "Team: Releng\n",
            "Title:  Invalid performance results (negative CPU time)\n",
            "Description:  The recent performance tests I20110419-1004 seem to contain a number of weird jumps in both 3.6.2 baseline and the I-build.; ; For an extreme example; see ; http://fullmoon.ottawa.ibm.com/downloads/drops/I20110419-1004/performance/epwin3/Scenario376.html; ; where the baseline elapsed process time is reported as -12.74s.; ; It is fairly important to both address this quickly and remove invalid values from the database as they will break the statistics comparison and render performance tests invalid.\n",
            "Priority: P2\n",
            "Team: Releng\n",
            "Title:  No JaCoCo reports for recent builds\n",
            "Description:  Looking at recent I-builds and even 3.8M3 I cant find any JaCoCo reports.; These pages are just empty:; ; http://download.eclipse.org/eclipse/downloads/drops/I20111027-1300/coverage.php; http://download.eclipse.org/eclipse/downloads/drops/I20111027-1800/coverage.php; http://download.eclipse.org/eclipse/downloads/drops/I20111101-0800/coverage.php; http://download.eclipse.org/eclipse/downloads/drops/S-3.8M3-201110271800/coverage.php; ; I hope this can be easily brought back to live.\n",
            "Priority: P3\n",
            "Team: Releng\n",
            "Title:  A number of .class files changed; after changing to M7 JDT compiler\n",
            "Description:  Besides other comparator bugs Ive opened recently; ; see bug 407623 and bug 407624 there are many new ones differences; in I20130509-2000 ... presumably because I changed the version of JDT Compiler we are using (changed to the M7 version). ; ; See ; http://download.eclipse.org/eclipse/downloads/drops4/I20130509-2000/buildlogs/comparatorlogs/buildtimeComparatorUnanticipated.log; ; and; as usual; since the qualifier did not change; the old baseline version was used instead in the packages and repos; not the newly compiled versions. ; ; I suggest ; ; 1) JDT Team take a quick peek at a few cases of byte codes to make sure changes are what would be expected (in my experience; changes such as this are seldom bad ... just some slightly different optimization; or similar). and ; ; 2) If JDT team reports no obvious problems; Id suggest teams touch those bundles before RC1; to make sure qualifiers increase; and our released code is what was actually compiled by latest compiler. (Note; well l...\n",
            "Priority: P3\n",
            "Team: Releng\n",
            "Title:  test results sometimes do not get routed back to right download page summary\n",
            "Description:  Specific case: Our M20120905-2300 (RC3 candidate) shows only windows tests summarized and linked to page. But; looking on hudson logs; there was a linux test that completed normally at ; ; https://hudson.eclipse.org/hudson/view/Eclipse%20and%20Equinox/job/eclipse-JUnit-Linux2/230/; ; I think the main cause is part of our logic is at the end of a build; we has hudson for next build number and use that to figure out what job to watch and where to put the results once we get them back. ; ; But; if there are several jobs in the que; my guess is next build number reports the same thing (before each added to que). So our results from M20120905-2300 might actually have ended up on the M20120905-1640 page? ; ; So ... we need to do something to improve this logic and flow. ; ; This isnt an issue if no jobs in que; just when we get busy. ; ; Just wanted to capture the issue for now.\n",
            "Priority: P2\n",
            "Team: Releng\n",
            "Title:  faster test builds in hudson\n",
            "Description:  Currently; we run can run test builds on Hudson.  We cant run real builds because we dont have the test machines at the Foundation. Hopefully; this will change in the near future. ; ; Today our hudson build takes about three hours to run; depending on the load on build.eclipse.org.  This is still a long time and a lot of the zips that are produced are not very useful for someone that just wants to test if their bundles were built properly or if there were compile errors.; ; Im proposing splitting up the hudson build its chained into multiple stages such as; 1) Build bundles; generate product metadata and publish to a repository; 2) Run the install for the various platforms; zip them up; create build web pages; 3) Test SDKs and publish test results\n",
            "Priority: P3\n",
            "Team: Releng\n",
            "Title:  A reminder to tweak narrow_book.css\n",
            "Description:  The two special-case CSSs need to be tweaked for 3.1.\n",
            "Priority: P2\n",
            "Team: Doc\n",
            "Title:  Missing capitalization on project charter page\n",
            "Description:  http://www.eclipse.org/eclipse/eclipse-charter.html; ; About 1/3 of the way down the charter when talking about the JDT subproject; ; JDT Debug is listed as JDt Debug.\n",
            "Priority: P3\n",
            "Team: Releng\n",
            "Title:  Missing Class org.eclipse.jface.ApplicationWindow in jface.jar\n",
            "Description:  Why missing Class org.eclipse.jface.ApplicationWindow in jface.jar since M4?; I cant find this class in jar?\n",
            "Priority: P3\n",
            "Team: UI\n"
          ]
        }
      ]
    },
    {
      "cell_type": "code",
      "source": [],
      "metadata": {
        "id": "7VcMkLFDCmfK"
      },
      "execution_count": null,
      "outputs": []
    }
  ],
  "metadata": {
    "colab": {
      "provenance": [],
      "mount_file_id": "1wikVEsG5Du7VgfmpcFObe3NA0FJtKWWv",
      "authorship_tag": "ABX9TyOugt4We0EmwkzIuZuwojp9",
      "include_colab_link": true
    },
    "kernelspec": {
      "display_name": "Python 3",
      "name": "python3"
    },
    "language_info": {
      "name": "python"
    }
  },
  "nbformat": 4,
  "nbformat_minor": 0
}